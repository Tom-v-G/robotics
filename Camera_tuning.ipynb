{
 "cells": [
  {
   "cell_type": "code",
   "execution_count": 1,
   "metadata": {
    "ExecuteTime": {
     "end_time": "2023-06-02T12:18:03.607090Z",
     "start_time": "2023-06-02T12:18:01.173352Z"
    },
    "collapsed": true
   },
   "outputs": [
    {
     "name": "stdout",
     "output_type": "stream",
     "text": [
      "camera_connected\n"
     ]
    }
   ],
   "source": [
    "from jetcam.csi_camera import CSICamera\n",
    "\n",
    "import numpy as np\n",
    "import cv2\n",
    "import ipywidgets\n",
    "from IPython.display import display\n",
    "from jetcam.utils import bgr8_to_jpeg\n",
    "\n",
    "image_widget1 = ipywidgets.Image(format='jpeg')\n",
    "image_widget2 = ipywidgets.Image(format='jpeg')\n",
    "image_widget3 = ipywidgets.Image(format='jpeg')\n",
    "image_widget4 = ipywidgets.Image(format='jpeg')\n",
    "image_widget5 = ipywidgets.Image(format='jpeg')\n",
    "camera = CSICamera(width=300, height=300)\n",
    "print(\"camera_connected\")"
   ]
  },
  {
   "cell_type": "markdown",
   "metadata": {
    "collapsed": false
   },
   "source": []
  },
  {
   "cell_type": "code",
   "execution_count": 2,
   "metadata": {
    "ExecuteTime": {
     "end_time": "2023-06-02T12:18:04.524138Z",
     "start_time": "2023-06-02T12:18:04.488139Z"
    },
    "collapsed": false
   },
   "outputs": [],
   "source": [
    "def get_contours(image, threshold=0):\n",
    "    gray = cv2.cvtColor(image, cv2.COLOR_BGR2GRAY)\n",
    "    _, thresh = cv2.threshold(gray, threshold, 255, cv2.THRESH_BINARY)\n",
    "    contours, hierarchy = cv2.findContours(thresh, cv2.RETR_TREE, cv2.CHAIN_APPROX_NONE)\n",
    "    return contours"
   ]
  },
  {
   "cell_type": "code",
   "execution_count": 3,
   "metadata": {
    "ExecuteTime": {
     "end_time": "2023-06-02T12:18:06.698712Z",
     "start_time": "2023-06-02T12:18:06.684288Z"
    },
    "collapsed": false
   },
   "outputs": [],
   "source": [
    "def update_image(widget, frame):\n",
    "    widget.value = bgr8_to_jpeg(frame)"
   ]
  },
  {
   "cell_type": "code",
   "execution_count": 4,
   "metadata": {
    "ExecuteTime": {
     "end_time": "2023-06-02T12:18:08.374027Z",
     "start_time": "2023-06-02T12:18:08.333026Z"
    },
    "collapsed": false
   },
   "outputs": [],
   "source": [
    "font = cv2.FONT_HERSHEY_SIMPLEX\n",
    "org = (50, 50)\n",
    "fontScale = 0.5\n",
    "color = (255, 0, 0)\n",
    "thickness = 2\n",
    "\n",
    "\n",
    "def create_object_marker(image, area, x, y, w, h):\n",
    "    cv2.rectangle(image, (x, y), (x + w, y + h), (255, 0, 0), 2)\n",
    "    cv2.putText(image, f\"bottom: {h + y}\", (x + 5, y + 15), font, fontScale, color, thickness, cv2.LINE_AA)\n",
    "    cv2.putText(image, f\"center: {x + int(w / 2)}\", (x + 5, y + 30), font, fontScale, color, thickness, cv2.LINE_AA)\n",
    "    cv2.putText(image, f\"area: {area}\", (x + 5, y + 45), font, fontScale, color, thickness, cv2.LINE_AA)\n",
    "    cv2.circle(image, (x + int(w / 2), h + y), 5, (0, 0, 255), -1)\n",
    "    return image"
   ]
  },
  {
   "cell_type": "code",
   "execution_count": 5,
   "metadata": {
    "ExecuteTime": {
     "end_time": "2023-06-02T12:18:11.547643Z",
     "start_time": "2023-06-02T12:18:11.501638Z"
    },
    "collapsed": false
   },
   "outputs": [],
   "source": [
    "tl = (85, 50)\n",
    "bl = (0, 300)\n",
    "tr = (215, 50)\n",
    "br = (300, 300)\n",
    "\n",
    "pts1 = np.float32([tl, bl, tr, br])\n",
    "pts2 = np.float32([[0, 0], [0, 300], [300, 0], [300, 300]])\n",
    "matrix = cv2.getPerspectiveTransform(pts1, pts2)\n",
    "\n",
    "\n",
    "def get_objects(image):\n",
    "    image = cv2.warpPerspective(image, matrix, (300, 300))\n",
    "    mask = background_filter(image)\n",
    "    masked_image = cv2.bitwise_and(image, image, mask=mask)\n",
    "    contours = get_contours(masked_image)\n",
    "\n",
    "    objects = []\n",
    "\n",
    "    for contour in contours:\n",
    "        area = cv2.contourArea(contour)\n",
    "        if area > 6000:\n",
    "            cv2.drawContours(image, [contour], -1, (0, 255, 0), 3)\n",
    "            x, y, w, h = cv2.boundingRect(contour)\n",
    "            objects.append([x, y, w, h])\n",
    "            image = create_object_marker(image, area, x, y, w, h)\n",
    "\n",
    "    return objects, image"
   ]
  },
  {
   "cell_type": "code",
   "execution_count": 6,
   "metadata": {
    "ExecuteTime": {
     "end_time": "2023-06-02T12:18:16.527725Z",
     "start_time": "2023-06-02T12:18:16.489711Z"
    },
    "collapsed": false
   },
   "outputs": [],
   "source": [
    "def get_object_distance(object):\n",
    "    return object[1] + object[3]"
   ]
  },
  {
   "cell_type": "code",
   "execution_count": null,
   "metadata": {
    "ExecuteTime": {
     "end_time": "2023-05-01T13:06:10.818912Z",
     "start_time": "2023-05-01T13:04:58.800477Z"
    },
    "collapsed": false
   },
   "outputs": [],
   "source": [
    "# done = False\n",
    "# i = 0\n",
    "# display(image_widget1)\n",
    "# display(image_widget2)\n",
    "# display(image_widget3)\n",
    "# display(image_widget4)\n",
    "# display(image_widget5)\n",
    "# while not done:\n",
    "#     frame = camera.read()\n",
    "#     update_image(image_widget1, frame)\n",
    "#     frame = warp_perspective(frame)\n",
    "#     update_image(image_widget2, frame)\n",
    "#     mask = background_filter(frame)\n",
    "#     update_image(image_widget3, mask)\n",
    "#     masked_image = cv2.bitwise_and(frame, frame, mask=mask)\n",
    "#     update_image(image_widget4, masked_image)\n",
    "#\n",
    "#     contours = get_contours(masked_image)\n",
    "#\n",
    "#     objects = []\n",
    "#\n",
    "#     for contour in contours:\n",
    "#         area = cv2.contourArea(contour)\n",
    "#         if area > 6000:\n",
    "#             cv2.drawContours(frame, [contour], -1, (0, 255, 0), 3)\n",
    "#             x, y, w, h = cv2.boundingRect(contour)\n",
    "#             objects.append([x, y, w, h])\n",
    "#             frame = create_object_marker(frame, area, x, y, w, h)\n",
    "#     update_image(image_widget5, frame)\n",
    "#\n",
    "#     i += 1\n",
    "#     if i > 1000:\n",
    "#         done = True\n"
   ]
  },
  {
   "cell_type": "code",
   "execution_count": 7,
   "metadata": {
    "ExecuteTime": {
     "end_time": "2023-06-02T12:18:21.465460Z",
     "start_time": "2023-06-02T12:18:21.429456Z"
    },
    "collapsed": false
   },
   "outputs": [],
   "source": [
    "def callback(change):\n",
    "    frame = change['new']\n",
    "    update_image(image_widget1, frame)\n",
    "    frame = warp_perspective(frame)\n",
    "    update_image(image_widget2, frame)\n",
    "    mask = background_filter(frame)\n",
    "    update_image(image_widget3, mask)\n",
    "    masked_image = cv2.bitwise_and(frame, frame, mask=mask)\n",
    "    update_image(image_widget4, masked_image)\n",
    "\n",
    "    contours = get_contours(masked_image)\n",
    "\n",
    "    objects = []\n",
    "\n",
    "    for contour in contours:\n",
    "        area = cv2.contourArea(contour)\n",
    "        if area >200:\n",
    "            cv2.drawContours(frame, [contour], -1, (0, 255, 0), 3)\n",
    "            x, y, w, h = cv2.boundingRect(contour)\n",
    "            objects.append([x, y, w, h])\n",
    "            frame = create_object_marker(frame, area, x, y, w, h)\n",
    "    update_image(image_widget5, frame)"
   ]
  },
  {
   "cell_type": "code",
   "execution_count": 8,
   "metadata": {
    "ExecuteTime": {
     "end_time": "2023-06-02T12:18:24.540428Z",
     "start_time": "2023-06-02T12:18:24.512980Z"
    },
    "collapsed": false
   },
   "outputs": [],
   "source": [
    "kernel = np.ones((3, 3), np.uint8)\n",
    "\n",
    "\n",
    "def background_filter(image):\n",
    "    image = cv2.blur(image, (10, 10))\n",
    "    hsv = cv2.cvtColor(image, cv2.COLOR_BGR2HSV)\n",
    "    # lower = np.array([0, 0, 50])\n",
    "    # upper = np.array([255, 75, 180])\n",
    "    # lower = np.array([0, 0, 0])\n",
    "    # upper = np.array([200, 95, 200])\n",
    "    lower = np.array([0, 0, 50])\n",
    "    upper = np.array([255, 95, 255])\n",
    "    mask = cv2.inRange(hsv, lower, upper)\n",
    "    mask = cv2.erode(mask, kernel, iterations=10)\n",
    "    mask = cv2.dilate(mask, kernel, iterations=10)\n",
    "    mask = cv2.bitwise_not(mask)\n",
    "    return mask"
   ]
  },
  {
   "cell_type": "code",
   "execution_count": 9,
   "metadata": {
    "ExecuteTime": {
     "end_time": "2023-06-02T12:18:27.402321Z",
     "start_time": "2023-06-02T12:18:27.375733Z"
    },
    "collapsed": false
   },
   "outputs": [],
   "source": [
    "tl = (85, 60)\n",
    "bl = (0, 300)\n",
    "tr = (215, 60)\n",
    "br = (300, 300)\n",
    "\n",
    "pts1 = np.float32([tl, bl, tr, br])\n",
    "pts2 = np.float32([[0, 0], [0, 300], [300, 0], [300, 300]])\n",
    "matrix = cv2.getPerspectiveTransform(pts1, pts2)\n",
    "\n",
    "\n",
    "def warp_perspective(image):\n",
    "    image = cv2.warpPerspective(image, matrix, (300, 300))\n",
    "    return image"
   ]
  },
  {
   "cell_type": "code",
   "execution_count": 10,
   "metadata": {
    "ExecuteTime": {
     "end_time": "2023-06-02T12:18:30.667333Z",
     "start_time": "2023-06-02T12:18:30.532330Z"
    },
    "collapsed": false
   },
   "outputs": [
    {
     "data": {
      "application/vnd.jupyter.widget-view+json": {
       "model_id": "360024005c0c4947b0707ca36e849072",
       "version_major": 2,
       "version_minor": 0
      },
      "text/plain": [
       "Image(value=b'', format='jpeg')"
      ]
     },
     "metadata": {},
     "output_type": "display_data"
    },
    {
     "data": {
      "application/vnd.jupyter.widget-view+json": {
       "model_id": "8e195a58a19844e2ad13fcf24fd37cf7",
       "version_major": 2,
       "version_minor": 0
      },
      "text/plain": [
       "Image(value=b'', format='jpeg')"
      ]
     },
     "metadata": {},
     "output_type": "display_data"
    },
    {
     "data": {
      "application/vnd.jupyter.widget-view+json": {
       "model_id": "ff2ef8b59d7d413384708824934bf8e1",
       "version_major": 2,
       "version_minor": 0
      },
      "text/plain": [
       "Image(value=b'', format='jpeg')"
      ]
     },
     "metadata": {},
     "output_type": "display_data"
    },
    {
     "data": {
      "application/vnd.jupyter.widget-view+json": {
       "model_id": "670c502bcbfd44bd94fa7dd0e667aaf4",
       "version_major": 2,
       "version_minor": 0
      },
      "text/plain": [
       "Image(value=b'', format='jpeg')"
      ]
     },
     "metadata": {},
     "output_type": "display_data"
    },
    {
     "data": {
      "application/vnd.jupyter.widget-view+json": {
       "model_id": "506a0a1895e746a28231d10bd8ff8b99",
       "version_major": 2,
       "version_minor": 0
      },
      "text/plain": [
       "Image(value=b'', format='jpeg')"
      ]
     },
     "metadata": {},
     "output_type": "display_data"
    }
   ],
   "source": [
    "display(image_widget1)\n",
    "display(image_widget2)\n",
    "display(image_widget3)\n",
    "display(image_widget4)\n",
    "display(image_widget5)\n",
    "camera.running = True\n",
    "camera.observe(callback, names='value')"
   ]
  },
  {
   "cell_type": "code",
   "execution_count": null,
   "metadata": {
    "ExecuteTime": {
     "end_time": "2023-05-30T22:01:00.108972Z",
     "start_time": "2023-05-30T22:01:00.105969Z"
    },
    "collapsed": false
   },
   "outputs": [],
   "source": [
    "# camera.unobserve(callback, names='value')"
   ]
  }
 ],
 "metadata": {
  "kernelspec": {
   "display_name": "Python 3",
   "language": "python",
   "name": "python3"
  },
  "language_info": {
   "codemirror_mode": {
    "name": "ipython",
    "version": 2
   },
   "file_extension": ".py",
   "mimetype": "text/x-python",
   "name": "python",
   "nbconvert_exporter": "python",
   "pygments_lexer": "ipython2",
   "version": "2.7.6"
  }
 },
 "nbformat": 4,
 "nbformat_minor": 0
}
