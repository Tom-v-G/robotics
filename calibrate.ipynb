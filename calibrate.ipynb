{
 "cells": [
  {
   "cell_type": "code",
   "execution_count": 1,
   "id": "588142df",
   "metadata": {
    "scrolled": false
   },
   "outputs": [
    {
     "name": "stdout",
     "output_type": "stream",
     "text": [
      "camera connected\n",
      "jetson racer connected\n"
     ]
    }
   ],
   "source": [
    "from jetcam.csi_camera import CSICamera\n",
    "from jetracer.nvidia_racecar import NvidiaRacecar\n",
    "import cv2\n",
    "\n",
    "import ipywidgets\n",
    "from IPython.display import display\n",
    "from jetcam.utils import bgr8_to_jpeg\n",
    "\n",
    "\n",
    "\n",
    "\n",
    "\n",
    "def update_image(change):\n",
    "    image = change['new']\n",
    "    image_widget.value = bgr8_to_jpeg(image)\n",
    "\n",
    "camera = CSICamera(width=1200, height=1200, capture_width=640, capture_height=480, capture_device=0)\n",
    "print(\"camera connected\")\n",
    "\n",
    "car = NvidiaRacecar()\n",
    "print(\"jetson racer connected\")\n",
    "\n",
    "image = camera.read()\n",
    "size = (image.shape[0],image.shape[1])\n",
    "image_widget = ipywidgets.Image(format='jpeg')\n",
    "\n",
    "\n"
   ]
  },
  {
   "cell_type": "code",
   "execution_count": 3,
   "id": "a85e89a7",
   "metadata": {
    "scrolled": true
   },
   "outputs": [
    {
     "data": {
      "application/vnd.jupyter.widget-view+json": {
       "model_id": "fc728ce212204629aad3b862ec1fbc42",
       "version_major": 2,
       "version_minor": 0
      },
      "text/plain": [
       "Image(value=b'\\xff\\xd8\\xff\\xe0\\x00\\x10JFIF\\x00\\x01\\x01\\x00\\x00\\x01\\x00\\x01\\x00\\x00\\xff\\xdb\\x00C\\x00\\x02\\x01\\x0…"
      ]
     },
     "metadata": {},
     "output_type": "display_data"
    },
    {
     "data": {
      "application/vnd.jupyter.widget-view+json": {
       "model_id": "fc728ce212204629aad3b862ec1fbc42",
       "version_major": 2,
       "version_minor": 0
      },
      "text/plain": [
       "Image(value=b'\\xff\\xd8\\xff\\xe0\\x00\\x10JFIF\\x00\\x01\\x01\\x00\\x00\\x01\\x00\\x01\\x00\\x00\\xff\\xdb\\x00C\\x00\\x02\\x01\\x0…"
      ]
     },
     "metadata": {},
     "output_type": "display_data"
    },
    {
     "data": {
      "application/vnd.jupyter.widget-view+json": {
       "model_id": "fc728ce212204629aad3b862ec1fbc42",
       "version_major": 2,
       "version_minor": 0
      },
      "text/plain": [
       "Image(value=b'\\xff\\xd8\\xff\\xe0\\x00\\x10JFIF\\x00\\x01\\x01\\x00\\x00\\x01\\x00\\x01\\x00\\x00\\xff\\xdb\\x00C\\x00\\x02\\x01\\x0…"
      ]
     },
     "metadata": {},
     "output_type": "display_data"
    },
    {
     "data": {
      "application/vnd.jupyter.widget-view+json": {
       "model_id": "fc728ce212204629aad3b862ec1fbc42",
       "version_major": 2,
       "version_minor": 0
      },
      "text/plain": [
       "Image(value=b'\\xff\\xd8\\xff\\xe0\\x00\\x10JFIF\\x00\\x01\\x01\\x00\\x00\\x01\\x00\\x01\\x00\\x00\\xff\\xdb\\x00C\\x00\\x02\\x01\\x0…"
      ]
     },
     "metadata": {},
     "output_type": "display_data"
    },
    {
     "data": {
      "application/vnd.jupyter.widget-view+json": {
       "model_id": "fc728ce212204629aad3b862ec1fbc42",
       "version_major": 2,
       "version_minor": 0
      },
      "text/plain": [
       "Image(value=b'\\xff\\xd8\\xff\\xe0\\x00\\x10JFIF\\x00\\x01\\x01\\x00\\x00\\x01\\x00\\x01\\x00\\x00\\xff\\xdb\\x00C\\x00\\x02\\x01\\x0…"
      ]
     },
     "metadata": {},
     "output_type": "display_data"
    },
    {
     "data": {
      "application/vnd.jupyter.widget-view+json": {
       "model_id": "fc728ce212204629aad3b862ec1fbc42",
       "version_major": 2,
       "version_minor": 0
      },
      "text/plain": [
       "Image(value=b'\\xff\\xd8\\xff\\xe0\\x00\\x10JFIF\\x00\\x01\\x01\\x00\\x00\\x01\\x00\\x01\\x00\\x00\\xff\\xdb\\x00C\\x00\\x02\\x01\\x0…"
      ]
     },
     "metadata": {},
     "output_type": "display_data"
    },
    {
     "data": {
      "application/vnd.jupyter.widget-view+json": {
       "model_id": "fc728ce212204629aad3b862ec1fbc42",
       "version_major": 2,
       "version_minor": 0
      },
      "text/plain": [
       "Image(value=b'\\xff\\xd8\\xff\\xe0\\x00\\x10JFIF\\x00\\x01\\x01\\x00\\x00\\x01\\x00\\x01\\x00\\x00\\xff\\xdb\\x00C\\x00\\x02\\x01\\x0…"
      ]
     },
     "metadata": {},
     "output_type": "display_data"
    },
    {
     "data": {
      "application/vnd.jupyter.widget-view+json": {
       "model_id": "fc728ce212204629aad3b862ec1fbc42",
       "version_major": 2,
       "version_minor": 0
      },
      "text/plain": [
       "Image(value=b'\\xff\\xd8\\xff\\xe0\\x00\\x10JFIF\\x00\\x01\\x01\\x00\\x00\\x01\\x00\\x01\\x00\\x00\\xff\\xdb\\x00C\\x00\\x02\\x01\\x0…"
      ]
     },
     "metadata": {},
     "output_type": "display_data"
    },
    {
     "data": {
      "application/vnd.jupyter.widget-view+json": {
       "model_id": "fc728ce212204629aad3b862ec1fbc42",
       "version_major": 2,
       "version_minor": 0
      },
      "text/plain": [
       "Image(value=b'\\xff\\xd8\\xff\\xe0\\x00\\x10JFIF\\x00\\x01\\x01\\x00\\x00\\x01\\x00\\x01\\x00\\x00\\xff\\xdb\\x00C\\x00\\x02\\x01\\x0…"
      ]
     },
     "metadata": {},
     "output_type": "display_data"
    },
    {
     "data": {
      "application/vnd.jupyter.widget-view+json": {
       "model_id": "fc728ce212204629aad3b862ec1fbc42",
       "version_major": 2,
       "version_minor": 0
      },
      "text/plain": [
       "Image(value=b'\\xff\\xd8\\xff\\xe0\\x00\\x10JFIF\\x00\\x01\\x01\\x00\\x00\\x01\\x00\\x01\\x00\\x00\\xff\\xdb\\x00C\\x00\\x02\\x01\\x0…"
      ]
     },
     "metadata": {},
     "output_type": "display_data"
    },
    {
     "data": {
      "application/vnd.jupyter.widget-view+json": {
       "model_id": "fc728ce212204629aad3b862ec1fbc42",
       "version_major": 2,
       "version_minor": 0
      },
      "text/plain": [
       "Image(value=b'\\xff\\xd8\\xff\\xe0\\x00\\x10JFIF\\x00\\x01\\x01\\x00\\x00\\x01\\x00\\x01\\x00\\x00\\xff\\xdb\\x00C\\x00\\x02\\x01\\x0…"
      ]
     },
     "metadata": {},
     "output_type": "display_data"
    },
    {
     "data": {
      "application/vnd.jupyter.widget-view+json": {
       "model_id": "fc728ce212204629aad3b862ec1fbc42",
       "version_major": 2,
       "version_minor": 0
      },
      "text/plain": [
       "Image(value=b'\\xff\\xd8\\xff\\xe0\\x00\\x10JFIF\\x00\\x01\\x01\\x00\\x00\\x01\\x00\\x01\\x00\\x00\\xff\\xdb\\x00C\\x00\\x02\\x01\\x0…"
      ]
     },
     "metadata": {},
     "output_type": "display_data"
    },
    {
     "data": {
      "application/vnd.jupyter.widget-view+json": {
       "model_id": "fc728ce212204629aad3b862ec1fbc42",
       "version_major": 2,
       "version_minor": 0
      },
      "text/plain": [
       "Image(value=b'\\xff\\xd8\\xff\\xe0\\x00\\x10JFIF\\x00\\x01\\x01\\x00\\x00\\x01\\x00\\x01\\x00\\x00\\xff\\xdb\\x00C\\x00\\x02\\x01\\x0…"
      ]
     },
     "metadata": {},
     "output_type": "display_data"
    },
    {
     "data": {
      "application/vnd.jupyter.widget-view+json": {
       "model_id": "fc728ce212204629aad3b862ec1fbc42",
       "version_major": 2,
       "version_minor": 0
      },
      "text/plain": [
       "Image(value=b'\\xff\\xd8\\xff\\xe0\\x00\\x10JFIF\\x00\\x01\\x01\\x00\\x00\\x01\\x00\\x01\\x00\\x00\\xff\\xdb\\x00C\\x00\\x02\\x01\\x0…"
      ]
     },
     "metadata": {},
     "output_type": "display_data"
    },
    {
     "data": {
      "application/vnd.jupyter.widget-view+json": {
       "model_id": "fc728ce212204629aad3b862ec1fbc42",
       "version_major": 2,
       "version_minor": 0
      },
      "text/plain": [
       "Image(value=b'\\xff\\xd8\\xff\\xe0\\x00\\x10JFIF\\x00\\x01\\x01\\x00\\x00\\x01\\x00\\x01\\x00\\x00\\xff\\xdb\\x00C\\x00\\x02\\x01\\x0…"
      ]
     },
     "metadata": {},
     "output_type": "display_data"
    },
    {
     "data": {
      "application/vnd.jupyter.widget-view+json": {
       "model_id": "fc728ce212204629aad3b862ec1fbc42",
       "version_major": 2,
       "version_minor": 0
      },
      "text/plain": [
       "Image(value=b'\\xff\\xd8\\xff\\xe0\\x00\\x10JFIF\\x00\\x01\\x01\\x00\\x00\\x01\\x00\\x01\\x00\\x00\\xff\\xdb\\x00C\\x00\\x02\\x01\\x0…"
      ]
     },
     "metadata": {},
     "output_type": "display_data"
    },
    {
     "data": {
      "application/vnd.jupyter.widget-view+json": {
       "model_id": "fc728ce212204629aad3b862ec1fbc42",
       "version_major": 2,
       "version_minor": 0
      },
      "text/plain": [
       "Image(value=b'\\xff\\xd8\\xff\\xe0\\x00\\x10JFIF\\x00\\x01\\x01\\x00\\x00\\x01\\x00\\x01\\x00\\x00\\xff\\xdb\\x00C\\x00\\x02\\x01\\x0…"
      ]
     },
     "metadata": {},
     "output_type": "display_data"
    },
    {
     "data": {
      "application/vnd.jupyter.widget-view+json": {
       "model_id": "fc728ce212204629aad3b862ec1fbc42",
       "version_major": 2,
       "version_minor": 0
      },
      "text/plain": [
       "Image(value=b'\\xff\\xd8\\xff\\xe0\\x00\\x10JFIF\\x00\\x01\\x01\\x00\\x00\\x01\\x00\\x01\\x00\\x00\\xff\\xdb\\x00C\\x00\\x02\\x01\\x0…"
      ]
     },
     "metadata": {},
     "output_type": "display_data"
    },
    {
     "data": {
      "application/vnd.jupyter.widget-view+json": {
       "model_id": "fc728ce212204629aad3b862ec1fbc42",
       "version_major": 2,
       "version_minor": 0
      },
      "text/plain": [
       "Image(value=b'\\xff\\xd8\\xff\\xe0\\x00\\x10JFIF\\x00\\x01\\x01\\x00\\x00\\x01\\x00\\x01\\x00\\x00\\xff\\xdb\\x00C\\x00\\x02\\x01\\x0…"
      ]
     },
     "metadata": {},
     "output_type": "display_data"
    },
    {
     "data": {
      "application/vnd.jupyter.widget-view+json": {
       "model_id": "fc728ce212204629aad3b862ec1fbc42",
       "version_major": 2,
       "version_minor": 0
      },
      "text/plain": [
       "Image(value=b'\\xff\\xd8\\xff\\xe0\\x00\\x10JFIF\\x00\\x01\\x01\\x00\\x00\\x01\\x00\\x01\\x00\\x00\\xff\\xdb\\x00C\\x00\\x02\\x01\\x0…"
      ]
     },
     "metadata": {},
     "output_type": "display_data"
    },
    {
     "data": {
      "application/vnd.jupyter.widget-view+json": {
       "model_id": "fc728ce212204629aad3b862ec1fbc42",
       "version_major": 2,
       "version_minor": 0
      },
      "text/plain": [
       "Image(value=b'\\xff\\xd8\\xff\\xe0\\x00\\x10JFIF\\x00\\x01\\x01\\x00\\x00\\x01\\x00\\x01\\x00\\x00\\xff\\xdb\\x00C\\x00\\x02\\x01\\x0…"
      ]
     },
     "metadata": {},
     "output_type": "display_data"
    },
    {
     "data": {
      "application/vnd.jupyter.widget-view+json": {
       "model_id": "fc728ce212204629aad3b862ec1fbc42",
       "version_major": 2,
       "version_minor": 0
      },
      "text/plain": [
       "Image(value=b'\\xff\\xd8\\xff\\xe0\\x00\\x10JFIF\\x00\\x01\\x01\\x00\\x00\\x01\\x00\\x01\\x00\\x00\\xff\\xdb\\x00C\\x00\\x02\\x01\\x0…"
      ]
     },
     "metadata": {},
     "output_type": "display_data"
    },
    {
     "data": {
      "application/vnd.jupyter.widget-view+json": {
       "model_id": "fc728ce212204629aad3b862ec1fbc42",
       "version_major": 2,
       "version_minor": 0
      },
      "text/plain": [
       "Image(value=b'\\xff\\xd8\\xff\\xe0\\x00\\x10JFIF\\x00\\x01\\x01\\x00\\x00\\x01\\x00\\x01\\x00\\x00\\xff\\xdb\\x00C\\x00\\x02\\x01\\x0…"
      ]
     },
     "metadata": {},
     "output_type": "display_data"
    },
    {
     "data": {
      "application/vnd.jupyter.widget-view+json": {
       "model_id": "fc728ce212204629aad3b862ec1fbc42",
       "version_major": 2,
       "version_minor": 0
      },
      "text/plain": [
       "Image(value=b'\\xff\\xd8\\xff\\xe0\\x00\\x10JFIF\\x00\\x01\\x01\\x00\\x00\\x01\\x00\\x01\\x00\\x00\\xff\\xdb\\x00C\\x00\\x02\\x01\\x0…"
      ]
     },
     "metadata": {},
     "output_type": "display_data"
    },
    {
     "data": {
      "application/vnd.jupyter.widget-view+json": {
       "model_id": "fc728ce212204629aad3b862ec1fbc42",
       "version_major": 2,
       "version_minor": 0
      },
      "text/plain": [
       "Image(value=b'\\xff\\xd8\\xff\\xe0\\x00\\x10JFIF\\x00\\x01\\x01\\x00\\x00\\x01\\x00\\x01\\x00\\x00\\xff\\xdb\\x00C\\x00\\x02\\x01\\x0…"
      ]
     },
     "metadata": {},
     "output_type": "display_data"
    },
    {
     "data": {
      "application/vnd.jupyter.widget-view+json": {
       "model_id": "fc728ce212204629aad3b862ec1fbc42",
       "version_major": 2,
       "version_minor": 0
      },
      "text/plain": [
       "Image(value=b'\\xff\\xd8\\xff\\xe0\\x00\\x10JFIF\\x00\\x01\\x01\\x00\\x00\\x01\\x00\\x01\\x00\\x00\\xff\\xdb\\x00C\\x00\\x02\\x01\\x0…"
      ]
     },
     "metadata": {},
     "output_type": "display_data"
    },
    {
     "data": {
      "application/vnd.jupyter.widget-view+json": {
       "model_id": "fc728ce212204629aad3b862ec1fbc42",
       "version_major": 2,
       "version_minor": 0
      },
      "text/plain": [
       "Image(value=b'\\xff\\xd8\\xff\\xe0\\x00\\x10JFIF\\x00\\x01\\x01\\x00\\x00\\x01\\x00\\x01\\x00\\x00\\xff\\xdb\\x00C\\x00\\x02\\x01\\x0…"
      ]
     },
     "metadata": {},
     "output_type": "display_data"
    },
    {
     "data": {
      "application/vnd.jupyter.widget-view+json": {
       "model_id": "fc728ce212204629aad3b862ec1fbc42",
       "version_major": 2,
       "version_minor": 0
      },
      "text/plain": [
       "Image(value=b'\\xff\\xd8\\xff\\xe0\\x00\\x10JFIF\\x00\\x01\\x01\\x00\\x00\\x01\\x00\\x01\\x00\\x00\\xff\\xdb\\x00C\\x00\\x02\\x01\\x0…"
      ]
     },
     "metadata": {},
     "output_type": "display_data"
    },
    {
     "data": {
      "application/vnd.jupyter.widget-view+json": {
       "model_id": "fc728ce212204629aad3b862ec1fbc42",
       "version_major": 2,
       "version_minor": 0
      },
      "text/plain": [
       "Image(value=b'\\xff\\xd8\\xff\\xe0\\x00\\x10JFIF\\x00\\x01\\x01\\x00\\x00\\x01\\x00\\x01\\x00\\x00\\xff\\xdb\\x00C\\x00\\x02\\x01\\x0…"
      ]
     },
     "metadata": {},
     "output_type": "display_data"
    },
    {
     "data": {
      "application/vnd.jupyter.widget-view+json": {
       "model_id": "fc728ce212204629aad3b862ec1fbc42",
       "version_major": 2,
       "version_minor": 0
      },
      "text/plain": [
       "Image(value=b'\\xff\\xd8\\xff\\xe0\\x00\\x10JFIF\\x00\\x01\\x01\\x00\\x00\\x01\\x00\\x01\\x00\\x00\\xff\\xdb\\x00C\\x00\\x02\\x01\\x0…"
      ]
     },
     "metadata": {},
     "output_type": "display_data"
    },
    {
     "data": {
      "application/vnd.jupyter.widget-view+json": {
       "model_id": "fc728ce212204629aad3b862ec1fbc42",
       "version_major": 2,
       "version_minor": 0
      },
      "text/plain": [
       "Image(value=b'\\xff\\xd8\\xff\\xe0\\x00\\x10JFIF\\x00\\x01\\x01\\x00\\x00\\x01\\x00\\x01\\x00\\x00\\xff\\xdb\\x00C\\x00\\x02\\x01\\x0…"
      ]
     },
     "metadata": {},
     "output_type": "display_data"
    },
    {
     "data": {
      "application/vnd.jupyter.widget-view+json": {
       "model_id": "fc728ce212204629aad3b862ec1fbc42",
       "version_major": 2,
       "version_minor": 0
      },
      "text/plain": [
       "Image(value=b'\\xff\\xd8\\xff\\xe0\\x00\\x10JFIF\\x00\\x01\\x01\\x00\\x00\\x01\\x00\\x01\\x00\\x00\\xff\\xdb\\x00C\\x00\\x02\\x01\\x0…"
      ]
     },
     "metadata": {},
     "output_type": "display_data"
    },
    {
     "data": {
      "application/vnd.jupyter.widget-view+json": {
       "model_id": "fc728ce212204629aad3b862ec1fbc42",
       "version_major": 2,
       "version_minor": 0
      },
      "text/plain": [
       "Image(value=b'\\xff\\xd8\\xff\\xe0\\x00\\x10JFIF\\x00\\x01\\x01\\x00\\x00\\x01\\x00\\x01\\x00\\x00\\xff\\xdb\\x00C\\x00\\x02\\x01\\x0…"
      ]
     },
     "metadata": {},
     "output_type": "display_data"
    },
    {
     "data": {
      "application/vnd.jupyter.widget-view+json": {
       "model_id": "fc728ce212204629aad3b862ec1fbc42",
       "version_major": 2,
       "version_minor": 0
      },
      "text/plain": [
       "Image(value=b'\\xff\\xd8\\xff\\xe0\\x00\\x10JFIF\\x00\\x01\\x01\\x00\\x00\\x01\\x00\\x01\\x00\\x00\\xff\\xdb\\x00C\\x00\\x02\\x01\\x0…"
      ]
     },
     "metadata": {},
     "output_type": "display_data"
    },
    {
     "data": {
      "application/vnd.jupyter.widget-view+json": {
       "model_id": "fc728ce212204629aad3b862ec1fbc42",
       "version_major": 2,
       "version_minor": 0
      },
      "text/plain": [
       "Image(value=b'\\xff\\xd8\\xff\\xe0\\x00\\x10JFIF\\x00\\x01\\x01\\x00\\x00\\x01\\x00\\x01\\x00\\x00\\xff\\xdb\\x00C\\x00\\x02\\x01\\x0…"
      ]
     },
     "metadata": {},
     "output_type": "display_data"
    },
    {
     "data": {
      "application/vnd.jupyter.widget-view+json": {
       "model_id": "fc728ce212204629aad3b862ec1fbc42",
       "version_major": 2,
       "version_minor": 0
      },
      "text/plain": [
       "Image(value=b'\\xff\\xd8\\xff\\xe0\\x00\\x10JFIF\\x00\\x01\\x01\\x00\\x00\\x01\\x00\\x01\\x00\\x00\\xff\\xdb\\x00C\\x00\\x02\\x01\\x0…"
      ]
     },
     "metadata": {},
     "output_type": "display_data"
    },
    {
     "data": {
      "application/vnd.jupyter.widget-view+json": {
       "model_id": "fc728ce212204629aad3b862ec1fbc42",
       "version_major": 2,
       "version_minor": 0
      },
      "text/plain": [
       "Image(value=b'\\xff\\xd8\\xff\\xe0\\x00\\x10JFIF\\x00\\x01\\x01\\x00\\x00\\x01\\x00\\x01\\x00\\x00\\xff\\xdb\\x00C\\x00\\x02\\x01\\x0…"
      ]
     },
     "metadata": {},
     "output_type": "display_data"
    },
    {
     "data": {
      "application/vnd.jupyter.widget-view+json": {
       "model_id": "fc728ce212204629aad3b862ec1fbc42",
       "version_major": 2,
       "version_minor": 0
      },
      "text/plain": [
       "Image(value=b'\\xff\\xd8\\xff\\xe0\\x00\\x10JFIF\\x00\\x01\\x01\\x00\\x00\\x01\\x00\\x01\\x00\\x00\\xff\\xdb\\x00C\\x00\\x02\\x01\\x0…"
      ]
     },
     "metadata": {},
     "output_type": "display_data"
    },
    {
     "data": {
      "application/vnd.jupyter.widget-view+json": {
       "model_id": "fc728ce212204629aad3b862ec1fbc42",
       "version_major": 2,
       "version_minor": 0
      },
      "text/plain": [
       "Image(value=b'\\xff\\xd8\\xff\\xe0\\x00\\x10JFIF\\x00\\x01\\x01\\x00\\x00\\x01\\x00\\x01\\x00\\x00\\xff\\xdb\\x00C\\x00\\x02\\x01\\x0…"
      ]
     },
     "metadata": {},
     "output_type": "display_data"
    },
    {
     "data": {
      "application/vnd.jupyter.widget-view+json": {
       "model_id": "fc728ce212204629aad3b862ec1fbc42",
       "version_major": 2,
       "version_minor": 0
      },
      "text/plain": [
       "Image(value=b'\\xff\\xd8\\xff\\xe0\\x00\\x10JFIF\\x00\\x01\\x01\\x00\\x00\\x01\\x00\\x01\\x00\\x00\\xff\\xdb\\x00C\\x00\\x02\\x01\\x0…"
      ]
     },
     "metadata": {},
     "output_type": "display_data"
    },
    {
     "data": {
      "application/vnd.jupyter.widget-view+json": {
       "model_id": "fc728ce212204629aad3b862ec1fbc42",
       "version_major": 2,
       "version_minor": 0
      },
      "text/plain": [
       "Image(value=b'\\xff\\xd8\\xff\\xe0\\x00\\x10JFIF\\x00\\x01\\x01\\x00\\x00\\x01\\x00\\x01\\x00\\x00\\xff\\xdb\\x00C\\x00\\x02\\x01\\x0…"
      ]
     },
     "metadata": {},
     "output_type": "display_data"
    },
    {
     "data": {
      "application/vnd.jupyter.widget-view+json": {
       "model_id": "fc728ce212204629aad3b862ec1fbc42",
       "version_major": 2,
       "version_minor": 0
      },
      "text/plain": [
       "Image(value=b'\\xff\\xd8\\xff\\xe0\\x00\\x10JFIF\\x00\\x01\\x01\\x00\\x00\\x01\\x00\\x01\\x00\\x00\\xff\\xdb\\x00C\\x00\\x02\\x01\\x0…"
      ]
     },
     "metadata": {},
     "output_type": "display_data"
    },
    {
     "data": {
      "application/vnd.jupyter.widget-view+json": {
       "model_id": "fc728ce212204629aad3b862ec1fbc42",
       "version_major": 2,
       "version_minor": 0
      },
      "text/plain": [
       "Image(value=b'\\xff\\xd8\\xff\\xe0\\x00\\x10JFIF\\x00\\x01\\x01\\x00\\x00\\x01\\x00\\x01\\x00\\x00\\xff\\xdb\\x00C\\x00\\x02\\x01\\x0…"
      ]
     },
     "metadata": {},
     "output_type": "display_data"
    },
    {
     "data": {
      "application/vnd.jupyter.widget-view+json": {
       "model_id": "fc728ce212204629aad3b862ec1fbc42",
       "version_major": 2,
       "version_minor": 0
      },
      "text/plain": [
       "Image(value=b'\\xff\\xd8\\xff\\xe0\\x00\\x10JFIF\\x00\\x01\\x01\\x00\\x00\\x01\\x00\\x01\\x00\\x00\\xff\\xdb\\x00C\\x00\\x02\\x01\\x0…"
      ]
     },
     "metadata": {},
     "output_type": "display_data"
    },
    {
     "data": {
      "application/vnd.jupyter.widget-view+json": {
       "model_id": "fc728ce212204629aad3b862ec1fbc42",
       "version_major": 2,
       "version_minor": 0
      },
      "text/plain": [
       "Image(value=b'\\xff\\xd8\\xff\\xe0\\x00\\x10JFIF\\x00\\x01\\x01\\x00\\x00\\x01\\x00\\x01\\x00\\x00\\xff\\xdb\\x00C\\x00\\x02\\x01\\x0…"
      ]
     },
     "metadata": {},
     "output_type": "display_data"
    },
    {
     "data": {
      "application/vnd.jupyter.widget-view+json": {
       "model_id": "fc728ce212204629aad3b862ec1fbc42",
       "version_major": 2,
       "version_minor": 0
      },
      "text/plain": [
       "Image(value=b'\\xff\\xd8\\xff\\xe0\\x00\\x10JFIF\\x00\\x01\\x01\\x00\\x00\\x01\\x00\\x01\\x00\\x00\\xff\\xdb\\x00C\\x00\\x02\\x01\\x0…"
      ]
     },
     "metadata": {},
     "output_type": "display_data"
    },
    {
     "data": {
      "application/vnd.jupyter.widget-view+json": {
       "model_id": "fc728ce212204629aad3b862ec1fbc42",
       "version_major": 2,
       "version_minor": 0
      },
      "text/plain": [
       "Image(value=b'\\xff\\xd8\\xff\\xe0\\x00\\x10JFIF\\x00\\x01\\x01\\x00\\x00\\x01\\x00\\x01\\x00\\x00\\xff\\xdb\\x00C\\x00\\x02\\x01\\x0…"
      ]
     },
     "metadata": {},
     "output_type": "display_data"
    },
    {
     "data": {
      "application/vnd.jupyter.widget-view+json": {
       "model_id": "fc728ce212204629aad3b862ec1fbc42",
       "version_major": 2,
       "version_minor": 0
      },
      "text/plain": [
       "Image(value=b'\\xff\\xd8\\xff\\xe0\\x00\\x10JFIF\\x00\\x01\\x01\\x00\\x00\\x01\\x00\\x01\\x00\\x00\\xff\\xdb\\x00C\\x00\\x02\\x01\\x0…"
      ]
     },
     "metadata": {},
     "output_type": "display_data"
    },
    {
     "data": {
      "application/vnd.jupyter.widget-view+json": {
       "model_id": "fc728ce212204629aad3b862ec1fbc42",
       "version_major": 2,
       "version_minor": 0
      },
      "text/plain": [
       "Image(value=b'\\xff\\xd8\\xff\\xe0\\x00\\x10JFIF\\x00\\x01\\x01\\x00\\x00\\x01\\x00\\x01\\x00\\x00\\xff\\xdb\\x00C\\x00\\x02\\x01\\x0…"
      ]
     },
     "metadata": {},
     "output_type": "display_data"
    },
    {
     "data": {
      "application/vnd.jupyter.widget-view+json": {
       "model_id": "fc728ce212204629aad3b862ec1fbc42",
       "version_major": 2,
       "version_minor": 0
      },
      "text/plain": [
       "Image(value=b'\\xff\\xd8\\xff\\xe0\\x00\\x10JFIF\\x00\\x01\\x01\\x00\\x00\\x01\\x00\\x01\\x00\\x00\\xff\\xdb\\x00C\\x00\\x02\\x01\\x0…"
      ]
     },
     "metadata": {},
     "output_type": "display_data"
    },
    {
     "data": {
      "application/vnd.jupyter.widget-view+json": {
       "model_id": "fc728ce212204629aad3b862ec1fbc42",
       "version_major": 2,
       "version_minor": 0
      },
      "text/plain": [
       "Image(value=b'\\xff\\xd8\\xff\\xe0\\x00\\x10JFIF\\x00\\x01\\x01\\x00\\x00\\x01\\x00\\x01\\x00\\x00\\xff\\xdb\\x00C\\x00\\x02\\x01\\x0…"
      ]
     },
     "metadata": {},
     "output_type": "display_data"
    },
    {
     "data": {
      "application/vnd.jupyter.widget-view+json": {
       "model_id": "fc728ce212204629aad3b862ec1fbc42",
       "version_major": 2,
       "version_minor": 0
      },
      "text/plain": [
       "Image(value=b'\\xff\\xd8\\xff\\xe0\\x00\\x10JFIF\\x00\\x01\\x01\\x00\\x00\\x01\\x00\\x01\\x00\\x00\\xff\\xdb\\x00C\\x00\\x02\\x01\\x0…"
      ]
     },
     "metadata": {},
     "output_type": "display_data"
    },
    {
     "data": {
      "application/vnd.jupyter.widget-view+json": {
       "model_id": "fc728ce212204629aad3b862ec1fbc42",
       "version_major": 2,
       "version_minor": 0
      },
      "text/plain": [
       "Image(value=b'\\xff\\xd8\\xff\\xe0\\x00\\x10JFIF\\x00\\x01\\x01\\x00\\x00\\x01\\x00\\x01\\x00\\x00\\xff\\xdb\\x00C\\x00\\x02\\x01\\x0…"
      ]
     },
     "metadata": {},
     "output_type": "display_data"
    },
    {
     "data": {
      "application/vnd.jupyter.widget-view+json": {
       "model_id": "fc728ce212204629aad3b862ec1fbc42",
       "version_major": 2,
       "version_minor": 0
      },
      "text/plain": [
       "Image(value=b'\\xff\\xd8\\xff\\xe0\\x00\\x10JFIF\\x00\\x01\\x01\\x00\\x00\\x01\\x00\\x01\\x00\\x00\\xff\\xdb\\x00C\\x00\\x02\\x01\\x0…"
      ]
     },
     "metadata": {},
     "output_type": "display_data"
    },
    {
     "data": {
      "application/vnd.jupyter.widget-view+json": {
       "model_id": "fc728ce212204629aad3b862ec1fbc42",
       "version_major": 2,
       "version_minor": 0
      },
      "text/plain": [
       "Image(value=b'\\xff\\xd8\\xff\\xe0\\x00\\x10JFIF\\x00\\x01\\x01\\x00\\x00\\x01\\x00\\x01\\x00\\x00\\xff\\xdb\\x00C\\x00\\x02\\x01\\x0…"
      ]
     },
     "metadata": {},
     "output_type": "display_data"
    },
    {
     "data": {
      "application/vnd.jupyter.widget-view+json": {
       "model_id": "fc728ce212204629aad3b862ec1fbc42",
       "version_major": 2,
       "version_minor": 0
      },
      "text/plain": [
       "Image(value=b'\\xff\\xd8\\xff\\xe0\\x00\\x10JFIF\\x00\\x01\\x01\\x00\\x00\\x01\\x00\\x01\\x00\\x00\\xff\\xdb\\x00C\\x00\\x02\\x01\\x0…"
      ]
     },
     "metadata": {},
     "output_type": "display_data"
    },
    {
     "data": {
      "application/vnd.jupyter.widget-view+json": {
       "model_id": "fc728ce212204629aad3b862ec1fbc42",
       "version_major": 2,
       "version_minor": 0
      },
      "text/plain": [
       "Image(value=b'\\xff\\xd8\\xff\\xe0\\x00\\x10JFIF\\x00\\x01\\x01\\x00\\x00\\x01\\x00\\x01\\x00\\x00\\xff\\xdb\\x00C\\x00\\x02\\x01\\x0…"
      ]
     },
     "metadata": {},
     "output_type": "display_data"
    },
    {
     "data": {
      "application/vnd.jupyter.widget-view+json": {
       "model_id": "fc728ce212204629aad3b862ec1fbc42",
       "version_major": 2,
       "version_minor": 0
      },
      "text/plain": [
       "Image(value=b'\\xff\\xd8\\xff\\xe0\\x00\\x10JFIF\\x00\\x01\\x01\\x00\\x00\\x01\\x00\\x01\\x00\\x00\\xff\\xdb\\x00C\\x00\\x02\\x01\\x0…"
      ]
     },
     "metadata": {},
     "output_type": "display_data"
    },
    {
     "data": {
      "application/vnd.jupyter.widget-view+json": {
       "model_id": "fc728ce212204629aad3b862ec1fbc42",
       "version_major": 2,
       "version_minor": 0
      },
      "text/plain": [
       "Image(value=b'\\xff\\xd8\\xff\\xe0\\x00\\x10JFIF\\x00\\x01\\x01\\x00\\x00\\x01\\x00\\x01\\x00\\x00\\xff\\xdb\\x00C\\x00\\x02\\x01\\x0…"
      ]
     },
     "metadata": {},
     "output_type": "display_data"
    },
    {
     "data": {
      "application/vnd.jupyter.widget-view+json": {
       "model_id": "fc728ce212204629aad3b862ec1fbc42",
       "version_major": 2,
       "version_minor": 0
      },
      "text/plain": [
       "Image(value=b'\\xff\\xd8\\xff\\xe0\\x00\\x10JFIF\\x00\\x01\\x01\\x00\\x00\\x01\\x00\\x01\\x00\\x00\\xff\\xdb\\x00C\\x00\\x02\\x01\\x0…"
      ]
     },
     "metadata": {},
     "output_type": "display_data"
    },
    {
     "data": {
      "application/vnd.jupyter.widget-view+json": {
       "model_id": "fc728ce212204629aad3b862ec1fbc42",
       "version_major": 2,
       "version_minor": 0
      },
      "text/plain": [
       "Image(value=b'\\xff\\xd8\\xff\\xe0\\x00\\x10JFIF\\x00\\x01\\x01\\x00\\x00\\x01\\x00\\x01\\x00\\x00\\xff\\xdb\\x00C\\x00\\x02\\x01\\x0…"
      ]
     },
     "metadata": {},
     "output_type": "display_data"
    },
    {
     "data": {
      "application/vnd.jupyter.widget-view+json": {
       "model_id": "fc728ce212204629aad3b862ec1fbc42",
       "version_major": 2,
       "version_minor": 0
      },
      "text/plain": [
       "Image(value=b'\\xff\\xd8\\xff\\xe0\\x00\\x10JFIF\\x00\\x01\\x01\\x00\\x00\\x01\\x00\\x01\\x00\\x00\\xff\\xdb\\x00C\\x00\\x02\\x01\\x0…"
      ]
     },
     "metadata": {},
     "output_type": "display_data"
    },
    {
     "data": {
      "application/vnd.jupyter.widget-view+json": {
       "model_id": "fc728ce212204629aad3b862ec1fbc42",
       "version_major": 2,
       "version_minor": 0
      },
      "text/plain": [
       "Image(value=b'\\xff\\xd8\\xff\\xe0\\x00\\x10JFIF\\x00\\x01\\x01\\x00\\x00\\x01\\x00\\x01\\x00\\x00\\xff\\xdb\\x00C\\x00\\x02\\x01\\x0…"
      ]
     },
     "metadata": {},
     "output_type": "display_data"
    },
    {
     "data": {
      "application/vnd.jupyter.widget-view+json": {
       "model_id": "fc728ce212204629aad3b862ec1fbc42",
       "version_major": 2,
       "version_minor": 0
      },
      "text/plain": [
       "Image(value=b'\\xff\\xd8\\xff\\xe0\\x00\\x10JFIF\\x00\\x01\\x01\\x00\\x00\\x01\\x00\\x01\\x00\\x00\\xff\\xdb\\x00C\\x00\\x02\\x01\\x0…"
      ]
     },
     "metadata": {},
     "output_type": "display_data"
    },
    {
     "data": {
      "application/vnd.jupyter.widget-view+json": {
       "model_id": "fc728ce212204629aad3b862ec1fbc42",
       "version_major": 2,
       "version_minor": 0
      },
      "text/plain": [
       "Image(value=b'\\xff\\xd8\\xff\\xe0\\x00\\x10JFIF\\x00\\x01\\x01\\x00\\x00\\x01\\x00\\x01\\x00\\x00\\xff\\xdb\\x00C\\x00\\x02\\x01\\x0…"
      ]
     },
     "metadata": {},
     "output_type": "display_data"
    },
    {
     "data": {
      "application/vnd.jupyter.widget-view+json": {
       "model_id": "fc728ce212204629aad3b862ec1fbc42",
       "version_major": 2,
       "version_minor": 0
      },
      "text/plain": [
       "Image(value=b'\\xff\\xd8\\xff\\xe0\\x00\\x10JFIF\\x00\\x01\\x01\\x00\\x00\\x01\\x00\\x01\\x00\\x00\\xff\\xdb\\x00C\\x00\\x02\\x01\\x0…"
      ]
     },
     "metadata": {},
     "output_type": "display_data"
    },
    {
     "data": {
      "application/vnd.jupyter.widget-view+json": {
       "model_id": "fc728ce212204629aad3b862ec1fbc42",
       "version_major": 2,
       "version_minor": 0
      },
      "text/plain": [
       "Image(value=b'\\xff\\xd8\\xff\\xe0\\x00\\x10JFIF\\x00\\x01\\x01\\x00\\x00\\x01\\x00\\x01\\x00\\x00\\xff\\xdb\\x00C\\x00\\x02\\x01\\x0…"
      ]
     },
     "metadata": {},
     "output_type": "display_data"
    },
    {
     "data": {
      "application/vnd.jupyter.widget-view+json": {
       "model_id": "fc728ce212204629aad3b862ec1fbc42",
       "version_major": 2,
       "version_minor": 0
      },
      "text/plain": [
       "Image(value=b'\\xff\\xd8\\xff\\xe0\\x00\\x10JFIF\\x00\\x01\\x01\\x00\\x00\\x01\\x00\\x01\\x00\\x00\\xff\\xdb\\x00C\\x00\\x02\\x01\\x0…"
      ]
     },
     "metadata": {},
     "output_type": "display_data"
    },
    {
     "data": {
      "application/vnd.jupyter.widget-view+json": {
       "model_id": "fc728ce212204629aad3b862ec1fbc42",
       "version_major": 2,
       "version_minor": 0
      },
      "text/plain": [
       "Image(value=b'\\xff\\xd8\\xff\\xe0\\x00\\x10JFIF\\x00\\x01\\x01\\x00\\x00\\x01\\x00\\x01\\x00\\x00\\xff\\xdb\\x00C\\x00\\x02\\x01\\x0…"
      ]
     },
     "metadata": {},
     "output_type": "display_data"
    },
    {
     "data": {
      "application/vnd.jupyter.widget-view+json": {
       "model_id": "fc728ce212204629aad3b862ec1fbc42",
       "version_major": 2,
       "version_minor": 0
      },
      "text/plain": [
       "Image(value=b'\\xff\\xd8\\xff\\xe0\\x00\\x10JFIF\\x00\\x01\\x01\\x00\\x00\\x01\\x00\\x01\\x00\\x00\\xff\\xdb\\x00C\\x00\\x02\\x01\\x0…"
      ]
     },
     "metadata": {},
     "output_type": "display_data"
    },
    {
     "data": {
      "application/vnd.jupyter.widget-view+json": {
       "model_id": "fc728ce212204629aad3b862ec1fbc42",
       "version_major": 2,
       "version_minor": 0
      },
      "text/plain": [
       "Image(value=b'\\xff\\xd8\\xff\\xe0\\x00\\x10JFIF\\x00\\x01\\x01\\x00\\x00\\x01\\x00\\x01\\x00\\x00\\xff\\xdb\\x00C\\x00\\x02\\x01\\x0…"
      ]
     },
     "metadata": {},
     "output_type": "display_data"
    },
    {
     "data": {
      "application/vnd.jupyter.widget-view+json": {
       "model_id": "fc728ce212204629aad3b862ec1fbc42",
       "version_major": 2,
       "version_minor": 0
      },
      "text/plain": [
       "Image(value=b'\\xff\\xd8\\xff\\xe0\\x00\\x10JFIF\\x00\\x01\\x01\\x00\\x00\\x01\\x00\\x01\\x00\\x00\\xff\\xdb\\x00C\\x00\\x02\\x01\\x0…"
      ]
     },
     "metadata": {},
     "output_type": "display_data"
    },
    {
     "data": {
      "application/vnd.jupyter.widget-view+json": {
       "model_id": "fc728ce212204629aad3b862ec1fbc42",
       "version_major": 2,
       "version_minor": 0
      },
      "text/plain": [
       "Image(value=b'\\xff\\xd8\\xff\\xe0\\x00\\x10JFIF\\x00\\x01\\x01\\x00\\x00\\x01\\x00\\x01\\x00\\x00\\xff\\xdb\\x00C\\x00\\x02\\x01\\x0…"
      ]
     },
     "metadata": {},
     "output_type": "display_data"
    },
    {
     "data": {
      "application/vnd.jupyter.widget-view+json": {
       "model_id": "fc728ce212204629aad3b862ec1fbc42",
       "version_major": 2,
       "version_minor": 0
      },
      "text/plain": [
       "Image(value=b'\\xff\\xd8\\xff\\xe0\\x00\\x10JFIF\\x00\\x01\\x01\\x00\\x00\\x01\\x00\\x01\\x00\\x00\\xff\\xdb\\x00C\\x00\\x02\\x01\\x0…"
      ]
     },
     "metadata": {},
     "output_type": "display_data"
    },
    {
     "data": {
      "application/vnd.jupyter.widget-view+json": {
       "model_id": "fc728ce212204629aad3b862ec1fbc42",
       "version_major": 2,
       "version_minor": 0
      },
      "text/plain": [
       "Image(value=b'\\xff\\xd8\\xff\\xe0\\x00\\x10JFIF\\x00\\x01\\x01\\x00\\x00\\x01\\x00\\x01\\x00\\x00\\xff\\xdb\\x00C\\x00\\x02\\x01\\x0…"
      ]
     },
     "metadata": {},
     "output_type": "display_data"
    },
    {
     "data": {
      "application/vnd.jupyter.widget-view+json": {
       "model_id": "fc728ce212204629aad3b862ec1fbc42",
       "version_major": 2,
       "version_minor": 0
      },
      "text/plain": [
       "Image(value=b'\\xff\\xd8\\xff\\xe0\\x00\\x10JFIF\\x00\\x01\\x01\\x00\\x00\\x01\\x00\\x01\\x00\\x00\\xff\\xdb\\x00C\\x00\\x02\\x01\\x0…"
      ]
     },
     "metadata": {},
     "output_type": "display_data"
    },
    {
     "data": {
      "application/vnd.jupyter.widget-view+json": {
       "model_id": "fc728ce212204629aad3b862ec1fbc42",
       "version_major": 2,
       "version_minor": 0
      },
      "text/plain": [
       "Image(value=b'\\xff\\xd8\\xff\\xe0\\x00\\x10JFIF\\x00\\x01\\x01\\x00\\x00\\x01\\x00\\x01\\x00\\x00\\xff\\xdb\\x00C\\x00\\x02\\x01\\x0…"
      ]
     },
     "metadata": {},
     "output_type": "display_data"
    },
    {
     "data": {
      "application/vnd.jupyter.widget-view+json": {
       "model_id": "fc728ce212204629aad3b862ec1fbc42",
       "version_major": 2,
       "version_minor": 0
      },
      "text/plain": [
       "Image(value=b'\\xff\\xd8\\xff\\xe0\\x00\\x10JFIF\\x00\\x01\\x01\\x00\\x00\\x01\\x00\\x01\\x00\\x00\\xff\\xdb\\x00C\\x00\\x02\\x01\\x0…"
      ]
     },
     "metadata": {},
     "output_type": "display_data"
    },
    {
     "data": {
      "application/vnd.jupyter.widget-view+json": {
       "model_id": "fc728ce212204629aad3b862ec1fbc42",
       "version_major": 2,
       "version_minor": 0
      },
      "text/plain": [
       "Image(value=b'\\xff\\xd8\\xff\\xe0\\x00\\x10JFIF\\x00\\x01\\x01\\x00\\x00\\x01\\x00\\x01\\x00\\x00\\xff\\xdb\\x00C\\x00\\x02\\x01\\x0…"
      ]
     },
     "metadata": {},
     "output_type": "display_data"
    },
    {
     "data": {
      "application/vnd.jupyter.widget-view+json": {
       "model_id": "fc728ce212204629aad3b862ec1fbc42",
       "version_major": 2,
       "version_minor": 0
      },
      "text/plain": [
       "Image(value=b'\\xff\\xd8\\xff\\xe0\\x00\\x10JFIF\\x00\\x01\\x01\\x00\\x00\\x01\\x00\\x01\\x00\\x00\\xff\\xdb\\x00C\\x00\\x02\\x01\\x0…"
      ]
     },
     "metadata": {},
     "output_type": "display_data"
    },
    {
     "data": {
      "application/vnd.jupyter.widget-view+json": {
       "model_id": "fc728ce212204629aad3b862ec1fbc42",
       "version_major": 2,
       "version_minor": 0
      },
      "text/plain": [
       "Image(value=b'\\xff\\xd8\\xff\\xe0\\x00\\x10JFIF\\x00\\x01\\x01\\x00\\x00\\x01\\x00\\x01\\x00\\x00\\xff\\xdb\\x00C\\x00\\x02\\x01\\x0…"
      ]
     },
     "metadata": {},
     "output_type": "display_data"
    },
    {
     "data": {
      "application/vnd.jupyter.widget-view+json": {
       "model_id": "fc728ce212204629aad3b862ec1fbc42",
       "version_major": 2,
       "version_minor": 0
      },
      "text/plain": [
       "Image(value=b'\\xff\\xd8\\xff\\xe0\\x00\\x10JFIF\\x00\\x01\\x01\\x00\\x00\\x01\\x00\\x01\\x00\\x00\\xff\\xdb\\x00C\\x00\\x02\\x01\\x0…"
      ]
     },
     "metadata": {},
     "output_type": "display_data"
    },
    {
     "data": {
      "application/vnd.jupyter.widget-view+json": {
       "model_id": "fc728ce212204629aad3b862ec1fbc42",
       "version_major": 2,
       "version_minor": 0
      },
      "text/plain": [
       "Image(value=b'\\xff\\xd8\\xff\\xe0\\x00\\x10JFIF\\x00\\x01\\x01\\x00\\x00\\x01\\x00\\x01\\x00\\x00\\xff\\xdb\\x00C\\x00\\x02\\x01\\x0…"
      ]
     },
     "metadata": {},
     "output_type": "display_data"
    },
    {
     "data": {
      "application/vnd.jupyter.widget-view+json": {
       "model_id": "fc728ce212204629aad3b862ec1fbc42",
       "version_major": 2,
       "version_minor": 0
      },
      "text/plain": [
       "Image(value=b'\\xff\\xd8\\xff\\xe0\\x00\\x10JFIF\\x00\\x01\\x01\\x00\\x00\\x01\\x00\\x01\\x00\\x00\\xff\\xdb\\x00C\\x00\\x02\\x01\\x0…"
      ]
     },
     "metadata": {},
     "output_type": "display_data"
    },
    {
     "data": {
      "application/vnd.jupyter.widget-view+json": {
       "model_id": "fc728ce212204629aad3b862ec1fbc42",
       "version_major": 2,
       "version_minor": 0
      },
      "text/plain": [
       "Image(value=b'\\xff\\xd8\\xff\\xe0\\x00\\x10JFIF\\x00\\x01\\x01\\x00\\x00\\x01\\x00\\x01\\x00\\x00\\xff\\xdb\\x00C\\x00\\x02\\x01\\x0…"
      ]
     },
     "metadata": {},
     "output_type": "display_data"
    },
    {
     "data": {
      "application/vnd.jupyter.widget-view+json": {
       "model_id": "fc728ce212204629aad3b862ec1fbc42",
       "version_major": 2,
       "version_minor": 0
      },
      "text/plain": [
       "Image(value=b'\\xff\\xd8\\xff\\xe0\\x00\\x10JFIF\\x00\\x01\\x01\\x00\\x00\\x01\\x00\\x01\\x00\\x00\\xff\\xdb\\x00C\\x00\\x02\\x01\\x0…"
      ]
     },
     "metadata": {},
     "output_type": "display_data"
    },
    {
     "data": {
      "application/vnd.jupyter.widget-view+json": {
       "model_id": "fc728ce212204629aad3b862ec1fbc42",
       "version_major": 2,
       "version_minor": 0
      },
      "text/plain": [
       "Image(value=b'\\xff\\xd8\\xff\\xe0\\x00\\x10JFIF\\x00\\x01\\x01\\x00\\x00\\x01\\x00\\x01\\x00\\x00\\xff\\xdb\\x00C\\x00\\x02\\x01\\x0…"
      ]
     },
     "metadata": {},
     "output_type": "display_data"
    },
    {
     "data": {
      "application/vnd.jupyter.widget-view+json": {
       "model_id": "fc728ce212204629aad3b862ec1fbc42",
       "version_major": 2,
       "version_minor": 0
      },
      "text/plain": [
       "Image(value=b'\\xff\\xd8\\xff\\xe0\\x00\\x10JFIF\\x00\\x01\\x01\\x00\\x00\\x01\\x00\\x01\\x00\\x00\\xff\\xdb\\x00C\\x00\\x02\\x01\\x0…"
      ]
     },
     "metadata": {},
     "output_type": "display_data"
    },
    {
     "data": {
      "application/vnd.jupyter.widget-view+json": {
       "model_id": "fc728ce212204629aad3b862ec1fbc42",
       "version_major": 2,
       "version_minor": 0
      },
      "text/plain": [
       "Image(value=b'\\xff\\xd8\\xff\\xe0\\x00\\x10JFIF\\x00\\x01\\x01\\x00\\x00\\x01\\x00\\x01\\x00\\x00\\xff\\xdb\\x00C\\x00\\x02\\x01\\x0…"
      ]
     },
     "metadata": {},
     "output_type": "display_data"
    },
    {
     "data": {
      "application/vnd.jupyter.widget-view+json": {
       "model_id": "fc728ce212204629aad3b862ec1fbc42",
       "version_major": 2,
       "version_minor": 0
      },
      "text/plain": [
       "Image(value=b'\\xff\\xd8\\xff\\xe0\\x00\\x10JFIF\\x00\\x01\\x01\\x00\\x00\\x01\\x00\\x01\\x00\\x00\\xff\\xdb\\x00C\\x00\\x02\\x01\\x0…"
      ]
     },
     "metadata": {},
     "output_type": "display_data"
    },
    {
     "data": {
      "application/vnd.jupyter.widget-view+json": {
       "model_id": "fc728ce212204629aad3b862ec1fbc42",
       "version_major": 2,
       "version_minor": 0
      },
      "text/plain": [
       "Image(value=b'\\xff\\xd8\\xff\\xe0\\x00\\x10JFIF\\x00\\x01\\x01\\x00\\x00\\x01\\x00\\x01\\x00\\x00\\xff\\xdb\\x00C\\x00\\x02\\x01\\x0…"
      ]
     },
     "metadata": {},
     "output_type": "display_data"
    },
    {
     "data": {
      "application/vnd.jupyter.widget-view+json": {
       "model_id": "fc728ce212204629aad3b862ec1fbc42",
       "version_major": 2,
       "version_minor": 0
      },
      "text/plain": [
       "Image(value=b'\\xff\\xd8\\xff\\xe0\\x00\\x10JFIF\\x00\\x01\\x01\\x00\\x00\\x01\\x00\\x01\\x00\\x00\\xff\\xdb\\x00C\\x00\\x02\\x01\\x0…"
      ]
     },
     "metadata": {},
     "output_type": "display_data"
    },
    {
     "data": {
      "application/vnd.jupyter.widget-view+json": {
       "model_id": "fc728ce212204629aad3b862ec1fbc42",
       "version_major": 2,
       "version_minor": 0
      },
      "text/plain": [
       "Image(value=b'\\xff\\xd8\\xff\\xe0\\x00\\x10JFIF\\x00\\x01\\x01\\x00\\x00\\x01\\x00\\x01\\x00\\x00\\xff\\xdb\\x00C\\x00\\x02\\x01\\x0…"
      ]
     },
     "metadata": {},
     "output_type": "display_data"
    },
    {
     "data": {
      "application/vnd.jupyter.widget-view+json": {
       "model_id": "fc728ce212204629aad3b862ec1fbc42",
       "version_major": 2,
       "version_minor": 0
      },
      "text/plain": [
       "Image(value=b'\\xff\\xd8\\xff\\xe0\\x00\\x10JFIF\\x00\\x01\\x01\\x00\\x00\\x01\\x00\\x01\\x00\\x00\\xff\\xdb\\x00C\\x00\\x02\\x01\\x0…"
      ]
     },
     "metadata": {},
     "output_type": "display_data"
    },
    {
     "data": {
      "application/vnd.jupyter.widget-view+json": {
       "model_id": "fc728ce212204629aad3b862ec1fbc42",
       "version_major": 2,
       "version_minor": 0
      },
      "text/plain": [
       "Image(value=b'\\xff\\xd8\\xff\\xe0\\x00\\x10JFIF\\x00\\x01\\x01\\x00\\x00\\x01\\x00\\x01\\x00\\x00\\xff\\xdb\\x00C\\x00\\x02\\x01\\x0…"
      ]
     },
     "metadata": {},
     "output_type": "display_data"
    },
    {
     "data": {
      "application/vnd.jupyter.widget-view+json": {
       "model_id": "fc728ce212204629aad3b862ec1fbc42",
       "version_major": 2,
       "version_minor": 0
      },
      "text/plain": [
       "Image(value=b'\\xff\\xd8\\xff\\xe0\\x00\\x10JFIF\\x00\\x01\\x01\\x00\\x00\\x01\\x00\\x01\\x00\\x00\\xff\\xdb\\x00C\\x00\\x02\\x01\\x0…"
      ]
     },
     "metadata": {},
     "output_type": "display_data"
    },
    {
     "data": {
      "application/vnd.jupyter.widget-view+json": {
       "model_id": "fc728ce212204629aad3b862ec1fbc42",
       "version_major": 2,
       "version_minor": 0
      },
      "text/plain": [
       "Image(value=b'\\xff\\xd8\\xff\\xe0\\x00\\x10JFIF\\x00\\x01\\x01\\x00\\x00\\x01\\x00\\x01\\x00\\x00\\xff\\xdb\\x00C\\x00\\x02\\x01\\x0…"
      ]
     },
     "metadata": {},
     "output_type": "display_data"
    },
    {
     "data": {
      "application/vnd.jupyter.widget-view+json": {
       "model_id": "fc728ce212204629aad3b862ec1fbc42",
       "version_major": 2,
       "version_minor": 0
      },
      "text/plain": [
       "Image(value=b'\\xff\\xd8\\xff\\xe0\\x00\\x10JFIF\\x00\\x01\\x01\\x00\\x00\\x01\\x00\\x01\\x00\\x00\\xff\\xdb\\x00C\\x00\\x02\\x01\\x0…"
      ]
     },
     "metadata": {},
     "output_type": "display_data"
    },
    {
     "data": {
      "application/vnd.jupyter.widget-view+json": {
       "model_id": "fc728ce212204629aad3b862ec1fbc42",
       "version_major": 2,
       "version_minor": 0
      },
      "text/plain": [
       "Image(value=b'\\xff\\xd8\\xff\\xe0\\x00\\x10JFIF\\x00\\x01\\x01\\x00\\x00\\x01\\x00\\x01\\x00\\x00\\xff\\xdb\\x00C\\x00\\x02\\x01\\x0…"
      ]
     },
     "metadata": {},
     "output_type": "display_data"
    },
    {
     "data": {
      "application/vnd.jupyter.widget-view+json": {
       "model_id": "fc728ce212204629aad3b862ec1fbc42",
       "version_major": 2,
       "version_minor": 0
      },
      "text/plain": [
       "Image(value=b'\\xff\\xd8\\xff\\xe0\\x00\\x10JFIF\\x00\\x01\\x01\\x00\\x00\\x01\\x00\\x01\\x00\\x00\\xff\\xdb\\x00C\\x00\\x02\\x01\\x0…"
      ]
     },
     "metadata": {},
     "output_type": "display_data"
    }
   ],
   "source": [
    "import numpy as np\n",
    "import glob\n",
    "\n",
    "\n",
    "\n",
    "car.steering = 0.8\n",
    "car.steering = -0.8\n",
    "car.steering = 0\n",
    "car.throttle=-0.3\n",
    "\n",
    "i = 0\n",
    "while True:\n",
    "    frame = camera.read()\n",
    "    \n",
    "    image_widget.value = bgr8_to_jpeg(frame)\n",
    "    display(image_widget)\n",
    "    cv2.imwrite('%s.jpg' % i, frame)\n",
    "\n",
    "    i +=1\n",
    "    if i == 100:\n",
    "        break\n",
    "car.throttle=0\n",
    "cv2.destroyAllWindows()"
   ]
  },
  {
   "cell_type": "code",
   "execution_count": null,
   "id": "39ba8a37",
   "metadata": {},
   "outputs": [
    {
     "name": "stdout",
     "output_type": "stream",
     "text": [
      "['6.jpg', '15.jpg', '4.jpg', '28.jpg', 'corners52.jpg.jpg', '38.jpg', '88.jpg', 'corners39.jpg.jpg', '53.jpg', '1.jpg', '19.jpg', '60.jpg', '83.jpg', '91.jpg', '61.jpg', '79.jpg', '46.jpg', '71.jpg', '11.jpg', '39.jpg', '35.jpg', 'corners40.jpg.jpg', '99.jpg', 'corners54.jpg.jpg', '63.jpg', '49.jpg', '48.jpg', '67.jpg', '89.jpg', '3.jpg', '10.jpg', '66.jpg', '59.jpg', 'corners50.jpg.jpg', '42.jpg', '34.jpg', '52.jpg', '68.jpg', '58.jpg', 'corners41.jpg.jpg', 'corners68.jpg.jpg', '98.jpg', '22.jpg', 'Corners.jpg', '69.jpg', '84.jpg', '27.jpg', '14.jpg', '16.jpg', 'corners48.jpg.jpg', '50.jpg', '36.jpg', '13.jpg', '56.jpg', '54.jpg', '81.jpg', '32.jpg', '8.jpg', '47.jpg', '21.jpg', 'corners6.jpg.jpg', '94.jpg', 'corners47.jpg.jpg', '40.jpg', '64.jpg', '7.jpg', '65.jpg', '90.jpg', '30.jpg', 'corners51.jpg.jpg', '57.jpg', '97.jpg', '62.jpg', '24.jpg', '80.jpg', 'corners57.jpg.jpg', '87.jpg', '77.jpg', '37.jpg', '70.jpg', '93.jpg', '73.jpg', '76.jpg', '85.jpg', '20.jpg', '31.jpg', 'corners59.jpg.jpg', '45.jpg', '44.jpg', '41.jpg', 'corners7.jpg.jpg', '78.jpg', 'corners53.jpg.jpg', '9.jpg', '72.jpg', 'corners46.jpg.jpg', '18.jpg', '29.jpg', '74.jpg', '26.jpg', '12.jpg', '82.jpg', '25.jpg', 'corners55.jpg.jpg', '96.jpg', '92.jpg', 'corners42.jpg.jpg', 'corners11.jpg.jpg', 'corners49.jpg.jpg', '95.jpg', '33.jpg', 'corners20.jpg.jpg', '86.jpg', '0.jpg', '51.jpg', 'corners60.jpg.jpg', '75.jpg', '23.jpg', '55.jpg', '17.jpg', 'corners5.jpg.jpg', '5.jpg', 'corners56.jpg.jpg', '43.jpg', '2.jpg']\n",
      "6.jpg\n",
      "15.jpg\n",
      "4.jpg\n",
      "28.jpg\n",
      "corners52.jpg.jpg\n",
      "38.jpg\n",
      "88.jpg\n",
      "corners39.jpg.jpg\n",
      "53.jpg\n",
      "1.jpg\n",
      "19.jpg\n",
      "60.jpg\n",
      "83.jpg\n",
      "91.jpg\n",
      "61.jpg\n",
      "79.jpg\n",
      "46.jpg\n",
      "71.jpg\n",
      "11.jpg\n",
      "39.jpg\n",
      "35.jpg\n",
      "corners40.jpg.jpg\n",
      "99.jpg\n",
      "corners54.jpg.jpg\n",
      "63.jpg\n",
      "49.jpg\n",
      "48.jpg\n",
      "67.jpg\n",
      "89.jpg\n",
      "3.jpg\n",
      "10.jpg\n",
      "66.jpg\n",
      "59.jpg\n",
      "corners50.jpg.jpg\n",
      "42.jpg\n",
      "34.jpg\n",
      "52.jpg\n",
      "68.jpg\n",
      "58.jpg\n",
      "corners41.jpg.jpg\n",
      "corners68.jpg.jpg\n",
      "98.jpg\n",
      "22.jpg\n",
      "Corners.jpg\n"
     ]
    }
   ],
   "source": [
    "import numpy as np\n",
    "import glob\n",
    "import cv2\n",
    "\n",
    "\n",
    "\n",
    "# termination criteria\n",
    "criteria = (cv2.TERM_CRITERIA_EPS + cv2.TERM_CRITERIA_MAX_ITER, 30, 0.001)\n",
    "\n",
    "# prepare object points, like (0,0,0), (1,0,0), (2,0,0) ....,(6,5,0)\n",
    "objp = np.zeros((6*7,3), np.float32)\n",
    "objp[:,:2] = np.mgrid[0:7,0:6].T.reshape(-1,2)\n",
    "\n",
    "# Arrays to store object points and image points from all the images.\n",
    "objpoints = [] # 3d point in real world space\n",
    "imgpoints = [] # 2d points in image plane.\n",
    "images = glob.glob('*.jpg')\n",
    "print(images)\n",
    "for fname in images:\n",
    "    print(fname)\n",
    "    img = cv2.imread(fname)\n",
    "    gray = cv2.cvtColor(img, cv2.COLOR_BGR2GRAY)\n",
    "    \n",
    "    # Find the chess board corners\n",
    "    ret, corners = cv2.findChessboardCorners(gray, (7,6), None)\n",
    "\n",
    "    \n",
    "    # If found, add object points, image points (after refining them)\n",
    "    if ret == True:\n",
    "        objpoints.append(objp)\n",
    "        corners2 = cv2.cornerSubPix(gray,corners, (11,11), (-1,-1), criteria)\n",
    "\n",
    "        imgpoints.append(corners2)\n",
    "        \n",
    "        # Draw and display the corners\n",
    "        print(\"FOUND WRITE\")\n",
    "        cv2.drawChessboardCorners(img, (7,6), corners2, ret)\n",
    "        cv2.imwrite('corners%s' % fname, img)\n",
    "        \n",
    "cv2.destroyAllWindows()"
   ]
  },
  {
   "cell_type": "code",
   "execution_count": 2,
   "id": "e635d53b",
   "metadata": {
    "scrolled": false
   },
   "outputs": [
    {
     "name": "stdout",
     "output_type": "stream",
     "text": [
      "[array([[0., 0., 0.],\n",
      "       [1., 0., 0.],\n",
      "       [2., 0., 0.],\n",
      "       [3., 0., 0.],\n",
      "       [4., 0., 0.],\n",
      "       [5., 0., 0.],\n",
      "       [6., 0., 0.],\n",
      "       [0., 1., 0.],\n",
      "       [1., 1., 0.],\n",
      "       [2., 1., 0.],\n",
      "       [3., 1., 0.],\n",
      "       [4., 1., 0.],\n",
      "       [5., 1., 0.],\n",
      "       [6., 1., 0.],\n",
      "       [0., 2., 0.],\n",
      "       [1., 2., 0.],\n",
      "       [2., 2., 0.],\n",
      "       [3., 2., 0.],\n",
      "       [4., 2., 0.],\n",
      "       [5., 2., 0.],\n",
      "       [6., 2., 0.],\n",
      "       [0., 3., 0.],\n",
      "       [1., 3., 0.],\n",
      "       [2., 3., 0.],\n",
      "       [3., 3., 0.],\n",
      "       [4., 3., 0.],\n",
      "       [5., 3., 0.],\n",
      "       [6., 3., 0.],\n",
      "       [0., 4., 0.],\n",
      "       [1., 4., 0.],\n",
      "       [2., 4., 0.],\n",
      "       [3., 4., 0.],\n",
      "       [4., 4., 0.],\n",
      "       [5., 4., 0.],\n",
      "       [6., 4., 0.],\n",
      "       [0., 5., 0.],\n",
      "       [1., 5., 0.],\n",
      "       [2., 5., 0.],\n",
      "       [3., 5., 0.],\n",
      "       [4., 5., 0.],\n",
      "       [5., 5., 0.],\n",
      "       [6., 5., 0.]], dtype=float32), array([[0., 0., 0.],\n",
      "       [1., 0., 0.],\n",
      "       [2., 0., 0.],\n",
      "       [3., 0., 0.],\n",
      "       [4., 0., 0.],\n",
      "       [5., 0., 0.],\n",
      "       [6., 0., 0.],\n",
      "       [0., 1., 0.],\n",
      "       [1., 1., 0.],\n",
      "       [2., 1., 0.],\n",
      "       [3., 1., 0.],\n",
      "       [4., 1., 0.],\n",
      "       [5., 1., 0.],\n",
      "       [6., 1., 0.],\n",
      "       [0., 2., 0.],\n",
      "       [1., 2., 0.],\n",
      "       [2., 2., 0.],\n",
      "       [3., 2., 0.],\n",
      "       [4., 2., 0.],\n",
      "       [5., 2., 0.],\n",
      "       [6., 2., 0.],\n",
      "       [0., 3., 0.],\n",
      "       [1., 3., 0.],\n",
      "       [2., 3., 0.],\n",
      "       [3., 3., 0.],\n",
      "       [4., 3., 0.],\n",
      "       [5., 3., 0.],\n",
      "       [6., 3., 0.],\n",
      "       [0., 4., 0.],\n",
      "       [1., 4., 0.],\n",
      "       [2., 4., 0.],\n",
      "       [3., 4., 0.],\n",
      "       [4., 4., 0.],\n",
      "       [5., 4., 0.],\n",
      "       [6., 4., 0.],\n",
      "       [0., 5., 0.],\n",
      "       [1., 5., 0.],\n",
      "       [2., 5., 0.],\n",
      "       [3., 5., 0.],\n",
      "       [4., 5., 0.],\n",
      "       [5., 5., 0.],\n",
      "       [6., 5., 0.]], dtype=float32), array([[0., 0., 0.],\n",
      "       [1., 0., 0.],\n",
      "       [2., 0., 0.],\n",
      "       [3., 0., 0.],\n",
      "       [4., 0., 0.],\n",
      "       [5., 0., 0.],\n",
      "       [6., 0., 0.],\n",
      "       [0., 1., 0.],\n",
      "       [1., 1., 0.],\n",
      "       [2., 1., 0.],\n",
      "       [3., 1., 0.],\n",
      "       [4., 1., 0.],\n",
      "       [5., 1., 0.],\n",
      "       [6., 1., 0.],\n",
      "       [0., 2., 0.],\n",
      "       [1., 2., 0.],\n",
      "       [2., 2., 0.],\n",
      "       [3., 2., 0.],\n",
      "       [4., 2., 0.],\n",
      "       [5., 2., 0.],\n",
      "       [6., 2., 0.],\n",
      "       [0., 3., 0.],\n",
      "       [1., 3., 0.],\n",
      "       [2., 3., 0.],\n",
      "       [3., 3., 0.],\n",
      "       [4., 3., 0.],\n",
      "       [5., 3., 0.],\n",
      "       [6., 3., 0.],\n",
      "       [0., 4., 0.],\n",
      "       [1., 4., 0.],\n",
      "       [2., 4., 0.],\n",
      "       [3., 4., 0.],\n",
      "       [4., 4., 0.],\n",
      "       [5., 4., 0.],\n",
      "       [6., 4., 0.],\n",
      "       [0., 5., 0.],\n",
      "       [1., 5., 0.],\n",
      "       [2., 5., 0.],\n",
      "       [3., 5., 0.],\n",
      "       [4., 5., 0.],\n",
      "       [5., 5., 0.],\n",
      "       [6., 5., 0.]], dtype=float32), array([[0., 0., 0.],\n",
      "       [1., 0., 0.],\n",
      "       [2., 0., 0.],\n",
      "       [3., 0., 0.],\n",
      "       [4., 0., 0.],\n",
      "       [5., 0., 0.],\n",
      "       [6., 0., 0.],\n",
      "       [0., 1., 0.],\n",
      "       [1., 1., 0.],\n",
      "       [2., 1., 0.],\n",
      "       [3., 1., 0.],\n",
      "       [4., 1., 0.],\n",
      "       [5., 1., 0.],\n",
      "       [6., 1., 0.],\n",
      "       [0., 2., 0.],\n",
      "       [1., 2., 0.],\n",
      "       [2., 2., 0.],\n",
      "       [3., 2., 0.],\n",
      "       [4., 2., 0.],\n",
      "       [5., 2., 0.],\n",
      "       [6., 2., 0.],\n",
      "       [0., 3., 0.],\n",
      "       [1., 3., 0.],\n",
      "       [2., 3., 0.],\n",
      "       [3., 3., 0.],\n",
      "       [4., 3., 0.],\n",
      "       [5., 3., 0.],\n",
      "       [6., 3., 0.],\n",
      "       [0., 4., 0.],\n",
      "       [1., 4., 0.],\n",
      "       [2., 4., 0.],\n",
      "       [3., 4., 0.],\n",
      "       [4., 4., 0.],\n",
      "       [5., 4., 0.],\n",
      "       [6., 4., 0.],\n",
      "       [0., 5., 0.],\n",
      "       [1., 5., 0.],\n",
      "       [2., 5., 0.],\n",
      "       [3., 5., 0.],\n",
      "       [4., 5., 0.],\n",
      "       [5., 5., 0.],\n",
      "       [6., 5., 0.]], dtype=float32), array([[0., 0., 0.],\n",
      "       [1., 0., 0.],\n",
      "       [2., 0., 0.],\n",
      "       [3., 0., 0.],\n",
      "       [4., 0., 0.],\n",
      "       [5., 0., 0.],\n",
      "       [6., 0., 0.],\n",
      "       [0., 1., 0.],\n",
      "       [1., 1., 0.],\n",
      "       [2., 1., 0.],\n",
      "       [3., 1., 0.],\n",
      "       [4., 1., 0.],\n",
      "       [5., 1., 0.],\n",
      "       [6., 1., 0.],\n",
      "       [0., 2., 0.],\n",
      "       [1., 2., 0.],\n",
      "       [2., 2., 0.],\n",
      "       [3., 2., 0.],\n",
      "       [4., 2., 0.],\n",
      "       [5., 2., 0.],\n",
      "       [6., 2., 0.],\n",
      "       [0., 3., 0.],\n",
      "       [1., 3., 0.],\n",
      "       [2., 3., 0.],\n",
      "       [3., 3., 0.],\n",
      "       [4., 3., 0.],\n",
      "       [5., 3., 0.],\n",
      "       [6., 3., 0.],\n",
      "       [0., 4., 0.],\n",
      "       [1., 4., 0.],\n",
      "       [2., 4., 0.],\n",
      "       [3., 4., 0.],\n",
      "       [4., 4., 0.],\n",
      "       [5., 4., 0.],\n",
      "       [6., 4., 0.],\n",
      "       [0., 5., 0.],\n",
      "       [1., 5., 0.],\n",
      "       [2., 5., 0.],\n",
      "       [3., 5., 0.],\n",
      "       [4., 5., 0.],\n",
      "       [5., 5., 0.],\n",
      "       [6., 5., 0.]], dtype=float32), array([[0., 0., 0.],\n",
      "       [1., 0., 0.],\n",
      "       [2., 0., 0.],\n",
      "       [3., 0., 0.],\n",
      "       [4., 0., 0.],\n",
      "       [5., 0., 0.],\n",
      "       [6., 0., 0.],\n",
      "       [0., 1., 0.],\n",
      "       [1., 1., 0.],\n",
      "       [2., 1., 0.],\n",
      "       [3., 1., 0.],\n",
      "       [4., 1., 0.],\n",
      "       [5., 1., 0.],\n",
      "       [6., 1., 0.],\n",
      "       [0., 2., 0.],\n",
      "       [1., 2., 0.],\n",
      "       [2., 2., 0.],\n",
      "       [3., 2., 0.],\n",
      "       [4., 2., 0.],\n",
      "       [5., 2., 0.],\n",
      "       [6., 2., 0.],\n",
      "       [0., 3., 0.],\n",
      "       [1., 3., 0.],\n",
      "       [2., 3., 0.],\n",
      "       [3., 3., 0.],\n",
      "       [4., 3., 0.],\n",
      "       [5., 3., 0.],\n",
      "       [6., 3., 0.],\n",
      "       [0., 4., 0.],\n",
      "       [1., 4., 0.],\n",
      "       [2., 4., 0.],\n",
      "       [3., 4., 0.],\n",
      "       [4., 4., 0.],\n",
      "       [5., 4., 0.],\n",
      "       [6., 4., 0.],\n",
      "       [0., 5., 0.],\n",
      "       [1., 5., 0.],\n",
      "       [2., 5., 0.],\n",
      "       [3., 5., 0.],\n",
      "       [4., 5., 0.],\n",
      "       [5., 5., 0.],\n",
      "       [6., 5., 0.]], dtype=float32), array([[0., 0., 0.],\n",
      "       [1., 0., 0.],\n",
      "       [2., 0., 0.],\n",
      "       [3., 0., 0.],\n",
      "       [4., 0., 0.],\n",
      "       [5., 0., 0.],\n",
      "       [6., 0., 0.],\n",
      "       [0., 1., 0.],\n",
      "       [1., 1., 0.],\n",
      "       [2., 1., 0.],\n",
      "       [3., 1., 0.],\n",
      "       [4., 1., 0.],\n",
      "       [5., 1., 0.],\n",
      "       [6., 1., 0.],\n",
      "       [0., 2., 0.],\n",
      "       [1., 2., 0.],\n",
      "       [2., 2., 0.],\n",
      "       [3., 2., 0.],\n",
      "       [4., 2., 0.],\n",
      "       [5., 2., 0.],\n",
      "       [6., 2., 0.],\n",
      "       [0., 3., 0.],\n",
      "       [1., 3., 0.],\n",
      "       [2., 3., 0.],\n",
      "       [3., 3., 0.],\n",
      "       [4., 3., 0.],\n",
      "       [5., 3., 0.],\n",
      "       [6., 3., 0.],\n",
      "       [0., 4., 0.],\n",
      "       [1., 4., 0.],\n",
      "       [2., 4., 0.],\n",
      "       [3., 4., 0.],\n",
      "       [4., 4., 0.],\n",
      "       [5., 4., 0.],\n",
      "       [6., 4., 0.],\n",
      "       [0., 5., 0.],\n",
      "       [1., 5., 0.],\n",
      "       [2., 5., 0.],\n",
      "       [3., 5., 0.],\n",
      "       [4., 5., 0.],\n",
      "       [5., 5., 0.],\n",
      "       [6., 5., 0.]], dtype=float32), array([[0., 0., 0.],\n",
      "       [1., 0., 0.],\n",
      "       [2., 0., 0.],\n",
      "       [3., 0., 0.],\n",
      "       [4., 0., 0.],\n",
      "       [5., 0., 0.],\n",
      "       [6., 0., 0.],\n",
      "       [0., 1., 0.],\n",
      "       [1., 1., 0.],\n",
      "       [2., 1., 0.],\n",
      "       [3., 1., 0.],\n",
      "       [4., 1., 0.],\n",
      "       [5., 1., 0.],\n",
      "       [6., 1., 0.],\n",
      "       [0., 2., 0.],\n",
      "       [1., 2., 0.],\n",
      "       [2., 2., 0.],\n",
      "       [3., 2., 0.],\n",
      "       [4., 2., 0.],\n",
      "       [5., 2., 0.],\n",
      "       [6., 2., 0.],\n",
      "       [0., 3., 0.],\n",
      "       [1., 3., 0.],\n",
      "       [2., 3., 0.],\n",
      "       [3., 3., 0.],\n",
      "       [4., 3., 0.],\n",
      "       [5., 3., 0.],\n",
      "       [6., 3., 0.],\n",
      "       [0., 4., 0.],\n",
      "       [1., 4., 0.],\n",
      "       [2., 4., 0.],\n",
      "       [3., 4., 0.],\n",
      "       [4., 4., 0.],\n",
      "       [5., 4., 0.],\n",
      "       [6., 4., 0.],\n",
      "       [0., 5., 0.],\n",
      "       [1., 5., 0.],\n",
      "       [2., 5., 0.],\n",
      "       [3., 5., 0.],\n",
      "       [4., 5., 0.],\n",
      "       [5., 5., 0.],\n",
      "       [6., 5., 0.]], dtype=float32), array([[0., 0., 0.],\n",
      "       [1., 0., 0.],\n",
      "       [2., 0., 0.],\n",
      "       [3., 0., 0.],\n",
      "       [4., 0., 0.],\n",
      "       [5., 0., 0.],\n",
      "       [6., 0., 0.],\n",
      "       [0., 1., 0.],\n",
      "       [1., 1., 0.],\n",
      "       [2., 1., 0.],\n",
      "       [3., 1., 0.],\n",
      "       [4., 1., 0.],\n",
      "       [5., 1., 0.],\n",
      "       [6., 1., 0.],\n",
      "       [0., 2., 0.],\n",
      "       [1., 2., 0.],\n",
      "       [2., 2., 0.],\n",
      "       [3., 2., 0.],\n",
      "       [4., 2., 0.],\n",
      "       [5., 2., 0.],\n",
      "       [6., 2., 0.],\n",
      "       [0., 3., 0.],\n",
      "       [1., 3., 0.],\n",
      "       [2., 3., 0.],\n",
      "       [3., 3., 0.],\n",
      "       [4., 3., 0.],\n",
      "       [5., 3., 0.],\n",
      "       [6., 3., 0.],\n",
      "       [0., 4., 0.],\n",
      "       [1., 4., 0.],\n",
      "       [2., 4., 0.],\n",
      "       [3., 4., 0.],\n",
      "       [4., 4., 0.],\n",
      "       [5., 4., 0.],\n",
      "       [6., 4., 0.],\n",
      "       [0., 5., 0.],\n",
      "       [1., 5., 0.],\n",
      "       [2., 5., 0.],\n",
      "       [3., 5., 0.],\n",
      "       [4., 5., 0.],\n",
      "       [5., 5., 0.],\n",
      "       [6., 5., 0.]], dtype=float32), array([[0., 0., 0.],\n",
      "       [1., 0., 0.],\n",
      "       [2., 0., 0.],\n",
      "       [3., 0., 0.],\n",
      "       [4., 0., 0.],\n",
      "       [5., 0., 0.],\n",
      "       [6., 0., 0.],\n",
      "       [0., 1., 0.],\n",
      "       [1., 1., 0.],\n",
      "       [2., 1., 0.],\n",
      "       [3., 1., 0.],\n",
      "       [4., 1., 0.],\n",
      "       [5., 1., 0.],\n",
      "       [6., 1., 0.],\n",
      "       [0., 2., 0.],\n",
      "       [1., 2., 0.],\n",
      "       [2., 2., 0.],\n",
      "       [3., 2., 0.],\n",
      "       [4., 2., 0.],\n",
      "       [5., 2., 0.],\n",
      "       [6., 2., 0.],\n",
      "       [0., 3., 0.],\n",
      "       [1., 3., 0.],\n",
      "       [2., 3., 0.],\n",
      "       [3., 3., 0.],\n",
      "       [4., 3., 0.],\n",
      "       [5., 3., 0.],\n",
      "       [6., 3., 0.],\n",
      "       [0., 4., 0.],\n",
      "       [1., 4., 0.],\n",
      "       [2., 4., 0.],\n",
      "       [3., 4., 0.],\n",
      "       [4., 4., 0.],\n",
      "       [5., 4., 0.],\n",
      "       [6., 4., 0.],\n",
      "       [0., 5., 0.],\n",
      "       [1., 5., 0.],\n",
      "       [2., 5., 0.],\n",
      "       [3., 5., 0.],\n",
      "       [4., 5., 0.],\n",
      "       [5., 5., 0.],\n",
      "       [6., 5., 0.]], dtype=float32), array([[0., 0., 0.],\n",
      "       [1., 0., 0.],\n",
      "       [2., 0., 0.],\n",
      "       [3., 0., 0.],\n",
      "       [4., 0., 0.],\n",
      "       [5., 0., 0.],\n",
      "       [6., 0., 0.],\n",
      "       [0., 1., 0.],\n",
      "       [1., 1., 0.],\n",
      "       [2., 1., 0.],\n",
      "       [3., 1., 0.],\n",
      "       [4., 1., 0.],\n",
      "       [5., 1., 0.],\n",
      "       [6., 1., 0.],\n",
      "       [0., 2., 0.],\n",
      "       [1., 2., 0.],\n",
      "       [2., 2., 0.],\n",
      "       [3., 2., 0.],\n",
      "       [4., 2., 0.],\n",
      "       [5., 2., 0.],\n",
      "       [6., 2., 0.],\n",
      "       [0., 3., 0.],\n",
      "       [1., 3., 0.],\n",
      "       [2., 3., 0.],\n",
      "       [3., 3., 0.],\n",
      "       [4., 3., 0.],\n",
      "       [5., 3., 0.],\n",
      "       [6., 3., 0.],\n",
      "       [0., 4., 0.],\n",
      "       [1., 4., 0.],\n",
      "       [2., 4., 0.],\n",
      "       [3., 4., 0.],\n",
      "       [4., 4., 0.],\n",
      "       [5., 4., 0.],\n",
      "       [6., 4., 0.],\n",
      "       [0., 5., 0.],\n",
      "       [1., 5., 0.],\n",
      "       [2., 5., 0.],\n",
      "       [3., 5., 0.],\n",
      "       [4., 5., 0.],\n",
      "       [5., 5., 0.],\n",
      "       [6., 5., 0.]], dtype=float32), array([[0., 0., 0.],\n",
      "       [1., 0., 0.],\n",
      "       [2., 0., 0.],\n",
      "       [3., 0., 0.],\n",
      "       [4., 0., 0.],\n",
      "       [5., 0., 0.],\n",
      "       [6., 0., 0.],\n",
      "       [0., 1., 0.],\n",
      "       [1., 1., 0.],\n",
      "       [2., 1., 0.],\n",
      "       [3., 1., 0.],\n",
      "       [4., 1., 0.],\n",
      "       [5., 1., 0.],\n",
      "       [6., 1., 0.],\n",
      "       [0., 2., 0.],\n",
      "       [1., 2., 0.],\n",
      "       [2., 2., 0.],\n",
      "       [3., 2., 0.],\n",
      "       [4., 2., 0.],\n",
      "       [5., 2., 0.],\n",
      "       [6., 2., 0.],\n",
      "       [0., 3., 0.],\n",
      "       [1., 3., 0.],\n",
      "       [2., 3., 0.],\n",
      "       [3., 3., 0.],\n",
      "       [4., 3., 0.],\n",
      "       [5., 3., 0.],\n",
      "       [6., 3., 0.],\n",
      "       [0., 4., 0.],\n",
      "       [1., 4., 0.],\n",
      "       [2., 4., 0.],\n",
      "       [3., 4., 0.],\n",
      "       [4., 4., 0.],\n",
      "       [5., 4., 0.],\n",
      "       [6., 4., 0.],\n",
      "       [0., 5., 0.],\n",
      "       [1., 5., 0.],\n",
      "       [2., 5., 0.],\n",
      "       [3., 5., 0.],\n",
      "       [4., 5., 0.],\n",
      "       [5., 5., 0.],\n",
      "       [6., 5., 0.]], dtype=float32), array([[0., 0., 0.],\n",
      "       [1., 0., 0.],\n",
      "       [2., 0., 0.],\n",
      "       [3., 0., 0.],\n",
      "       [4., 0., 0.],\n",
      "       [5., 0., 0.],\n",
      "       [6., 0., 0.],\n",
      "       [0., 1., 0.],\n",
      "       [1., 1., 0.],\n",
      "       [2., 1., 0.],\n",
      "       [3., 1., 0.],\n",
      "       [4., 1., 0.],\n",
      "       [5., 1., 0.],\n",
      "       [6., 1., 0.],\n",
      "       [0., 2., 0.],\n",
      "       [1., 2., 0.],\n",
      "       [2., 2., 0.],\n",
      "       [3., 2., 0.],\n",
      "       [4., 2., 0.],\n",
      "       [5., 2., 0.],\n",
      "       [6., 2., 0.],\n",
      "       [0., 3., 0.],\n",
      "       [1., 3., 0.],\n",
      "       [2., 3., 0.],\n",
      "       [3., 3., 0.],\n",
      "       [4., 3., 0.],\n",
      "       [5., 3., 0.],\n",
      "       [6., 3., 0.],\n",
      "       [0., 4., 0.],\n",
      "       [1., 4., 0.],\n",
      "       [2., 4., 0.],\n",
      "       [3., 4., 0.],\n",
      "       [4., 4., 0.],\n",
      "       [5., 4., 0.],\n",
      "       [6., 4., 0.],\n",
      "       [0., 5., 0.],\n",
      "       [1., 5., 0.],\n",
      "       [2., 5., 0.],\n",
      "       [3., 5., 0.],\n",
      "       [4., 5., 0.],\n",
      "       [5., 5., 0.],\n",
      "       [6., 5., 0.]], dtype=float32), array([[0., 0., 0.],\n",
      "       [1., 0., 0.],\n",
      "       [2., 0., 0.],\n",
      "       [3., 0., 0.],\n",
      "       [4., 0., 0.],\n",
      "       [5., 0., 0.],\n",
      "       [6., 0., 0.],\n",
      "       [0., 1., 0.],\n",
      "       [1., 1., 0.],\n",
      "       [2., 1., 0.],\n",
      "       [3., 1., 0.],\n",
      "       [4., 1., 0.],\n",
      "       [5., 1., 0.],\n",
      "       [6., 1., 0.],\n",
      "       [0., 2., 0.],\n",
      "       [1., 2., 0.],\n",
      "       [2., 2., 0.],\n",
      "       [3., 2., 0.],\n",
      "       [4., 2., 0.],\n",
      "       [5., 2., 0.],\n",
      "       [6., 2., 0.],\n",
      "       [0., 3., 0.],\n",
      "       [1., 3., 0.],\n",
      "       [2., 3., 0.],\n",
      "       [3., 3., 0.],\n",
      "       [4., 3., 0.],\n",
      "       [5., 3., 0.],\n",
      "       [6., 3., 0.],\n",
      "       [0., 4., 0.],\n",
      "       [1., 4., 0.],\n",
      "       [2., 4., 0.],\n",
      "       [3., 4., 0.],\n",
      "       [4., 4., 0.],\n",
      "       [5., 4., 0.],\n",
      "       [6., 4., 0.],\n",
      "       [0., 5., 0.],\n",
      "       [1., 5., 0.],\n",
      "       [2., 5., 0.],\n",
      "       [3., 5., 0.],\n",
      "       [4., 5., 0.],\n",
      "       [5., 5., 0.],\n",
      "       [6., 5., 0.]], dtype=float32), array([[0., 0., 0.],\n",
      "       [1., 0., 0.],\n",
      "       [2., 0., 0.],\n",
      "       [3., 0., 0.],\n",
      "       [4., 0., 0.],\n",
      "       [5., 0., 0.],\n",
      "       [6., 0., 0.],\n",
      "       [0., 1., 0.],\n",
      "       [1., 1., 0.],\n",
      "       [2., 1., 0.],\n",
      "       [3., 1., 0.],\n",
      "       [4., 1., 0.],\n",
      "       [5., 1., 0.],\n",
      "       [6., 1., 0.],\n",
      "       [0., 2., 0.],\n",
      "       [1., 2., 0.],\n",
      "       [2., 2., 0.],\n",
      "       [3., 2., 0.],\n",
      "       [4., 2., 0.],\n",
      "       [5., 2., 0.],\n",
      "       [6., 2., 0.],\n",
      "       [0., 3., 0.],\n",
      "       [1., 3., 0.],\n",
      "       [2., 3., 0.],\n",
      "       [3., 3., 0.],\n",
      "       [4., 3., 0.],\n",
      "       [5., 3., 0.],\n",
      "       [6., 3., 0.],\n",
      "       [0., 4., 0.],\n",
      "       [1., 4., 0.],\n",
      "       [2., 4., 0.],\n",
      "       [3., 4., 0.],\n",
      "       [4., 4., 0.],\n",
      "       [5., 4., 0.],\n",
      "       [6., 4., 0.],\n",
      "       [0., 5., 0.],\n",
      "       [1., 5., 0.],\n",
      "       [2., 5., 0.],\n",
      "       [3., 5., 0.],\n",
      "       [4., 5., 0.],\n",
      "       [5., 5., 0.],\n",
      "       [6., 5., 0.]], dtype=float32), array([[0., 0., 0.],\n",
      "       [1., 0., 0.],\n",
      "       [2., 0., 0.],\n",
      "       [3., 0., 0.],\n",
      "       [4., 0., 0.],\n",
      "       [5., 0., 0.],\n",
      "       [6., 0., 0.],\n",
      "       [0., 1., 0.],\n",
      "       [1., 1., 0.],\n",
      "       [2., 1., 0.],\n",
      "       [3., 1., 0.],\n",
      "       [4., 1., 0.],\n",
      "       [5., 1., 0.],\n",
      "       [6., 1., 0.],\n",
      "       [0., 2., 0.],\n",
      "       [1., 2., 0.],\n",
      "       [2., 2., 0.],\n",
      "       [3., 2., 0.],\n",
      "       [4., 2., 0.],\n",
      "       [5., 2., 0.],\n",
      "       [6., 2., 0.],\n",
      "       [0., 3., 0.],\n",
      "       [1., 3., 0.],\n",
      "       [2., 3., 0.],\n",
      "       [3., 3., 0.],\n",
      "       [4., 3., 0.],\n",
      "       [5., 3., 0.],\n",
      "       [6., 3., 0.],\n",
      "       [0., 4., 0.],\n",
      "       [1., 4., 0.],\n",
      "       [2., 4., 0.],\n",
      "       [3., 4., 0.],\n",
      "       [4., 4., 0.],\n",
      "       [5., 4., 0.],\n",
      "       [6., 4., 0.],\n",
      "       [0., 5., 0.],\n",
      "       [1., 5., 0.],\n",
      "       [2., 5., 0.],\n",
      "       [3., 5., 0.],\n",
      "       [4., 5., 0.],\n",
      "       [5., 5., 0.],\n",
      "       [6., 5., 0.]], dtype=float32), array([[0., 0., 0.],\n",
      "       [1., 0., 0.],\n",
      "       [2., 0., 0.],\n",
      "       [3., 0., 0.],\n",
      "       [4., 0., 0.],\n",
      "       [5., 0., 0.],\n",
      "       [6., 0., 0.],\n",
      "       [0., 1., 0.],\n",
      "       [1., 1., 0.],\n",
      "       [2., 1., 0.],\n",
      "       [3., 1., 0.],\n",
      "       [4., 1., 0.],\n",
      "       [5., 1., 0.],\n",
      "       [6., 1., 0.],\n",
      "       [0., 2., 0.],\n",
      "       [1., 2., 0.],\n",
      "       [2., 2., 0.],\n",
      "       [3., 2., 0.],\n",
      "       [4., 2., 0.],\n",
      "       [5., 2., 0.],\n",
      "       [6., 2., 0.],\n",
      "       [0., 3., 0.],\n",
      "       [1., 3., 0.],\n",
      "       [2., 3., 0.],\n",
      "       [3., 3., 0.],\n",
      "       [4., 3., 0.],\n",
      "       [5., 3., 0.],\n",
      "       [6., 3., 0.],\n",
      "       [0., 4., 0.],\n",
      "       [1., 4., 0.],\n",
      "       [2., 4., 0.],\n",
      "       [3., 4., 0.],\n",
      "       [4., 4., 0.],\n",
      "       [5., 4., 0.],\n",
      "       [6., 4., 0.],\n",
      "       [0., 5., 0.],\n",
      "       [1., 5., 0.],\n",
      "       [2., 5., 0.],\n",
      "       [3., 5., 0.],\n",
      "       [4., 5., 0.],\n",
      "       [5., 5., 0.],\n",
      "       [6., 5., 0.]], dtype=float32), array([[0., 0., 0.],\n",
      "       [1., 0., 0.],\n",
      "       [2., 0., 0.],\n",
      "       [3., 0., 0.],\n",
      "       [4., 0., 0.],\n",
      "       [5., 0., 0.],\n",
      "       [6., 0., 0.],\n",
      "       [0., 1., 0.],\n",
      "       [1., 1., 0.],\n",
      "       [2., 1., 0.],\n",
      "       [3., 1., 0.],\n",
      "       [4., 1., 0.],\n",
      "       [5., 1., 0.],\n",
      "       [6., 1., 0.],\n",
      "       [0., 2., 0.],\n",
      "       [1., 2., 0.],\n",
      "       [2., 2., 0.],\n",
      "       [3., 2., 0.],\n",
      "       [4., 2., 0.],\n",
      "       [5., 2., 0.],\n",
      "       [6., 2., 0.],\n",
      "       [0., 3., 0.],\n",
      "       [1., 3., 0.],\n",
      "       [2., 3., 0.],\n",
      "       [3., 3., 0.],\n",
      "       [4., 3., 0.],\n",
      "       [5., 3., 0.],\n",
      "       [6., 3., 0.],\n",
      "       [0., 4., 0.],\n",
      "       [1., 4., 0.],\n",
      "       [2., 4., 0.],\n",
      "       [3., 4., 0.],\n",
      "       [4., 4., 0.],\n",
      "       [5., 4., 0.],\n",
      "       [6., 4., 0.],\n",
      "       [0., 5., 0.],\n",
      "       [1., 5., 0.],\n",
      "       [2., 5., 0.],\n",
      "       [3., 5., 0.],\n",
      "       [4., 5., 0.],\n",
      "       [5., 5., 0.],\n",
      "       [6., 5., 0.]], dtype=float32), array([[0., 0., 0.],\n",
      "       [1., 0., 0.],\n",
      "       [2., 0., 0.],\n",
      "       [3., 0., 0.],\n",
      "       [4., 0., 0.],\n",
      "       [5., 0., 0.],\n",
      "       [6., 0., 0.],\n",
      "       [0., 1., 0.],\n",
      "       [1., 1., 0.],\n",
      "       [2., 1., 0.],\n",
      "       [3., 1., 0.],\n",
      "       [4., 1., 0.],\n",
      "       [5., 1., 0.],\n",
      "       [6., 1., 0.],\n",
      "       [0., 2., 0.],\n",
      "       [1., 2., 0.],\n",
      "       [2., 2., 0.],\n",
      "       [3., 2., 0.],\n",
      "       [4., 2., 0.],\n",
      "       [5., 2., 0.],\n",
      "       [6., 2., 0.],\n",
      "       [0., 3., 0.],\n",
      "       [1., 3., 0.],\n",
      "       [2., 3., 0.],\n",
      "       [3., 3., 0.],\n",
      "       [4., 3., 0.],\n",
      "       [5., 3., 0.],\n",
      "       [6., 3., 0.],\n",
      "       [0., 4., 0.],\n",
      "       [1., 4., 0.],\n",
      "       [2., 4., 0.],\n",
      "       [3., 4., 0.],\n",
      "       [4., 4., 0.],\n",
      "       [5., 4., 0.],\n",
      "       [6., 4., 0.],\n",
      "       [0., 5., 0.],\n",
      "       [1., 5., 0.],\n",
      "       [2., 5., 0.],\n",
      "       [3., 5., 0.],\n",
      "       [4., 5., 0.],\n",
      "       [5., 5., 0.],\n",
      "       [6., 5., 0.]], dtype=float32), array([[0., 0., 0.],\n",
      "       [1., 0., 0.],\n",
      "       [2., 0., 0.],\n",
      "       [3., 0., 0.],\n",
      "       [4., 0., 0.],\n",
      "       [5., 0., 0.],\n",
      "       [6., 0., 0.],\n",
      "       [0., 1., 0.],\n",
      "       [1., 1., 0.],\n",
      "       [2., 1., 0.],\n",
      "       [3., 1., 0.],\n",
      "       [4., 1., 0.],\n",
      "       [5., 1., 0.],\n",
      "       [6., 1., 0.],\n",
      "       [0., 2., 0.],\n",
      "       [1., 2., 0.],\n",
      "       [2., 2., 0.],\n",
      "       [3., 2., 0.],\n",
      "       [4., 2., 0.],\n",
      "       [5., 2., 0.],\n",
      "       [6., 2., 0.],\n",
      "       [0., 3., 0.],\n",
      "       [1., 3., 0.],\n",
      "       [2., 3., 0.],\n",
      "       [3., 3., 0.],\n",
      "       [4., 3., 0.],\n",
      "       [5., 3., 0.],\n",
      "       [6., 3., 0.],\n",
      "       [0., 4., 0.],\n",
      "       [1., 4., 0.],\n",
      "       [2., 4., 0.],\n",
      "       [3., 4., 0.],\n",
      "       [4., 4., 0.],\n",
      "       [5., 4., 0.],\n",
      "       [6., 4., 0.],\n",
      "       [0., 5., 0.],\n",
      "       [1., 5., 0.],\n",
      "       [2., 5., 0.],\n",
      "       [3., 5., 0.],\n",
      "       [4., 5., 0.],\n",
      "       [5., 5., 0.],\n",
      "       [6., 5., 0.]], dtype=float32), array([[0., 0., 0.],\n",
      "       [1., 0., 0.],\n",
      "       [2., 0., 0.],\n",
      "       [3., 0., 0.],\n",
      "       [4., 0., 0.],\n",
      "       [5., 0., 0.],\n",
      "       [6., 0., 0.],\n",
      "       [0., 1., 0.],\n",
      "       [1., 1., 0.],\n",
      "       [2., 1., 0.],\n",
      "       [3., 1., 0.],\n",
      "       [4., 1., 0.],\n",
      "       [5., 1., 0.],\n",
      "       [6., 1., 0.],\n",
      "       [0., 2., 0.],\n",
      "       [1., 2., 0.],\n",
      "       [2., 2., 0.],\n",
      "       [3., 2., 0.],\n",
      "       [4., 2., 0.],\n",
      "       [5., 2., 0.],\n",
      "       [6., 2., 0.],\n",
      "       [0., 3., 0.],\n",
      "       [1., 3., 0.],\n",
      "       [2., 3., 0.],\n",
      "       [3., 3., 0.],\n",
      "       [4., 3., 0.],\n",
      "       [5., 3., 0.],\n",
      "       [6., 3., 0.],\n",
      "       [0., 4., 0.],\n",
      "       [1., 4., 0.],\n",
      "       [2., 4., 0.],\n",
      "       [3., 4., 0.],\n",
      "       [4., 4., 0.],\n",
      "       [5., 4., 0.],\n",
      "       [6., 4., 0.],\n",
      "       [0., 5., 0.],\n",
      "       [1., 5., 0.],\n",
      "       [2., 5., 0.],\n",
      "       [3., 5., 0.],\n",
      "       [4., 5., 0.],\n",
      "       [5., 5., 0.],\n",
      "       [6., 5., 0.]], dtype=float32), array([[0., 0., 0.],\n",
      "       [1., 0., 0.],\n",
      "       [2., 0., 0.],\n",
      "       [3., 0., 0.],\n",
      "       [4., 0., 0.],\n",
      "       [5., 0., 0.],\n",
      "       [6., 0., 0.],\n",
      "       [0., 1., 0.],\n",
      "       [1., 1., 0.],\n",
      "       [2., 1., 0.],\n",
      "       [3., 1., 0.],\n",
      "       [4., 1., 0.],\n",
      "       [5., 1., 0.],\n",
      "       [6., 1., 0.],\n",
      "       [0., 2., 0.],\n",
      "       [1., 2., 0.],\n",
      "       [2., 2., 0.],\n",
      "       [3., 2., 0.],\n",
      "       [4., 2., 0.],\n",
      "       [5., 2., 0.],\n",
      "       [6., 2., 0.],\n",
      "       [0., 3., 0.],\n",
      "       [1., 3., 0.],\n",
      "       [2., 3., 0.],\n",
      "       [3., 3., 0.],\n",
      "       [4., 3., 0.],\n",
      "       [5., 3., 0.],\n",
      "       [6., 3., 0.],\n",
      "       [0., 4., 0.],\n",
      "       [1., 4., 0.],\n",
      "       [2., 4., 0.],\n",
      "       [3., 4., 0.],\n",
      "       [4., 4., 0.],\n",
      "       [5., 4., 0.],\n",
      "       [6., 4., 0.],\n",
      "       [0., 5., 0.],\n",
      "       [1., 5., 0.],\n",
      "       [2., 5., 0.],\n",
      "       [3., 5., 0.],\n",
      "       [4., 5., 0.],\n",
      "       [5., 5., 0.],\n",
      "       [6., 5., 0.]], dtype=float32), array([[0., 0., 0.],\n",
      "       [1., 0., 0.],\n",
      "       [2., 0., 0.],\n",
      "       [3., 0., 0.],\n",
      "       [4., 0., 0.],\n",
      "       [5., 0., 0.],\n",
      "       [6., 0., 0.],\n",
      "       [0., 1., 0.],\n",
      "       [1., 1., 0.],\n",
      "       [2., 1., 0.],\n",
      "       [3., 1., 0.],\n",
      "       [4., 1., 0.],\n",
      "       [5., 1., 0.],\n",
      "       [6., 1., 0.],\n",
      "       [0., 2., 0.],\n",
      "       [1., 2., 0.],\n",
      "       [2., 2., 0.],\n",
      "       [3., 2., 0.],\n",
      "       [4., 2., 0.],\n",
      "       [5., 2., 0.],\n",
      "       [6., 2., 0.],\n",
      "       [0., 3., 0.],\n",
      "       [1., 3., 0.],\n",
      "       [2., 3., 0.],\n",
      "       [3., 3., 0.],\n",
      "       [4., 3., 0.],\n",
      "       [5., 3., 0.],\n",
      "       [6., 3., 0.],\n",
      "       [0., 4., 0.],\n",
      "       [1., 4., 0.],\n",
      "       [2., 4., 0.],\n",
      "       [3., 4., 0.],\n",
      "       [4., 4., 0.],\n",
      "       [5., 4., 0.],\n",
      "       [6., 4., 0.],\n",
      "       [0., 5., 0.],\n",
      "       [1., 5., 0.],\n",
      "       [2., 5., 0.],\n",
      "       [3., 5., 0.],\n",
      "       [4., 5., 0.],\n",
      "       [5., 5., 0.],\n",
      "       [6., 5., 0.]], dtype=float32), array([[0., 0., 0.],\n",
      "       [1., 0., 0.],\n",
      "       [2., 0., 0.],\n",
      "       [3., 0., 0.],\n",
      "       [4., 0., 0.],\n",
      "       [5., 0., 0.],\n",
      "       [6., 0., 0.],\n",
      "       [0., 1., 0.],\n",
      "       [1., 1., 0.],\n",
      "       [2., 1., 0.],\n",
      "       [3., 1., 0.],\n",
      "       [4., 1., 0.],\n",
      "       [5., 1., 0.],\n",
      "       [6., 1., 0.],\n",
      "       [0., 2., 0.],\n",
      "       [1., 2., 0.],\n",
      "       [2., 2., 0.],\n",
      "       [3., 2., 0.],\n",
      "       [4., 2., 0.],\n",
      "       [5., 2., 0.],\n",
      "       [6., 2., 0.],\n",
      "       [0., 3., 0.],\n",
      "       [1., 3., 0.],\n",
      "       [2., 3., 0.],\n",
      "       [3., 3., 0.],\n",
      "       [4., 3., 0.],\n",
      "       [5., 3., 0.],\n",
      "       [6., 3., 0.],\n",
      "       [0., 4., 0.],\n",
      "       [1., 4., 0.],\n",
      "       [2., 4., 0.],\n",
      "       [3., 4., 0.],\n",
      "       [4., 4., 0.],\n",
      "       [5., 4., 0.],\n",
      "       [6., 4., 0.],\n",
      "       [0., 5., 0.],\n",
      "       [1., 5., 0.],\n",
      "       [2., 5., 0.],\n",
      "       [3., 5., 0.],\n",
      "       [4., 5., 0.],\n",
      "       [5., 5., 0.],\n",
      "       [6., 5., 0.]], dtype=float32)]\n"
     ]
    },
    {
     "name": "stdout",
     "output_type": "stream",
     "text": [
      "[array([[[ 484.2089 ,  895.525  ]],\n",
      "\n",
      "       [[ 518.3445 ,  892.98254]],\n",
      "\n",
      "       [[ 554.29425,  892.57764]],\n",
      "\n",
      "       [[ 590.3714 ,  889.6312 ]],\n",
      "\n",
      "       [[ 625.6464 ,  885.9594 ]],\n",
      "\n",
      "       [[ 661.871  ,  879.4598 ]],\n",
      "\n",
      "       [[ 698.0265 ,  876.59283]],\n",
      "\n",
      "       [[ 478.5945 ,  936.4411 ]],\n",
      "\n",
      "       [[ 515.3263 ,  936.02454]],\n",
      "\n",
      "       [[ 551.5673 ,  935.18176]],\n",
      "\n",
      "       [[ 589.1047 ,  931.66156]],\n",
      "\n",
      "       [[ 625.86053,  926.99445]],\n",
      "\n",
      "       [[ 664.26556,  922.5173 ]],\n",
      "\n",
      "       [[ 701.05524,  918.72644]],\n",
      "\n",
      "       [[ 473.16022,  981.42303]],\n",
      "\n",
      "       [[ 510.86496,  982.0195 ]],\n",
      "\n",
      "       [[ 548.7261 ,  980.2457 ]],\n",
      "\n",
      "       [[ 588.3291 ,  978.3049 ]],\n",
      "\n",
      "       [[ 626.71844,  973.822  ]],\n",
      "\n",
      "       [[ 666.3102 ,  969.22034]],\n",
      "\n",
      "       [[ 704.6895 ,  963.4602 ]],\n",
      "\n",
      "       [[ 467.50363, 1026.6708 ]],\n",
      "\n",
      "       [[ 506.3302 , 1029.3949 ]],\n",
      "\n",
      "       [[ 546.7812 , 1028.8207 ]],\n",
      "\n",
      "       [[ 586.5691 , 1027.2645 ]],\n",
      "\n",
      "       [[ 627.41113, 1023.3989 ]],\n",
      "\n",
      "       [[ 668.1762 , 1019.32684]],\n",
      "\n",
      "       [[ 708.7433 , 1013.65607]],\n",
      "\n",
      "       [[ 460.4256 , 1075.1545 ]],\n",
      "\n",
      "       [[ 502.08478, 1079.3066 ]],\n",
      "\n",
      "       [[ 543.58185, 1079.4714 ]],\n",
      "\n",
      "       [[ 585.4077 , 1078.7812 ]],\n",
      "\n",
      "       [[ 627.53625, 1076.5239 ]],\n",
      "\n",
      "       [[ 670.3308 , 1072.5369 ]],\n",
      "\n",
      "       [[ 712.695  , 1066.7661 ]],\n",
      "\n",
      "       [[ 454.1076 , 1126.3624 ]],\n",
      "\n",
      "       [[ 496.5739 , 1132.1617 ]],\n",
      "\n",
      "       [[ 539.8749 , 1133.1006 ]],\n",
      "\n",
      "       [[ 583.978  , 1132.559  ]],\n",
      "\n",
      "       [[ 627.8201 , 1129.2988 ]],\n",
      "\n",
      "       [[ 672.47363, 1126.5504 ]],\n",
      "\n",
      "       [[ 716.53815, 1121.7391 ]]], dtype=float32), array([[[ 370.6404 ,  745.0786 ]],\n",
      "\n",
      "       [[ 414.3178 ,  741.75433]],\n",
      "\n",
      "       [[ 460.3863 ,  739.1266 ]],\n",
      "\n",
      "       [[ 507.40054,  736.6346 ]],\n",
      "\n",
      "       [[ 555.405  ,  730.85443]],\n",
      "\n",
      "       [[ 603.7505 ,  723.26135]],\n",
      "\n",
      "       [[ 652.4902 ,  719.02625]],\n",
      "\n",
      "       [[ 362.06476,  807.36096]],\n",
      "\n",
      "       [[ 407.70377,  805.2592 ]],\n",
      "\n",
      "       [[ 455.78833,  804.68567]],\n",
      "\n",
      "       [[ 503.81363,  799.9171 ]],\n",
      "\n",
      "       [[ 554.4545 ,  794.2601 ]],\n",
      "\n",
      "       [[ 605.4895 ,  788.54816]],\n",
      "\n",
      "       [[ 655.6957 ,  783.4601 ]],\n",
      "\n",
      "       [[ 352.85104,  875.4268 ]],\n",
      "\n",
      "       [[ 400.26553,  875.47504]],\n",
      "\n",
      "       [[ 450.3748 ,  875.0218 ]],\n",
      "\n",
      "       [[ 502.24442,  871.19104]],\n",
      "\n",
      "       [[ 554.1456 ,  867.53827]],\n",
      "\n",
      "       [[ 607.4854 ,  861.0676 ]],\n",
      "\n",
      "       [[ 660.2903 ,  854.53326]],\n",
      "\n",
      "       [[ 342.30515,  945.3268 ]],\n",
      "\n",
      "       [[ 392.72073,  949.1309 ]],\n",
      "\n",
      "       [[ 444.23077,  948.8723 ]],\n",
      "\n",
      "       [[ 498.62805,  948.38367]],\n",
      "\n",
      "       [[ 553.05914,  945.0649 ]],\n",
      "\n",
      "       [[ 608.4993 ,  939.3617 ]],\n",
      "\n",
      "       [[ 664.9387 ,  933.106  ]],\n",
      "\n",
      "       [[ 332.3736 , 1021.3671 ]],\n",
      "\n",
      "       [[ 383.75317, 1027.5544 ]],\n",
      "\n",
      "       [[ 438.9835 , 1029.9452 ]],\n",
      "\n",
      "       [[ 494.69424, 1030.018  ]],\n",
      "\n",
      "       [[ 552.5058 , 1027.9833 ]],\n",
      "\n",
      "       [[ 610.5866 , 1024.1846 ]],\n",
      "\n",
      "       [[ 668.7248 , 1017.3644 ]],\n",
      "\n",
      "       [[ 321.2562 , 1102.0642 ]],\n",
      "\n",
      "       [[ 375.54626, 1111.3855 ]],\n",
      "\n",
      "       [[ 432.30386, 1115.7041 ]],\n",
      "\n",
      "       [[ 490.63074, 1116.4707 ]],\n",
      "\n",
      "       [[ 551.31116, 1114.5555 ]],\n",
      "\n",
      "       [[ 612.75256, 1111.6096 ]],\n",
      "\n",
      "       [[ 674.3216 , 1105.3151 ]]], dtype=float32), array([[[ 399.53104,  855.6817 ]],\n",
      "\n",
      "       [[ 436.42773,  852.9367 ]],\n",
      "\n",
      "       [[ 473.3472 ,  850.80414]],\n",
      "\n",
      "       [[ 511.61823,  848.61847]],\n",
      "\n",
      "       [[ 550.3148 ,  844.5043 ]],\n",
      "\n",
      "       [[ 589.23267,  837.3853 ]],\n",
      "\n",
      "       [[ 627.9439 ,  833.55615]],\n",
      "\n",
      "       [[ 394.5803 ,  907.004  ]],\n",
      "\n",
      "       [[ 431.5482 ,  906.22424]],\n",
      "\n",
      "       [[ 470.73383,  905.8076 ]],\n",
      "\n",
      "       [[ 509.59045,  901.6171 ]],\n",
      "\n",
      "       [[ 549.1558 ,  897.17413]],\n",
      "\n",
      "       [[ 590.4499 ,  891.8072 ]],\n",
      "\n",
      "       [[ 630.60815,  886.8049 ]],\n",
      "\n",
      "       [[ 388.42365,  963.6962 ]],\n",
      "\n",
      "       [[ 427.61667,  963.597  ]],\n",
      "\n",
      "       [[ 467.3701 ,  962.8133 ]],\n",
      "\n",
      "       [[ 507.53073,  960.3841 ]],\n",
      "\n",
      "       [[ 548.64075,  955.98474]],\n",
      "\n",
      "       [[ 591.4412 ,  951.2317 ]],\n",
      "\n",
      "       [[ 633.41595,  945.8633 ]],\n",
      "\n",
      "       [[ 382.21542, 1020.6488 ]],\n",
      "\n",
      "       [[ 422.42392, 1023.094  ]],\n",
      "\n",
      "       [[ 463.5016 , 1022.7915 ]],\n",
      "\n",
      "       [[ 505.58392, 1022.0723 ]],\n",
      "\n",
      "       [[ 548.47614, 1018.7    ]],\n",
      "\n",
      "       [[ 592.53394, 1013.9958 ]],\n",
      "\n",
      "       [[ 636.0885 , 1008.7911 ]],\n",
      "\n",
      "       [[ 375.3337 , 1081.4978 ]],\n",
      "\n",
      "       [[ 416.64926, 1085.5397 ]],\n",
      "\n",
      "       [[ 459.55463, 1086.3102 ]],\n",
      "\n",
      "       [[ 503.42636, 1085.936  ]],\n",
      "\n",
      "       [[ 548.27997, 1083.5828 ]],\n",
      "\n",
      "       [[ 593.3645 , 1080.0709 ]],\n",
      "\n",
      "       [[ 638.35425, 1074.6967 ]],\n",
      "\n",
      "       [[ 367.9616 , 1144.5308 ]],\n",
      "\n",
      "       [[ 411.7228 , 1150.5084 ]],\n",
      "\n",
      "       [[ 456.32504, 1152.5715 ]],\n",
      "\n",
      "       [[ 501.65768, 1152.6233 ]],\n",
      "\n",
      "       [[ 547.6859 , 1149.9087 ]],\n",
      "\n",
      "       [[ 594.029  , 1147.3322 ]],\n",
      "\n",
      "       [[ 641.39746, 1142.7671 ]]], dtype=float32), array([[[ 384.85617,  796.34906]],\n",
      "\n",
      "       [[ 428.28662,  793.6998 ]],\n",
      "\n",
      "       [[ 472.8662 ,  792.0153 ]],\n",
      "\n",
      "       [[ 518.03375,  789.4357 ]],\n",
      "\n",
      "       [[ 563.81116,  784.3505 ]],\n",
      "\n",
      "       [[ 610.5174 ,  777.0901 ]],\n",
      "\n",
      "       [[ 657.1939 ,  773.331  ]],\n",
      "\n",
      "       [[ 377.58548,  856.7683 ]],\n",
      "\n",
      "       [[ 422.31403,  856.42   ]],\n",
      "\n",
      "       [[ 468.8296 ,  855.66943]],\n",
      "\n",
      "       [[ 516.19025,  851.8619 ]],\n",
      "\n",
      "       [[ 563.53754,  847.10156]],\n",
      "\n",
      "       [[ 612.4898 ,  840.89294]],\n",
      "\n",
      "       [[ 661.4624 ,  836.2688 ]],\n",
      "\n",
      "       [[ 369.0082 ,  923.59766]],\n",
      "\n",
      "       [[ 415.5195 ,  925.014  ]],\n",
      "\n",
      "       [[ 464.0592 ,  924.41437]],\n",
      "\n",
      "       [[ 513.7642 ,  921.48395]],\n",
      "\n",
      "       [[ 563.4984 ,  917.0266 ]],\n",
      "\n",
      "       [[ 614.6811 ,  912.1646 ]],\n",
      "\n",
      "       [[ 665.9438 ,  905.52423]],\n",
      "\n",
      "       [[ 360.40796,  992.1743 ]],\n",
      "\n",
      "       [[ 409.43607,  996.3588 ]],\n",
      "\n",
      "       [[ 458.9146 ,  996.4946 ]],\n",
      "\n",
      "       [[ 511.21844,  996.5396 ]],\n",
      "\n",
      "       [[ 563.5399 ,  992.8286 ]],\n",
      "\n",
      "       [[ 617.21027,  987.4673 ]],\n",
      "\n",
      "       [[ 670.1091 ,  981.69257]],\n",
      "\n",
      "       [[ 351.46802, 1066.4257 ]],\n",
      "\n",
      "       [[ 401.5534 , 1072.1625 ]],\n",
      "\n",
      "       [[ 454.81635, 1075.3771 ]],\n",
      "\n",
      "       [[ 508.42746, 1075.3672 ]],\n",
      "\n",
      "       [[ 563.4711 , 1072.8398 ]],\n",
      "\n",
      "       [[ 620.1145 , 1068.6783 ]],\n",
      "\n",
      "       [[ 674.73645, 1061.8811 ]],\n",
      "\n",
      "       [[ 340.57172, 1144.1691 ]],\n",
      "\n",
      "       [[ 394.61176, 1153.4199 ]],\n",
      "\n",
      "       [[ 449.28357, 1157.3832 ]],\n",
      "\n",
      "       [[ 505.46045, 1158.2545 ]],\n",
      "\n",
      "       [[ 563.346  , 1155.9885 ]],\n",
      "\n",
      "       [[ 622.5481 , 1153.1221 ]],\n",
      "\n",
      "       [[ 680.47815, 1147.1799 ]]], dtype=float32), array([[[361.53714, 170.19058]],\n",
      "\n",
      "       [[413.2167 , 163.18286]],\n",
      "\n",
      "       [[466.96216, 159.3266 ]],\n",
      "\n",
      "       [[520.7673 , 157.49747]],\n",
      "\n",
      "       [[576.45184, 153.7384 ]],\n",
      "\n",
      "       [[630.88416, 149.6686 ]],\n",
      "\n",
      "       [[684.2015 , 153.24377]],\n",
      "\n",
      "       [[349.21158, 216.06808]],\n",
      "\n",
      "       [[403.6549 , 209.45157]],\n",
      "\n",
      "       [[460.44052, 206.85663]],\n",
      "\n",
      "       [[518.3855 , 202.5002 ]],\n",
      "\n",
      "       [[577.5636 , 197.8046 ]],\n",
      "\n",
      "       [[636.2739 , 196.57043]],\n",
      "\n",
      "       [[693.5457 , 199.10275]],\n",
      "\n",
      "       [[335.97305, 269.39777]],\n",
      "\n",
      "       [[393.96988, 264.28073]],\n",
      "\n",
      "       [[454.5017 , 260.2219 ]],\n",
      "\n",
      "       [[516.3954 , 256.54813]],\n",
      "\n",
      "       [[578.4077 , 253.28302]],\n",
      "\n",
      "       [[641.04456, 251.89226]],\n",
      "\n",
      "       [[702.4346 , 252.61732]],\n",
      "\n",
      "       [[320.42758, 325.15665]],\n",
      "\n",
      "       [[382.37686, 323.3118 ]],\n",
      "\n",
      "       [[446.2481 , 319.45554]],\n",
      "\n",
      "       [[513.2318 , 318.10916]],\n",
      "\n",
      "       [[579.9803 , 316.10477]],\n",
      "\n",
      "       [[647.3296 , 313.73572]],\n",
      "\n",
      "       [[712.76874, 315.46378]],\n",
      "\n",
      "       [[302.6788 , 389.4901 ]],\n",
      "\n",
      "       [[368.5463 , 389.5497 ]],\n",
      "\n",
      "       [[438.27533, 388.54376]],\n",
      "\n",
      "       [[509.5258 , 386.34128]],\n",
      "\n",
      "       [[582.10596, 386.1801 ]],\n",
      "\n",
      "       [[653.7535 , 386.06726]],\n",
      "\n",
      "       [[724.49316, 386.3211 ]],\n",
      "\n",
      "       [[282.31586, 462.45377]],\n",
      "\n",
      "       [[353.517  , 466.55444]],\n",
      "\n",
      "       [[428.2688 , 466.14722]],\n",
      "\n",
      "       [[505.5341 , 462.83548]],\n",
      "\n",
      "       [[584.52386, 459.58112]],\n",
      "\n",
      "       [[662.76196, 462.61365]],\n",
      "\n",
      "       [[737.8891 , 463.84482]]], dtype=float32), array([[[ 404.673  ,  840.61145]],\n",
      "\n",
      "       [[ 441.22925,  838.37744]],\n",
      "\n",
      "       [[ 477.6717 ,  836.00653]],\n",
      "\n",
      "       [[ 515.8194 ,  833.7625 ]],\n",
      "\n",
      "       [[ 554.14136,  828.8413 ]],\n",
      "\n",
      "       [[ 592.5793 ,  822.1975 ]],\n",
      "\n",
      "       [[ 630.8553 ,  818.6306 ]],\n",
      "\n",
      "       [[ 398.61548,  889.66455]],\n",
      "\n",
      "       [[ 436.47488,  888.5038 ]],\n",
      "\n",
      "       [[ 474.64084,  887.6239 ]],\n",
      "\n",
      "       [[ 514.2338 ,  883.29645]],\n",
      "\n",
      "       [[ 553.48883,  878.34357]],\n",
      "\n",
      "       [[ 593.401  ,  873.3655 ]],\n",
      "\n",
      "       [[ 633.7823 ,  868.6919 ]],\n",
      "\n",
      "       [[ 393.2415 ,  943.2461 ]],\n",
      "\n",
      "       [[ 431.78052,  942.9771 ]],\n",
      "\n",
      "       [[ 472.4732 ,  941.7463 ]],\n",
      "\n",
      "       [[ 512.83594,  938.3868 ]],\n",
      "\n",
      "       [[ 553.54224,  934.30194]],\n",
      "\n",
      "       [[ 595.2727 ,  929.03235]],\n",
      "\n",
      "       [[ 637.3258 ,  923.22034]],\n",
      "\n",
      "       [[ 386.4561 ,  997.20483]],\n",
      "\n",
      "       [[ 427.50525,  999.2564 ]],\n",
      "\n",
      "       [[ 468.64893,  998.52094]],\n",
      "\n",
      "       [[ 511.23965,  997.33514]],\n",
      "\n",
      "       [[ 553.59265,  993.3342 ]],\n",
      "\n",
      "       [[ 596.74445,  988.57074]],\n",
      "\n",
      "       [[ 639.6542 ,  983.0391 ]],\n",
      "\n",
      "       [[ 379.82132, 1054.6733 ]],\n",
      "\n",
      "       [[ 422.21393, 1058.412  ]],\n",
      "\n",
      "       [[ 464.8936 , 1058.8616 ]],\n",
      "\n",
      "       [[ 509.12772, 1057.8057 ]],\n",
      "\n",
      "       [[ 553.5878 , 1055.4695 ]],\n",
      "\n",
      "       [[ 598.45026, 1051.245  ]],\n",
      "\n",
      "       [[ 643.24493, 1045.2526 ]],\n",
      "\n",
      "       [[ 372.5104 , 1115.2848 ]],\n",
      "\n",
      "       [[ 416.32324, 1120.7788 ]],\n",
      "\n",
      "       [[ 460.97296, 1122.7665 ]],\n",
      "\n",
      "       [[ 506.93613, 1121.479  ]],\n",
      "\n",
      "       [[ 553.1415 , 1118.3453 ]],\n",
      "\n",
      "       [[ 600.399  , 1115.4231 ]],\n",
      "\n",
      "       [[ 647.25616, 1110.4706 ]]], dtype=float32), array([[[ 351.2411 ,  741.1768 ]],\n",
      "\n",
      "       [[ 396.21286,  737.74274]],\n",
      "\n",
      "       [[ 442.83447,  735.3935 ]],\n",
      "\n",
      "       [[ 490.4574 ,  732.48663]],\n",
      "\n",
      "       [[ 539.7947 ,  726.97955]],\n",
      "\n",
      "       [[ 590.18475,  718.7165 ]],\n",
      "\n",
      "       [[ 639.20636,  714.93646]],\n",
      "\n",
      "       [[ 340.93442,  805.0878 ]],\n",
      "\n",
      "       [[ 387.71292,  804.00244]],\n",
      "\n",
      "       [[ 437.20245,  802.3631 ]],\n",
      "\n",
      "       [[ 487.516  ,  798.5654 ]],\n",
      "\n",
      "       [[ 538.74274,  792.65656]],\n",
      "\n",
      "       [[ 591.4339 ,  786.998  ]],\n",
      "\n",
      "       [[ 643.34784,  781.4334 ]],\n",
      "\n",
      "       [[ 331.40933,  875.97375]],\n",
      "\n",
      "       [[ 380.5513 ,  876.4651 ]],\n",
      "\n",
      "       [[ 431.1682 ,  875.94934]],\n",
      "\n",
      "       [[ 484.0962 ,  873.2628 ]],\n",
      "\n",
      "       [[ 537.61395,  868.44   ]],\n",
      "\n",
      "       [[ 592.7782 ,  862.85187]],\n",
      "\n",
      "       [[ 648.1832 ,  855.7764 ]],\n",
      "\n",
      "       [[ 321.08273,  949.1905 ]],\n",
      "\n",
      "       [[ 371.43774,  953.2716 ]],\n",
      "\n",
      "       [[ 425.32553,  953.8703 ]],\n",
      "\n",
      "       [[ 480.43384,  953.2785 ]],\n",
      "\n",
      "       [[ 537.1957 ,  949.6744 ]],\n",
      "\n",
      "       [[ 594.1442 ,  944.2534 ]],\n",
      "\n",
      "       [[ 652.5897 ,  938.20386]],\n",
      "\n",
      "       [[ 308.99414, 1028.2678 ]],\n",
      "\n",
      "       [[ 363.04047, 1034.6277 ]],\n",
      "\n",
      "       [[ 418.57193, 1038.2313 ]],\n",
      "\n",
      "       [[ 476.222  , 1038.0974 ]],\n",
      "\n",
      "       [[ 535.6736 , 1037.0421 ]],\n",
      "\n",
      "       [[ 595.94714, 1032.4327 ]],\n",
      "\n",
      "       [[ 656.73474, 1025.8116 ]],\n",
      "\n",
      "       [[ 297.12827, 1112.2528 ]],\n",
      "\n",
      "       [[ 353.19696, 1122.5006 ]],\n",
      "\n",
      "       [[ 412.46008, 1127.8907 ]],\n",
      "\n",
      "       [[ 472.60388, 1128.9069 ]],\n",
      "\n",
      "       [[ 534.5721 , 1127.5853 ]],\n",
      "\n",
      "       [[ 598.5782 , 1124.4607 ]],\n",
      "\n",
      "       [[ 662.0776 , 1118.519  ]]], dtype=float32), array([[[ 367.26785,  777.5049 ]],\n",
      "\n",
      "       [[ 411.26053,  773.43427]],\n",
      "\n",
      "       [[ 456.9847 ,  770.69   ]],\n",
      "\n",
      "       [[ 503.3775 ,  767.2723 ]],\n",
      "\n",
      "       [[ 551.3129 ,  761.4479 ]],\n",
      "\n",
      "       [[ 599.6406 ,  752.8497 ]],\n",
      "\n",
      "       [[ 648.5971 ,  748.374  ]],\n",
      "\n",
      "       [[ 357.88306,  840.40295]],\n",
      "\n",
      "       [[ 403.55792,  838.47516]],\n",
      "\n",
      "       [[ 451.77917,  837.4388 ]],\n",
      "\n",
      "       [[ 501.1072 ,  832.6081 ]],\n",
      "\n",
      "       [[ 550.3776 ,  826.22876]],\n",
      "\n",
      "       [[ 601.5901 ,  820.0596 ]],\n",
      "\n",
      "       [[ 652.6948 ,  814.27637]],\n",
      "\n",
      "       [[ 349.47128,  909.8813 ]],\n",
      "\n",
      "       [[ 397.31378,  910.4084 ]],\n",
      "\n",
      "       [[ 446.37952,  908.74567]],\n",
      "\n",
      "       [[ 497.9365 ,  905.77795]],\n",
      "\n",
      "       [[ 549.8996 ,  900.77527]],\n",
      "\n",
      "       [[ 603.5339 ,  894.0083 ]],\n",
      "\n",
      "       [[ 656.54706,  887.1064 ]],\n",
      "\n",
      "       [[ 339.20908,  981.4271 ]],\n",
      "\n",
      "       [[ 389.17743,  984.72   ]],\n",
      "\n",
      "       [[ 441.6906 ,  984.4166 ]],\n",
      "\n",
      "       [[ 495.00967,  983.9112 ]],\n",
      "\n",
      "       [[ 549.4462 ,  979.7784 ]],\n",
      "\n",
      "       [[ 605.6932 ,  973.56995]],\n",
      "\n",
      "       [[ 661.2532 ,  967.264  ]],\n",
      "\n",
      "       [[ 329.26645, 1058.8595 ]],\n",
      "\n",
      "       [[ 381.84906, 1064.3641 ]],\n",
      "\n",
      "       [[ 435.8986 , 1067.4298 ]],\n",
      "\n",
      "       [[ 491.52252, 1066.7213 ]],\n",
      "\n",
      "       [[ 548.8102 , 1063.9208 ]],\n",
      "\n",
      "       [[ 607.7776 , 1059.0822 ]],\n",
      "\n",
      "       [[ 666.2682 , 1051.7592 ]],\n",
      "\n",
      "       [[ 318.80417, 1140.6853 ]],\n",
      "\n",
      "       [[ 373.01523, 1149.555  ]],\n",
      "\n",
      "       [[ 429.17514, 1153.5784 ]],\n",
      "\n",
      "       [[ 488.13293, 1154.2354 ]],\n",
      "\n",
      "       [[ 548.1738 , 1151.758  ]],\n",
      "\n",
      "       [[ 609.50256, 1148.4734 ]],\n",
      "\n",
      "       [[ 670.6306 , 1141.4098 ]]], dtype=float32), array([[[ 407.68536,  817.1866 ]],\n",
      "\n",
      "       [[ 443.67105,  814.2911 ]],\n",
      "\n",
      "       [[ 482.02432,  811.6008 ]],\n",
      "\n",
      "       [[ 519.9631 ,  809.35645]],\n",
      "\n",
      "       [[ 559.5165 ,  804.166  ]],\n",
      "\n",
      "       [[ 598.47125,  796.7789 ]],\n",
      "\n",
      "       [[ 638.00726,  793.1028 ]],\n",
      "\n",
      "       [[ 401.32138,  868.79126]],\n",
      "\n",
      "       [[ 439.5728 ,  867.3569 ]],\n",
      "\n",
      "       [[ 478.50992,  865.65894]],\n",
      "\n",
      "       [[ 518.17365,  861.7762 ]],\n",
      "\n",
      "       [[ 558.8032 ,  856.42444]],\n",
      "\n",
      "       [[ 599.35864,  851.47015]],\n",
      "\n",
      "       [[ 639.9144 ,  846.8394 ]],\n",
      "\n",
      "       [[ 395.79834,  925.54297]],\n",
      "\n",
      "       [[ 434.45398,  925.1755 ]],\n",
      "\n",
      "       [[ 474.78738,  923.74744]],\n",
      "\n",
      "       [[ 516.71277,  919.93024]],\n",
      "\n",
      "       [[ 558.3779 ,  916.5315 ]],\n",
      "\n",
      "       [[ 600.54114,  910.7924 ]],\n",
      "\n",
      "       [[ 642.9743 ,  905.2666 ]],\n",
      "\n",
      "       [[ 388.3477 ,  981.96954]],\n",
      "\n",
      "       [[ 428.948  ,  984.60406]],\n",
      "\n",
      "       [[ 471.54922,  983.5399 ]],\n",
      "\n",
      "       [[ 514.3711 ,  981.8647 ]],\n",
      "\n",
      "       [[ 557.8765 ,  978.50104]],\n",
      "\n",
      "       [[ 601.6572 ,  973.90656]],\n",
      "\n",
      "       [[ 645.55286,  968.5102 ]],\n",
      "\n",
      "       [[ 381.78098, 1043.293  ]],\n",
      "\n",
      "       [[ 424.13675, 1046.3654 ]],\n",
      "\n",
      "       [[ 467.56165, 1047.4204 ]],\n",
      "\n",
      "       [[ 511.7358 , 1046.4639 ]],\n",
      "\n",
      "       [[ 557.15845, 1044.4186 ]],\n",
      "\n",
      "       [[ 603.0111 , 1039.796  ]],\n",
      "\n",
      "       [[ 648.8159 , 1034.4457 ]],\n",
      "\n",
      "       [[ 373.76035, 1107.286  ]],\n",
      "\n",
      "       [[ 417.78662, 1112.5519 ]],\n",
      "\n",
      "       [[ 462.87357, 1114.8861 ]],\n",
      "\n",
      "       [[ 509.17023, 1113.838  ]],\n",
      "\n",
      "       [[ 556.33075, 1110.8744 ]],\n",
      "\n",
      "       [[ 604.0803 , 1108.3098 ]],\n",
      "\n",
      "       [[ 651.9146 , 1103.3779 ]]], dtype=float32), array([[[ 668.3501 , 1139.6984 ]],\n",
      "\n",
      "       [[ 615.33417, 1145.0999 ]],\n",
      "\n",
      "       [[ 562.43463, 1150.2383 ]],\n",
      "\n",
      "       [[ 508.9454 , 1152.7957 ]],\n",
      "\n",
      "       [[ 457.60806, 1154.4532 ]],\n",
      "\n",
      "       [[ 407.13437, 1152.958  ]],\n",
      "\n",
      "       [[ 357.6074 , 1146.069  ]],\n",
      "\n",
      "       [[ 664.3225 , 1065.7899 ]],\n",
      "\n",
      "       [[ 612.6829 , 1071.8677 ]],\n",
      "\n",
      "       [[ 562.46857, 1075.1342 ]],\n",
      "\n",
      "       [[ 511.39078, 1078.8312 ]],\n",
      "\n",
      "       [[ 461.56567, 1080.7324 ]],\n",
      "\n",
      "       [[ 413.08893, 1079.2161 ]],\n",
      "\n",
      "       [[ 366.5252 , 1073.4747 ]],\n",
      "\n",
      "       [[ 659.54443,  994.58795]],\n",
      "\n",
      "       [[ 610.6156 , 1001.31354]],\n",
      "\n",
      "       [[ 562.52277, 1006.6071 ]],\n",
      "\n",
      "       [[ 513.5923 , 1008.95056]],\n",
      "\n",
      "       [[ 466.15393, 1011.28467]],\n",
      "\n",
      "       [[ 419.42715, 1010.8686 ]],\n",
      "\n",
      "       [[ 374.0769 , 1007.5384 ]],\n",
      "\n",
      "       [[ 655.236  ,  927.1072 ]],\n",
      "\n",
      "       [[ 608.4447 ,  933.24274]],\n",
      "\n",
      "       [[ 562.5142 ,  938.855  ]],\n",
      "\n",
      "       [[ 515.7476 ,  943.1398 ]],\n",
      "\n",
      "       [[ 470.35654,  945.33777]],\n",
      "\n",
      "       [[ 425.7204 ,  946.91113]],\n",
      "\n",
      "       [[ 382.1968 ,  945.1232 ]],\n",
      "\n",
      "       [[ 652.1998 ,  862.5383 ]],\n",
      "\n",
      "       [[ 607.3307 ,  869.2801 ]],\n",
      "\n",
      "       [[ 562.53296,  875.4211 ]],\n",
      "\n",
      "       [[ 517.61145,  880.0969 ]],\n",
      "\n",
      "       [[ 473.40665,  884.18384]],\n",
      "\n",
      "       [[ 430.69995,  885.74774]],\n",
      "\n",
      "       [[ 389.0351 ,  886.6882 ]],\n",
      "\n",
      "       [[ 647.99554,  804.1945 ]],\n",
      "\n",
      "       [[ 605.38983,  809.5287 ]],\n",
      "\n",
      "       [[ 562.366  ,  815.50006]],\n",
      "\n",
      "       [[ 518.5886 ,  821.0092 ]],\n",
      "\n",
      "       [[ 477.0584 ,  826.34143]],\n",
      "\n",
      "       [[ 435.78433,  827.60376]],\n",
      "\n",
      "       [[ 396.53116,  829.65344]]], dtype=float32), array([[[ 363.3243 ,  749.12555]],\n",
      "\n",
      "       [[ 407.83698,  746.0774 ]],\n",
      "\n",
      "       [[ 454.70425,  742.9029 ]],\n",
      "\n",
      "       [[ 502.62012,  739.6641 ]],\n",
      "\n",
      "       [[ 550.6416 ,  734.38544]],\n",
      "\n",
      "       [[ 600.10614,  726.7045 ]],\n",
      "\n",
      "       [[ 650.1287 ,  722.7878 ]],\n",
      "\n",
      "       [[ 353.40033,  812.50195]],\n",
      "\n",
      "       [[ 399.94354,  809.74146]],\n",
      "\n",
      "       [[ 449.1498 ,  809.4826 ]],\n",
      "\n",
      "       [[ 499.35498,  805.1012 ]],\n",
      "\n",
      "       [[ 549.837  ,  799.2961 ]],\n",
      "\n",
      "       [[ 601.66016,  793.36694]],\n",
      "\n",
      "       [[ 653.31604,  789.0175 ]],\n",
      "\n",
      "       [[ 344.23196,  881.55457]],\n",
      "\n",
      "       [[ 393.0274 ,  882.6055 ]],\n",
      "\n",
      "       [[ 443.41965,  881.3587 ]],\n",
      "\n",
      "       [[ 496.0828 ,  878.7453 ]],\n",
      "\n",
      "       [[ 548.7865 ,  873.5424 ]],\n",
      "\n",
      "       [[ 603.82263,  868.1718 ]],\n",
      "\n",
      "       [[ 657.68005,  861.354  ]],\n",
      "\n",
      "       [[ 334.16275,  953.05414]],\n",
      "\n",
      "       [[ 384.30704,  957.2244 ]],\n",
      "\n",
      "       [[ 437.72626,  957.8124 ]],\n",
      "\n",
      "       [[ 492.41153,  957.2035 ]],\n",
      "\n",
      "       [[ 548.46625,  953.26794]],\n",
      "\n",
      "       [[ 605.91547,  948.5721 ]],\n",
      "\n",
      "       [[ 662.6203 ,  942.6516 ]],\n",
      "\n",
      "       [[ 322.86798, 1030.9465 ]],\n",
      "\n",
      "       [[ 375.88675, 1037.6532 ]],\n",
      "\n",
      "       [[ 431.30737, 1040.1218 ]],\n",
      "\n",
      "       [[ 488.50882, 1040.4252 ]],\n",
      "\n",
      "       [[ 548.0795 , 1039.3846 ]],\n",
      "\n",
      "       [[ 607.8309 , 1034.7139 ]],\n",
      "\n",
      "       [[ 667.64716, 1028.1036 ]],\n",
      "\n",
      "       [[ 310.74326, 1113.7123 ]],\n",
      "\n",
      "       [[ 367.30008, 1123.3333 ]],\n",
      "\n",
      "       [[ 425.13403, 1129.2167 ]],\n",
      "\n",
      "       [[ 485.35205, 1129.5502 ]],\n",
      "\n",
      "       [[ 547.4781 , 1128.2067 ]],\n",
      "\n",
      "       [[ 609.7255 , 1125.0042 ]],\n",
      "\n",
      "       [[ 672.4468 , 1119.3586 ]]], dtype=float32), array([[[ 403.71848,  846.92236]],\n",
      "\n",
      "       [[ 439.52246,  842.9381 ]],\n",
      "\n",
      "       [[ 478.20316,  838.4647 ]],\n",
      "\n",
      "       [[ 516.7926 ,  835.7873 ]],\n",
      "\n",
      "       [[ 556.23706,  811.4733 ]],\n",
      "\n",
      "       [[ 595.3598 ,  822.3478 ]],\n",
      "\n",
      "       [[ 635.47064,  798.75116]],\n",
      "\n",
      "       [[ 398.68875,  892.54407]],\n",
      "\n",
      "       [[ 436.911  ,  880.34357]],\n",
      "\n",
      "       [[ 476.65683,  877.2475 ]],\n",
      "\n",
      "       [[ 516.0604 ,  874.57   ]],\n",
      "\n",
      "       [[ 556.4119 ,  866.2478 ]],\n",
      "\n",
      "       [[ 596.45325,  860.28925]],\n",
      "\n",
      "       [[ 637.8938 ,  854.87164]],\n",
      "\n",
      "       [[ 394.14246,  941.1813 ]],\n",
      "\n",
      "       [[ 431.17252,  958.55585]],\n",
      "\n",
      "       [[ 472.96045,  955.2313 ]],\n",
      "\n",
      "       [[ 513.57074,  952.5736 ]],\n",
      "\n",
      "       [[ 556.0273 ,  929.85565]],\n",
      "\n",
      "       [[ 598.2575 ,  941.80206]],\n",
      "\n",
      "       [[ 640.45087,  916.7692 ]],\n",
      "\n",
      "       [[ 385.50012, 1017.7883 ]],\n",
      "\n",
      "       [[ 428.30527, 1003.32196]],\n",
      "\n",
      "       [[ 471.37662,  999.7748 ]],\n",
      "\n",
      "       [[ 512.82245,  999.80493]],\n",
      "\n",
      "       [[ 555.60693, 1012.10187]],\n",
      "\n",
      "       [[ 599.80115, 1005.6005 ]],\n",
      "\n",
      "       [[ 643.25854,  980.6861 ]],\n",
      "\n",
      "       [[ 381.60846, 1081.4718 ]],\n",
      "\n",
      "       [[ 425.5642 , 1066.2029 ]],\n",
      "\n",
      "       [[ 467.07672, 1067.0426 ]],\n",
      "\n",
      "       [[ 509.89236, 1083.1635 ]],\n",
      "\n",
      "       [[ 555.9047 , 1062.2499 ]],\n",
      "\n",
      "       [[ 601.3929 , 1074.9817 ]],\n",
      "\n",
      "       [[ 647.5916 , 1067.7404 ]],\n",
      "\n",
      "       [[ 373.63046, 1146.7433 ]],\n",
      "\n",
      "       [[ 418.88974, 1135.0388 ]],\n",
      "\n",
      "       [[ 464.5486 , 1135.0564 ]],\n",
      "\n",
      "       [[ 508.8028 , 1134.7183 ]],\n",
      "\n",
      "       [[ 555.84644, 1129.9773 ]],\n",
      "\n",
      "       [[ 602.8191 , 1127.9279 ]],\n",
      "\n",
      "       [[ 650.29205, 1121.7742 ]]], dtype=float32), array([[[ 352.54086,  720.26135]],\n",
      "\n",
      "       [[ 397.68982,  716.8361 ]],\n",
      "\n",
      "       [[ 444.6781 ,  713.3466 ]],\n",
      "\n",
      "       [[ 493.87936,  710.7574 ]],\n",
      "\n",
      "       [[ 543.8242 ,  705.00323]],\n",
      "\n",
      "       [[ 593.53516,  696.89105]],\n",
      "\n",
      "       [[ 644.60077,  692.8656 ]],\n",
      "\n",
      "       [[ 342.10443,  786.0299 ]],\n",
      "\n",
      "       [[ 389.78333,  783.0941 ]],\n",
      "\n",
      "       [[ 439.57254,  782.84424]],\n",
      "\n",
      "       [[ 490.24094,  777.9142 ]],\n",
      "\n",
      "       [[ 542.7033 ,  771.78436]],\n",
      "\n",
      "       [[ 595.45514,  765.35004]],\n",
      "\n",
      "       [[ 649.22833,  759.7018 ]],\n",
      "\n",
      "       [[ 332.59955,  856.74585]],\n",
      "\n",
      "       [[ 382.4465 ,  856.93286]],\n",
      "\n",
      "       [[ 433.68173,  856.4184 ]],\n",
      "\n",
      "       [[ 487.54968,  852.98236]],\n",
      "\n",
      "       [[ 542.0005 ,  848.467  ]],\n",
      "\n",
      "       [[ 597.37805,  842.53143]],\n",
      "\n",
      "       [[ 653.1545 ,  835.247  ]],\n",
      "\n",
      "       [[ 321.91653,  930.59326]],\n",
      "\n",
      "       [[ 373.40067,  934.1786 ]],\n",
      "\n",
      "       [[ 427.76224,  934.6547 ]],\n",
      "\n",
      "       [[ 483.71176,  933.6548 ]],\n",
      "\n",
      "       [[ 541.45074,  929.9128 ]],\n",
      "\n",
      "       [[ 599.53827,  924.634  ]],\n",
      "\n",
      "       [[ 657.6217 ,  918.8651 ]],\n",
      "\n",
      "       [[ 309.66107, 1010.9723 ]],\n",
      "\n",
      "       [[ 364.5803 , 1017.5987 ]],\n",
      "\n",
      "       [[ 421.2136 , 1019.9316 ]],\n",
      "\n",
      "       [[ 479.71246, 1019.90405]],\n",
      "\n",
      "       [[ 540.2853 , 1019.09216]],\n",
      "\n",
      "       [[ 601.8798 , 1013.6536 ]],\n",
      "\n",
      "       [[ 663.2299 , 1007.28625]],\n",
      "\n",
      "       [[ 297.92288, 1096.2455 ]],\n",
      "\n",
      "       [[ 354.52542, 1106.5706 ]],\n",
      "\n",
      "       [[ 413.63412, 1111.8324 ]],\n",
      "\n",
      "       [[ 475.4423 , 1112.8859 ]],\n",
      "\n",
      "       [[ 539.366  , 1110.2415 ]],\n",
      "\n",
      "       [[ 604.0732 , 1108.1029 ]],\n",
      "\n",
      "       [[ 668.21344, 1101.7727 ]]], dtype=float32), array([[[ 392.8317 ,  782.46344]],\n",
      "\n",
      "       [[ 432.15186,  779.39307]],\n",
      "\n",
      "       [[ 473.16687,  776.87445]],\n",
      "\n",
      "       [[ 515.3733 ,  775.19135]],\n",
      "\n",
      "       [[ 557.387  ,  770.204  ]],\n",
      "\n",
      "       [[ 599.694  ,  763.364  ]],\n",
      "\n",
      "       [[ 642.58997,  759.9184 ]],\n",
      "\n",
      "       [[ 385.25482,  836.9862 ]],\n",
      "\n",
      "       [[ 426.9944 ,  836.4009 ]],\n",
      "\n",
      "       [[ 469.3344 ,  835.9483 ]],\n",
      "\n",
      "       [[ 512.6264 ,  831.8668 ]],\n",
      "\n",
      "       [[ 556.50006,  826.77203]],\n",
      "\n",
      "       [[ 601.36237,  822.2061 ]],\n",
      "\n",
      "       [[ 645.7588 ,  817.70197]],\n",
      "\n",
      "       [[ 378.34814,  897.8376 ]],\n",
      "\n",
      "       [[ 420.7506 ,  898.50543]],\n",
      "\n",
      "       [[ 464.80975,  897.2612 ]],\n",
      "\n",
      "       [[ 509.74115,  895.04724]],\n",
      "\n",
      "       [[ 556.24335,  890.8398 ]],\n",
      "\n",
      "       [[ 602.3708 ,  886.3921 ]],\n",
      "\n",
      "       [[ 648.7341 ,  880.2264 ]],\n",
      "\n",
      "       [[ 369.55228,  959.4434 ]],\n",
      "\n",
      "       [[ 414.2078 ,  962.89984]],\n",
      "\n",
      "       [[ 460.0521 ,  962.89923]],\n",
      "\n",
      "       [[ 507.41962,  962.4523 ]],\n",
      "\n",
      "       [[ 554.89343,  959.2808 ]],\n",
      "\n",
      "       [[ 603.52344,  954.2722 ]],\n",
      "\n",
      "       [[ 652.4032 ,  949.3582 ]],\n",
      "\n",
      "       [[ 361.63193, 1025.7041 ]],\n",
      "\n",
      "       [[ 408.24893, 1029.8352 ]],\n",
      "\n",
      "       [[ 455.84277, 1032.7999 ]],\n",
      "\n",
      "       [[ 503.8605 , 1032.7334 ]],\n",
      "\n",
      "       [[ 554.4751 , 1030.0569 ]],\n",
      "\n",
      "       [[ 605.41907, 1026.8699 ]],\n",
      "\n",
      "       [[ 655.2083 , 1021.56415]],\n",
      "\n",
      "       [[ 352.59195, 1095.012  ]],\n",
      "\n",
      "       [[ 400.50458, 1102.945  ]],\n",
      "\n",
      "       [[ 450.45966, 1106.2516 ]],\n",
      "\n",
      "       [[ 501.92667, 1106.4517 ]],\n",
      "\n",
      "       [[ 553.42584, 1103.4205 ]],\n",
      "\n",
      "       [[ 606.8118 , 1101.9233 ]],\n",
      "\n",
      "       [[ 658.86206, 1097.314  ]]], dtype=float32), array([[[ 381.27432,  738.3295 ]],\n",
      "\n",
      "       [[ 424.0276 ,  734.7352 ]],\n",
      "\n",
      "       [[ 468.54572,  731.5777 ]],\n",
      "\n",
      "       [[ 514.43896,  728.5877 ]],\n",
      "\n",
      "       [[ 560.7274 ,  722.82434]],\n",
      "\n",
      "       [[ 607.69385,  715.35767]],\n",
      "\n",
      "       [[ 654.4267 ,  710.91614]],\n",
      "\n",
      "       [[ 372.0387 ,  798.9137 ]],\n",
      "\n",
      "       [[ 416.6338 ,  797.45654]],\n",
      "\n",
      "       [[ 463.6602 ,  795.1929 ]],\n",
      "\n",
      "       [[ 511.41208,  790.78613]],\n",
      "\n",
      "       [[ 560.39746,  784.66077]],\n",
      "\n",
      "       [[ 608.6104 ,  779.0068 ]],\n",
      "\n",
      "       [[ 658.38824,  773.739  ]],\n",
      "\n",
      "       [[ 364.14624,  865.48724]],\n",
      "\n",
      "       [[ 410.6247 ,  865.2631 ]],\n",
      "\n",
      "       [[ 458.4568 ,  864.1759 ]],\n",
      "\n",
      "       [[ 508.35873,  860.68   ]],\n",
      "\n",
      "       [[ 559.84   ,  855.88715]],\n",
      "\n",
      "       [[ 610.534  ,  849.8147 ]],\n",
      "\n",
      "       [[ 662.81464,  843.1111 ]],\n",
      "\n",
      "       [[ 353.76932,  933.67474]],\n",
      "\n",
      "       [[ 402.84866,  937.4339 ]],\n",
      "\n",
      "       [[ 453.5202 ,  936.77295]],\n",
      "\n",
      "       [[ 505.42535,  935.3656 ]],\n",
      "\n",
      "       [[ 558.77094,  931.7217 ]],\n",
      "\n",
      "       [[ 612.5486 ,  926.13446]],\n",
      "\n",
      "       [[ 667.203  ,  919.4098 ]],\n",
      "\n",
      "       [[ 343.92603, 1007.9507 ]],\n",
      "\n",
      "       [[ 395.40112, 1013.1897 ]],\n",
      "\n",
      "       [[ 447.70578, 1015.1547 ]],\n",
      "\n",
      "       [[ 502.56775, 1014.278  ]],\n",
      "\n",
      "       [[ 558.47217, 1012.68665]],\n",
      "\n",
      "       [[ 614.54346, 1008.17395]],\n",
      "\n",
      "       [[ 670.6527 , 1000.6533 ]],\n",
      "\n",
      "       [[ 333.56488, 1086.3328 ]],\n",
      "\n",
      "       [[ 386.50784, 1094.203  ]],\n",
      "\n",
      "       [[ 442.4175 , 1098.6049 ]],\n",
      "\n",
      "       [[ 498.75375, 1098.5991 ]],\n",
      "\n",
      "       [[ 557.0219 , 1096.2395 ]],\n",
      "\n",
      "       [[ 616.52637, 1092.7599 ]],\n",
      "\n",
      "       [[ 675.5721 , 1086.7765 ]]], dtype=float32), array([[[ 386.661  ,  815.5596 ]],\n",
      "\n",
      "       [[ 429.58456,  812.7784 ]],\n",
      "\n",
      "       [[ 474.56805,  809.4771 ]],\n",
      "\n",
      "       [[ 520.40106,  806.82605]],\n",
      "\n",
      "       [[ 567.372  ,  800.79   ]],\n",
      "\n",
      "       [[ 614.3029 ,  792.9179 ]],\n",
      "\n",
      "       [[ 661.39667,  788.6046 ]],\n",
      "\n",
      "       [[ 379.3717 ,  877.3687 ]],\n",
      "\n",
      "       [[ 424.28485,  876.23444]],\n",
      "\n",
      "       [[ 471.2525 ,  874.7013 ]],\n",
      "\n",
      "       [[ 518.25714,  870.29926]],\n",
      "\n",
      "       [[ 566.8962 ,  864.3727 ]],\n",
      "\n",
      "       [[ 616.45557,  858.5442 ]],\n",
      "\n",
      "       [[ 665.71655,  852.8326 ]],\n",
      "\n",
      "       [[ 370.8905 ,  945.5001 ]],\n",
      "\n",
      "       [[ 417.6424 ,  946.22656]],\n",
      "\n",
      "       [[ 466.5628 ,  944.5685 ]],\n",
      "\n",
      "       [[ 516.64075,  941.8225 ]],\n",
      "\n",
      "       [[ 567.0901 ,  936.99567]],\n",
      "\n",
      "       [[ 618.5745 ,  930.22656]],\n",
      "\n",
      "       [[ 669.5123 ,  923.2375 ]],\n",
      "\n",
      "       [[ 362.25104, 1014.7367 ]],\n",
      "\n",
      "       [[ 411.67044, 1019.1245 ]],\n",
      "\n",
      "       [[ 461.3132 , 1019.08014]],\n",
      "\n",
      "       [[ 513.94556, 1017.691  ]],\n",
      "\n",
      "       [[ 567.0417 , 1013.1714 ]],\n",
      "\n",
      "       [[ 620.8218 , 1008.20435]],\n",
      "\n",
      "       [[ 674.37524, 1000.4228 ]],\n",
      "\n",
      "       [[ 352.9498 , 1089.8143 ]],\n",
      "\n",
      "       [[ 403.94748, 1095.8939 ]],\n",
      "\n",
      "       [[ 457.3992 , 1098.526  ]],\n",
      "\n",
      "       [[ 511.33688, 1097.6637 ]],\n",
      "\n",
      "       [[ 566.9062 , 1095.3225 ]],\n",
      "\n",
      "       [[ 623.1144 , 1089.7982 ]],\n",
      "\n",
      "       [[ 679.53076, 1082.691  ]],\n",
      "\n",
      "       [[ 342.8597 , 1169.1698 ]],\n",
      "\n",
      "       [[ 396.99567, 1178.4147 ]],\n",
      "\n",
      "       [[ 451.70346, 1182.6061 ]],\n",
      "\n",
      "       [[ 508.35297, 1182.6178 ]],\n",
      "\n",
      "       [[ 566.3614 , 1179.4222 ]],\n",
      "\n",
      "       [[ 625.482  , 1175.653  ]],\n",
      "\n",
      "       [[ 683.69525, 1169.273  ]]], dtype=float32), array([[[ 404.4245 ,  852.6543 ]],\n",
      "\n",
      "       [[ 441.11615,  849.37006]],\n",
      "\n",
      "       [[ 477.8173 ,  846.9279 ]],\n",
      "\n",
      "       [[ 516.38055,  844.43567]],\n",
      "\n",
      "       [[ 554.48315,  839.66327]],\n",
      "\n",
      "       [[ 592.96704,  832.987  ]],\n",
      "\n",
      "       [[ 631.7036 ,  829.2799 ]],\n",
      "\n",
      "       [[ 398.39166,  901.5933 ]],\n",
      "\n",
      "       [[ 436.44046,  899.5171 ]],\n",
      "\n",
      "       [[ 474.78906,  899.1147 ]],\n",
      "\n",
      "       [[ 514.7519 ,  894.4848 ]],\n",
      "\n",
      "       [[ 554.3335 ,  889.4145 ]],\n",
      "\n",
      "       [[ 593.7339 ,  884.2061 ]],\n",
      "\n",
      "       [[ 635.092  ,  879.33075]],\n",
      "\n",
      "       [[ 392.93045,  955.1291 ]],\n",
      "\n",
      "       [[ 431.7247 ,  954.3116 ]],\n",
      "\n",
      "       [[ 472.48392,  953.09576]],\n",
      "\n",
      "       [[ 513.32   ,  949.6784 ]],\n",
      "\n",
      "       [[ 554.47217,  946.06824]],\n",
      "\n",
      "       [[ 595.62964,  940.1598 ]],\n",
      "\n",
      "       [[ 637.9064 ,  934.2435 ]],\n",
      "\n",
      "       [[ 386.06894, 1009.239  ]],\n",
      "\n",
      "       [[ 427.53333, 1010.9138 ]],\n",
      "\n",
      "       [[ 468.72534, 1009.7023 ]],\n",
      "\n",
      "       [[ 511.46887, 1009.2053 ]],\n",
      "\n",
      "       [[ 554.4121 , 1005.30707]],\n",
      "\n",
      "       [[ 597.45416, 1000.053  ]],\n",
      "\n",
      "       [[ 640.75476,  994.15753]],\n",
      "\n",
      "       [[ 379.6798 , 1067.2128 ]],\n",
      "\n",
      "       [[ 421.95578, 1069.8287 ]],\n",
      "\n",
      "       [[ 465.1306 , 1070.9381 ]],\n",
      "\n",
      "       [[ 509.4042 , 1069.5151 ]],\n",
      "\n",
      "       [[ 554.4517 , 1067.253  ]],\n",
      "\n",
      "       [[ 599.45905, 1062.9937 ]],\n",
      "\n",
      "       [[ 644.4855 , 1057.0709 ]],\n",
      "\n",
      "       [[ 371.8105 , 1128.1652 ]],\n",
      "\n",
      "       [[ 416.1562 , 1133.1027 ]],\n",
      "\n",
      "       [[ 461.17667, 1135.402  ]],\n",
      "\n",
      "       [[ 507.32727, 1133.4634 ]],\n",
      "\n",
      "       [[ 554.32227, 1130.1613 ]],\n",
      "\n",
      "       [[ 601.3728 , 1127.7546 ]],\n",
      "\n",
      "       [[ 648.6653 , 1122.7859 ]]], dtype=float32), array([[[ 481.28223,  886.10614]],\n",
      "\n",
      "       [[ 516.5733 ,  883.4242 ]],\n",
      "\n",
      "       [[ 551.43164,  882.62836]],\n",
      "\n",
      "       [[ 588.0199 ,  880.1343 ]],\n",
      "\n",
      "       [[ 623.41785,  876.4266 ]],\n",
      "\n",
      "       [[ 659.51624,  870.02167]],\n",
      "\n",
      "       [[ 696.1231 ,  866.70496]],\n",
      "\n",
      "       [[ 476.12146,  926.619  ]],\n",
      "\n",
      "       [[ 512.5644 ,  926.176  ]],\n",
      "\n",
      "       [[ 548.8282 ,  925.4321 ]],\n",
      "\n",
      "       [[ 586.6123 ,  922.2603 ]],\n",
      "\n",
      "       [[ 623.55493,  917.7008 ]],\n",
      "\n",
      "       [[ 661.8205 ,  912.71484]],\n",
      "\n",
      "       [[ 698.6813 ,  908.8485 ]],\n",
      "\n",
      "       [[ 471.16226,  971.94183]],\n",
      "\n",
      "       [[ 508.31644,  972.4601 ]],\n",
      "\n",
      "       [[ 547.42566,  970.76685]],\n",
      "\n",
      "       [[ 585.7803 ,  968.5205 ]],\n",
      "\n",
      "       [[ 624.40894,  964.35175]],\n",
      "\n",
      "       [[ 663.85315,  959.4094 ]],\n",
      "\n",
      "       [[ 702.7199 ,  954.2211 ]],\n",
      "\n",
      "       [[ 464.74408, 1016.7889 ]],\n",
      "\n",
      "       [[ 503.55573, 1019.4867 ]],\n",
      "\n",
      "       [[ 544.1635 , 1019.10736]],\n",
      "\n",
      "       [[ 584.52264, 1017.80835]],\n",
      "\n",
      "       [[ 625.2751 , 1014.18915]],\n",
      "\n",
      "       [[ 666.4822 , 1009.4997 ]],\n",
      "\n",
      "       [[ 706.6991 , 1004.70355]],\n",
      "\n",
      "       [[ 458.09793, 1065.6205 ]],\n",
      "\n",
      "       [[ 499.56534, 1069.3346 ]],\n",
      "\n",
      "       [[ 541.3344 , 1069.7017 ]],\n",
      "\n",
      "       [[ 582.87244, 1069.1268 ]],\n",
      "\n",
      "       [[ 625.49005, 1066.6577 ]],\n",
      "\n",
      "       [[ 668.3232 , 1062.824  ]],\n",
      "\n",
      "       [[ 710.8992 , 1057.1334 ]],\n",
      "\n",
      "       [[ 451.2338 , 1116.9486 ]],\n",
      "\n",
      "       [[ 493.88226, 1122.6228 ]],\n",
      "\n",
      "       [[ 537.5111 , 1123.572  ]],\n",
      "\n",
      "       [[ 581.40497, 1122.8594 ]],\n",
      "\n",
      "       [[ 625.66034, 1119.4575 ]],\n",
      "\n",
      "       [[ 670.4186 , 1116.8992 ]],\n",
      "\n",
      "       [[ 714.5188 , 1112.6354 ]]], dtype=float32), array([[[ 396.16562,  799.2305 ]],\n",
      "\n",
      "       [[ 433.10983,  796.52844]],\n",
      "\n",
      "       [[ 472.4542 ,  794.60364]],\n",
      "\n",
      "       [[ 511.47263,  792.95905]],\n",
      "\n",
      "       [[ 550.82855,  788.67786]],\n",
      "\n",
      "       [[ 592.2539 ,  782.62524]],\n",
      "\n",
      "       [[ 632.24567,  779.3264 ]],\n",
      "\n",
      "       [[ 388.87418,  851.9086 ]],\n",
      "\n",
      "       [[ 428.11252,  850.20905]],\n",
      "\n",
      "       [[ 468.51627,  849.59186]],\n",
      "\n",
      "       [[ 509.2735 ,  846.60144]],\n",
      "\n",
      "       [[ 550.37134,  842.5736 ]],\n",
      "\n",
      "       [[ 592.72797,  837.7552 ]],\n",
      "\n",
      "       [[ 635.20825,  832.99133]],\n",
      "\n",
      "       [[ 382.8214 ,  909.0379 ]],\n",
      "\n",
      "       [[ 422.98288,  909.3165 ]],\n",
      "\n",
      "       [[ 464.5337 ,  908.91144]],\n",
      "\n",
      "       [[ 506.69537,  906.5242 ]],\n",
      "\n",
      "       [[ 549.76965,  902.74854]],\n",
      "\n",
      "       [[ 593.4394 ,  897.92993]],\n",
      "\n",
      "       [[ 637.5779 ,  892.8343 ]],\n",
      "\n",
      "       [[ 375.461  ,  966.88074]],\n",
      "\n",
      "       [[ 417.13672,  969.5274 ]],\n",
      "\n",
      "       [[ 460.1424 ,  969.46674]],\n",
      "\n",
      "       [[ 503.7508 ,  969.2041 ]],\n",
      "\n",
      "       [[ 548.6757 ,  966.42035]],\n",
      "\n",
      "       [[ 594.2085 ,  961.8418 ]],\n",
      "\n",
      "       [[ 639.70245,  957.2612 ]],\n",
      "\n",
      "       [[ 367.8698 , 1028.8425 ]],\n",
      "\n",
      "       [[ 411.74728, 1033.0306 ]],\n",
      "\n",
      "       [[ 456.4364 , 1034.8038 ]],\n",
      "\n",
      "       [[ 502.4204 , 1034.337  ]],\n",
      "\n",
      "       [[ 548.43024, 1033.1411 ]],\n",
      "\n",
      "       [[ 595.5183 , 1029.5619 ]],\n",
      "\n",
      "       [[ 642.5991 , 1024.3091 ]],\n",
      "\n",
      "       [[ 359.44916, 1093.8229 ]],\n",
      "\n",
      "       [[ 405.12833, 1100.2993 ]],\n",
      "\n",
      "       [[ 451.5531 , 1103.1838 ]],\n",
      "\n",
      "       [[ 499.2027 , 1103.1621 ]],\n",
      "\n",
      "       [[ 547.72876, 1101.4894 ]],\n",
      "\n",
      "       [[ 596.6407 , 1099.3796 ]],\n",
      "\n",
      "       [[ 646.2202 , 1095.2537 ]]], dtype=float32), array([[[379.57397 , 111.543   ]],\n",
      "\n",
      "       [[428.53525 ,  98.2435  ]],\n",
      "\n",
      "       [[480.35114 ,  87.05706 ]],\n",
      "\n",
      "       [[532.82587 ,  78.43475 ]],\n",
      "\n",
      "       [[586.18646 ,  68.65427 ]],\n",
      "\n",
      "       [[638.4401  ,  58.534412]],\n",
      "\n",
      "       [[691.34296 ,  55.65086 ]],\n",
      "\n",
      "       [[369.2555  , 160.75156 ]],\n",
      "\n",
      "       [[422.3517  , 147.4698  ]],\n",
      "\n",
      "       [[476.28107 , 137.49768 ]],\n",
      "\n",
      "       [[532.47485 , 126.04483 ]],\n",
      "\n",
      "       [[588.3517  , 114.8368  ]],\n",
      "\n",
      "       [[644.37885 , 106.90751 ]],\n",
      "\n",
      "       [[699.3982  , 102.635796]],\n",
      "\n",
      "       [[359.4348  , 217.89493 ]],\n",
      "\n",
      "       [[414.29395 , 205.79585 ]],\n",
      "\n",
      "       [[472.60318 , 194.31558 ]],\n",
      "\n",
      "       [[531.30334 , 183.01547 ]],\n",
      "\n",
      "       [[590.89056 , 172.23393 ]],\n",
      "\n",
      "       [[651.1275  , 163.65509 ]],\n",
      "\n",
      "       [[709.5491  , 157.58002 ]],\n",
      "\n",
      "       [[347.7447  , 276.88245 ]],\n",
      "\n",
      "       [[406.45773 , 267.71545 ]],\n",
      "\n",
      "       [[467.4271  , 255.94928 ]],\n",
      "\n",
      "       [[530.50287 , 246.2784  ]],\n",
      "\n",
      "       [[593.4402  , 236.24623 ]],\n",
      "\n",
      "       [[657.26843 , 227.66827 ]],\n",
      "\n",
      "       [[720.11926 , 221.90108 ]],\n",
      "\n",
      "       [[334.74197 , 345.31427 ]],\n",
      "\n",
      "       [[397.47858 , 336.3903  ]],\n",
      "\n",
      "       [[461.68808 , 326.62207 ]],\n",
      "\n",
      "       [[528.95374 , 316.16907 ]],\n",
      "\n",
      "       [[597.1431  , 307.9461  ]],\n",
      "\n",
      "       [[665.19653 , 299.9101  ]],\n",
      "\n",
      "       [[731.3897  , 293.44113 ]],\n",
      "\n",
      "       [[320.33127 , 420.51138 ]],\n",
      "\n",
      "       [[386.30536 , 415.39816 ]],\n",
      "\n",
      "       [[456.42883 , 405.73193 ]],\n",
      "\n",
      "       [[527.74536 , 394.2805  ]],\n",
      "\n",
      "       [[600.62384 , 383.1357  ]],\n",
      "\n",
      "       [[673.5199  , 377.37173 ]],\n",
      "\n",
      "       [[744.28644 , 371.9689  ]]], dtype=float32), array([[[ 407.54044,  828.4684 ]],\n",
      "\n",
      "       [[ 444.27478,  825.46356]],\n",
      "\n",
      "       [[ 483.2762 ,  822.66425]],\n",
      "\n",
      "       [[ 521.6983 ,  819.16693]],\n",
      "\n",
      "       [[ 561.65076,  813.6214 ]],\n",
      "\n",
      "       [[ 600.96545,  806.269  ]],\n",
      "\n",
      "       [[ 640.2847 ,  801.8792 ]],\n",
      "\n",
      "       [[ 401.47913,  878.6301 ]],\n",
      "\n",
      "       [[ 440.40317,  876.64685]],\n",
      "\n",
      "       [[ 479.7356 ,  875.2067 ]],\n",
      "\n",
      "       [[ 520.219  ,  870.80304]],\n",
      "\n",
      "       [[ 561.41205,  865.32965]],\n",
      "\n",
      "       [[ 602.6381 ,  858.66144]],\n",
      "\n",
      "       [[ 643.65546,  853.20874]],\n",
      "\n",
      "       [[ 396.18744,  933.6925 ]],\n",
      "\n",
      "       [[ 435.64737,  933.12897]],\n",
      "\n",
      "       [[ 476.6343 ,  931.3067 ]],\n",
      "\n",
      "       [[ 518.4588 ,  927.2855 ]],\n",
      "\n",
      "       [[ 562.0529 ,  922.429  ]],\n",
      "\n",
      "       [[ 604.5676 ,  916.5534 ]],\n",
      "\n",
      "       [[ 647.5185 ,  910.288  ]],\n",
      "\n",
      "       [[ 388.5524 ,  989.41583]],\n",
      "\n",
      "       [[ 430.28586,  991.33295]],\n",
      "\n",
      "       [[ 473.3096 ,  989.7692 ]],\n",
      "\n",
      "       [[ 517.5993 ,  987.87146]],\n",
      "\n",
      "       [[ 562.1567 ,  983.29266]],\n",
      "\n",
      "       [[ 606.762  ,  977.92017]],\n",
      "\n",
      "       [[ 651.415  ,  971.45496]],\n",
      "\n",
      "       [[ 381.8096 , 1049.6437 ]],\n",
      "\n",
      "       [[ 425.5947 , 1052.2487 ]],\n",
      "\n",
      "       [[ 470.3781 , 1052.5426 ]],\n",
      "\n",
      "       [[ 515.522  , 1050.7504 ]],\n",
      "\n",
      "       [[ 562.4012 , 1047.7922 ]],\n",
      "\n",
      "       [[ 608.2446 , 1042.6724 ]],\n",
      "\n",
      "       [[ 654.42773, 1036.3312 ]],\n",
      "\n",
      "       [[ 373.98282, 1111.9529 ]],\n",
      "\n",
      "       [[ 419.53052, 1117.4784 ]],\n",
      "\n",
      "       [[ 466.35526, 1118.4689 ]],\n",
      "\n",
      "       [[ 513.4924 , 1117.2102 ]],\n",
      "\n",
      "       [[ 562.2077 , 1113.1289 ]],\n",
      "\n",
      "       [[ 610.1708 , 1109.4788 ]],\n",
      "\n",
      "       [[ 658.88995, 1103.9264 ]]], dtype=float32), array([[[ 356.654  ,  727.95667]],\n",
      "\n",
      "       [[ 401.9781 ,  723.6842 ]],\n",
      "\n",
      "       [[ 449.52048,  720.4054 ]],\n",
      "\n",
      "       [[ 498.3779 ,  717.558  ]],\n",
      "\n",
      "       [[ 547.86847,  711.3462 ]],\n",
      "\n",
      "       [[ 597.5224 ,  703.0737 ]],\n",
      "\n",
      "       [[ 648.4033 ,  698.7712 ]],\n",
      "\n",
      "       [[ 347.35275,  792.4168 ]],\n",
      "\n",
      "       [[ 394.70807,  789.6017 ]],\n",
      "\n",
      "       [[ 443.6324 ,  788.60254]],\n",
      "\n",
      "       [[ 494.5944 ,  783.432  ]],\n",
      "\n",
      "       [[ 547.3627 ,  777.39655]],\n",
      "\n",
      "       [[ 599.51605,  770.86615]],\n",
      "\n",
      "       [[ 652.6844 ,  765.5069 ]],\n",
      "\n",
      "       [[ 337.80176,  863.0615 ]],\n",
      "\n",
      "       [[ 386.65097,  863.12964]],\n",
      "\n",
      "       [[ 438.5462 ,  862.4483 ]],\n",
      "\n",
      "       [[ 491.241  ,  858.6064 ]],\n",
      "\n",
      "       [[ 546.3399 ,  853.36755]],\n",
      "\n",
      "       [[ 601.453  ,  847.08606]],\n",
      "\n",
      "       [[ 656.7459 ,  839.52594]],\n",
      "\n",
      "       [[ 326.39075,  936.4558 ]],\n",
      "\n",
      "       [[ 378.56622,  939.76044]],\n",
      "\n",
      "       [[ 432.04184,  939.69543]],\n",
      "\n",
      "       [[ 488.09302,  939.14575]],\n",
      "\n",
      "       [[ 545.5798 ,  935.2294 ]],\n",
      "\n",
      "       [[ 603.5287 ,  929.05865]],\n",
      "\n",
      "       [[ 661.6515 ,  922.73944]],\n",
      "\n",
      "       [[ 315.3646 , 1016.4004 ]],\n",
      "\n",
      "       [[ 368.73114, 1022.6722 ]],\n",
      "\n",
      "       [[ 426.14706, 1024.7683 ]],\n",
      "\n",
      "       [[ 484.67572, 1024.6711 ]],\n",
      "\n",
      "       [[ 545.2348 , 1022.899  ]],\n",
      "\n",
      "       [[ 605.74866, 1017.9208 ]],\n",
      "\n",
      "       [[ 667.25476, 1010.13824]],\n",
      "\n",
      "       [[ 303.33643, 1100.8712 ]],\n",
      "\n",
      "       [[ 359.99954, 1110.4244 ]],\n",
      "\n",
      "       [[ 419.04727, 1115.8394 ]],\n",
      "\n",
      "       [[ 480.14407, 1116.382  ]],\n",
      "\n",
      "       [[ 543.63416, 1113.3105 ]],\n",
      "\n",
      "       [[ 607.98303, 1110.5258 ]],\n",
      "\n",
      "       [[ 672.0657 , 1103.6434 ]]], dtype=float32), array([[[ 381.8187 ,  769.0483 ]],\n",
      "\n",
      "       [[ 422.61163,  766.16864]],\n",
      "\n",
      "       [[ 465.2589 ,  763.46875]],\n",
      "\n",
      "       [[ 509.0536 ,  760.87756]],\n",
      "\n",
      "       [[ 552.79297,  756.11926]],\n",
      "\n",
      "       [[ 597.5621 ,  748.72565]],\n",
      "\n",
      "       [[ 642.5399 ,  744.6394 ]],\n",
      "\n",
      "       [[ 373.50952,  826.73676]],\n",
      "\n",
      "       [[ 416.25717,  825.25146]],\n",
      "\n",
      "       [[ 460.62125,  824.0725 ]],\n",
      "\n",
      "       [[ 505.68436,  820.102  ]],\n",
      "\n",
      "       [[ 552.3611 ,  814.7115 ]],\n",
      "\n",
      "       [[ 599.3196 ,  809.3849 ]],\n",
      "\n",
      "       [[ 646.1739 ,  804.3221 ]],\n",
      "\n",
      "       [[ 366.20572,  889.5664 ]],\n",
      "\n",
      "       [[ 410.44687,  889.66656]],\n",
      "\n",
      "       [[ 456.55426,  889.36127]],\n",
      "\n",
      "       [[ 503.31744,  886.71356]],\n",
      "\n",
      "       [[ 551.39954,  882.6492 ]],\n",
      "\n",
      "       [[ 600.487  ,  876.8279 ]],\n",
      "\n",
      "       [[ 649.7955 ,  870.58575]],\n",
      "\n",
      "       [[ 356.50357,  954.2644 ]],\n",
      "\n",
      "       [[ 403.2666 ,  957.92426]],\n",
      "\n",
      "       [[ 451.20663,  957.7789 ]],\n",
      "\n",
      "       [[ 500.72806,  956.7885 ]],\n",
      "\n",
      "       [[ 550.5976 ,  953.2668 ]],\n",
      "\n",
      "       [[ 601.81476,  948.6541 ]],\n",
      "\n",
      "       [[ 653.00476,  942.9405 ]],\n",
      "\n",
      "       [[ 347.5355 , 1024.085  ]],\n",
      "\n",
      "       [[ 396.302  , 1029.361  ]],\n",
      "\n",
      "       [[ 445.7136 , 1031.5398 ]],\n",
      "\n",
      "       [[ 497.74326, 1031.0576 ]],\n",
      "\n",
      "       [[ 550.16815, 1029.4458 ]],\n",
      "\n",
      "       [[ 603.58154, 1025.65   ]],\n",
      "\n",
      "       [[ 656.3836 , 1019.38855]],\n",
      "\n",
      "       [[ 337.67984, 1098.1444 ]],\n",
      "\n",
      "       [[ 388.21048, 1106.0516 ]],\n",
      "\n",
      "       [[ 440.60013, 1109.3805 ]],\n",
      "\n",
      "       [[ 494.27408, 1109.5614 ]],\n",
      "\n",
      "       [[ 548.58246, 1107.5404 ]],\n",
      "\n",
      "       [[ 605.42444, 1104.5624 ]],\n",
      "\n",
      "       [[ 660.7859 , 1099.5089 ]]], dtype=float32), array([[[ 477.65793,  926.6382 ]],\n",
      "\n",
      "       [[ 512.3811 ,  925.485  ]],\n",
      "\n",
      "       [[ 547.63477,  924.4681 ]],\n",
      "\n",
      "       [[ 582.65436,  923.1594 ]],\n",
      "\n",
      "       [[ 618.9814 ,  919.23004]],\n",
      "\n",
      "       [[ 653.7414 ,  913.73193]],\n",
      "\n",
      "       [[ 690.1386 ,  910.5664 ]],\n",
      "\n",
      "       [[ 472.83688,  967.0538 ]],\n",
      "\n",
      "       [[ 508.25153,  966.8443 ]],\n",
      "\n",
      "       [[ 545.28534,  966.64154]],\n",
      "\n",
      "       [[ 581.5442 ,  964.17926]],\n",
      "\n",
      "       [[ 619.3    ,  959.62897]],\n",
      "\n",
      "       [[ 656.16266,  955.3368 ]],\n",
      "\n",
      "       [[ 693.47473,  951.572  ]],\n",
      "\n",
      "       [[ 467.24228, 1012.14197]],\n",
      "\n",
      "       [[ 504.12222, 1012.47766]],\n",
      "\n",
      "       [[ 542.5153 , 1012.3075 ]],\n",
      "\n",
      "       [[ 580.4505 , 1009.8993 ]],\n",
      "\n",
      "       [[ 619.62885, 1006.46954]],\n",
      "\n",
      "       [[ 657.8113 , 1002.41156]],\n",
      "\n",
      "       [[ 697.02527,  997.2296 ]],\n",
      "\n",
      "       [[ 460.88266, 1056.235  ]],\n",
      "\n",
      "       [[ 500.3454 , 1059.48   ]],\n",
      "\n",
      "       [[ 539.3431 , 1059.3457 ]],\n",
      "\n",
      "       [[ 578.9161 , 1058.9094 ]],\n",
      "\n",
      "       [[ 620.1843 , 1055.6217 ]],\n",
      "\n",
      "       [[ 660.31305, 1051.491  ]],\n",
      "\n",
      "       [[ 699.7015 , 1046.991  ]],\n",
      "\n",
      "       [[ 454.55026, 1104.8271 ]],\n",
      "\n",
      "       [[ 495.24646, 1108.3491 ]],\n",
      "\n",
      "       [[ 535.9815 , 1109.8635 ]],\n",
      "\n",
      "       [[ 578.01544, 1109.2577 ]],\n",
      "\n",
      "       [[ 620.5692 , 1107.476  ]],\n",
      "\n",
      "       [[ 662.3438 , 1103.9039 ]],\n",
      "\n",
      "       [[ 703.80896, 1098.4813 ]],\n",
      "\n",
      "       [[ 447.31897, 1154.6732 ]],\n",
      "\n",
      "       [[ 489.4553 , 1160.7937 ]],\n",
      "\n",
      "       [[ 532.95557, 1163.1019 ]],\n",
      "\n",
      "       [[ 576.7819 , 1162.0934 ]],\n",
      "\n",
      "       [[ 620.6256 , 1159.6229 ]],\n",
      "\n",
      "       [[ 664.5383 , 1157.4226 ]],\n",
      "\n",
      "       [[ 708.269  , 1152.9315 ]]], dtype=float32)]\n"
     ]
    },
    {
     "name": "stdout",
     "output_type": "stream",
     "text": [
      "test\n"
     ]
    }
   ],
   "source": [
    "print(objpoints)\n",
    "print(imgpoints)\n",
    "ret, mtx, dist, rvecs, tvecs = cv2.calibrateCamera(objpoints, imgpoints, gray.shape[::-1], None, None)\n",
    "print(\"test\")"
   ]
  },
  {
   "cell_type": "code",
   "execution_count": 3,
   "id": "f3df6c66",
   "metadata": {},
   "outputs": [
    {
     "name": "stdout",
     "output_type": "stream",
     "text": [
      "2.126478701401732 [[7.61683145e+02 0.00000000e+00 3.64430306e+02]\n",
      " [0.00000000e+00 1.47450538e+03 4.99326320e+02]\n",
      " [0.00000000e+00 0.00000000e+00 1.00000000e+00]] [[-0.39804011  0.25365346 -0.01566444  0.01959007 -0.08843152]] [array([[-1.17274385],\n",
      "       [ 0.3203522 ],\n",
      "       [ 0.12226432]]), array([[-0.96665044],\n",
      "       [ 0.28901403],\n",
      "       [ 0.06636005]]), array([[-0.98371124],\n",
      "       [ 0.29046123],\n",
      "       [ 0.0548821 ]]), array([[-0.97675111],\n",
      "       [ 0.27932308],\n",
      "       [ 0.06575851]]), array([[-0.92247975],\n",
      "       [ 0.22931834],\n",
      "       [ 0.12508078]]), array([[-1.0359746],\n",
      "       [ 0.2797035],\n",
      "       [ 0.0615482]]), array([[-0.95507683],\n",
      "       [ 0.2801691 ],\n",
      "       [ 0.05840397]]), array([[-0.96108734],\n",
      "       [ 0.29151065],\n",
      "       [ 0.05475243]]), array([[-0.98027546],\n",
      "       [ 0.30252537],\n",
      "       [ 0.06138349]]), array([[0.43196809],\n",
      "       [1.55028364],\n",
      "       [2.76595889]]), array([[-0.96678592],\n",
      "       [ 0.28394034],\n",
      "       [ 0.06408903]]), array([[-0.95255264],\n",
      "       [ 0.32407411],\n",
      "       [ 0.03317577]]), array([[-0.94798212],\n",
      "       [ 0.2811795 ],\n",
      "       [ 0.05970125]]), array([[-0.97970942],\n",
      "       [ 0.29037511],\n",
      "       [ 0.07006804]]), array([[-0.95815686],\n",
      "       [ 0.29758179],\n",
      "       [ 0.06660219]]), array([[-0.97284448],\n",
      "       [ 0.29279237],\n",
      "       [ 0.05864253]]), array([[-1.04267097],\n",
      "       [ 0.28073571],\n",
      "       [ 0.05988426]]), array([[-1.16983964],\n",
      "       [ 0.3169874 ],\n",
      "       [ 0.12164266]]), array([[-0.98454697],\n",
      "       [ 0.28576547],\n",
      "       [ 0.06809389]]), array([[-0.82831715],\n",
      "       [ 0.29094241],\n",
      "       [ 0.07847785]]), array([[-1.03255554],\n",
      "       [ 0.28869264],\n",
      "       [ 0.05902548]]), array([[-0.95513255],\n",
      "       [ 0.28632006],\n",
      "       [ 0.05926281]]), array([[-0.97453383],\n",
      "       [ 0.2897243 ],\n",
      "       [ 0.06590298]]), array([[-1.19182459],\n",
      "       [ 0.30889764],\n",
      "       [ 0.12305929]])] [array([[ 3.36019214],\n",
      "       [ 5.88452014],\n",
      "       [20.86939704]]), array([[ 0.10047746],\n",
      "       [ 2.79547094],\n",
      "       [16.45831245]]), array([[ 0.90664412],\n",
      "       [ 4.96449351],\n",
      "       [19.86123692]]), array([[ 0.4203792 ],\n",
      "       [ 3.47761797],\n",
      "       [16.84841505]]), array([[-0.08007867],\n",
      "       [-3.2347515 ],\n",
      "       [14.38638575]]), array([[ 1.0445088 ],\n",
      "       [ 4.79646662],\n",
      "       [20.05337272]]), array([[-0.33728115],\n",
      "       [ 2.67695888],\n",
      "       [16.00489421]]), array([[6.58510229e-03],\n",
      "       [3.15404119e+00],\n",
      "       [1.63560930e+01]]), array([[ 1.10073475],\n",
      "       [ 4.3832728 ],\n",
      "       [19.78085315]]), array([[ 5.58778437],\n",
      "       [ 6.35438063],\n",
      "       [12.37085984]]), array([[-0.07271423],\n",
      "       [ 2.78297483],\n",
      "       [16.1405097 ]]), array([[ 1.03112216],\n",
      "       [ 4.70606425],\n",
      "       [19.73795255]]), array([[-0.30347916],\n",
      "       [ 2.41826436],\n",
      "       [15.85381922]]), array([[ 0.65701249],\n",
      "       [ 3.60192709],\n",
      "       [18.36654454]]), array([[ 0.33044551],\n",
      "       [ 2.78643728],\n",
      "       [16.90028493]]), array([[ 0.45435628],\n",
      "       [ 3.67732076],\n",
      "       [16.68519536]]), array([[ 1.03120057],\n",
      "       [ 4.93171557],\n",
      "       [19.92234037]]), array([[ 3.28248891],\n",
      "       [ 5.72755674],\n",
      "       [20.86710046]]), array([[ 0.77754033],\n",
      "       [ 4.03937388],\n",
      "       [19.37143396]]), array([[ 0.27419159],\n",
      "       [-3.9626207 ],\n",
      "       [14.87143422]]), array([[ 1.08760079],\n",
      "       [ 4.48589118],\n",
      "       [19.50443824]]), array([[-0.20495296],\n",
      "       [ 2.50804418],\n",
      "       [15.90951784]]), array([[ 0.36338463],\n",
      "       [ 3.29280217],\n",
      "       [17.63513837]]), array([[ 3.19993951],\n",
      "       [ 6.39933202],\n",
      "       [20.91693054]])]\n"
     ]
    }
   ],
   "source": [
    "print(ret, mtx, dist, rvecs, tvecs)"
   ]
  },
  {
   "cell_type": "code",
   "execution_count": 7,
   "id": "0c57c75f",
   "metadata": {},
   "outputs": [],
   "source": []
  },
  {
   "cell_type": "code",
   "execution_count": 9,
   "id": "30c99cb3",
   "metadata": {},
   "outputs": [
    {
     "data": {
      "text/plain": [
       "True"
      ]
     },
     "execution_count": 9,
     "metadata": {},
     "output_type": "execute_result"
    }
   ],
   "source": [
    "img = cv2.imread('1.jpg')\n",
    "h,  w = img.shape[:2]\n",
    "newcameramtx, roi = cv2.getOptimalNewCameraMatrix(mtx, dist, (w,h), 1, (w,h))\n",
    "# undistort Example image\n",
    "dst = cv2.undistort(img, mtx, dist, None, newcameramtx)\n",
    "# crop the image\n",
    "x, y, w, h = roi\n",
    "dst = dst[y:y+h, x:x+w]\n",
    "cv2.imwrite('calibresult.png', dst)"
   ]
  },
  {
   "cell_type": "code",
   "execution_count": 15,
   "id": "d7809e7e",
   "metadata": {},
   "outputs": [
    {
     "data": {
      "application/vnd.jupyter.widget-view+json": {
       "model_id": "6a1fcd313dc649d5a0380dec158ebbd8",
       "version_major": 2,
       "version_minor": 0
      },
      "text/plain": [
       "Image(value=b'\\xff\\xd8\\xff\\xe0\\x00\\x10JFIF\\x00\\x01\\x01\\x00\\x00\\x01\\x00\\x01\\x00\\x00\\xff\\xdb\\x00C\\x00\\x02\\x01\\x0…"
      ]
     },
     "metadata": {},
     "output_type": "display_data"
    },
    {
     "data": {
      "application/vnd.jupyter.widget-view+json": {
       "model_id": "6a1fcd313dc649d5a0380dec158ebbd8",
       "version_major": 2,
       "version_minor": 0
      },
      "text/plain": [
       "Image(value=b'\\xff\\xd8\\xff\\xe0\\x00\\x10JFIF\\x00\\x01\\x01\\x00\\x00\\x01\\x00\\x01\\x00\\x00\\xff\\xdb\\x00C\\x00\\x02\\x01\\x0…"
      ]
     },
     "metadata": {},
     "output_type": "display_data"
    },
    {
     "data": {
      "application/vnd.jupyter.widget-view+json": {
       "model_id": "6a1fcd313dc649d5a0380dec158ebbd8",
       "version_major": 2,
       "version_minor": 0
      },
      "text/plain": [
       "Image(value=b'\\xff\\xd8\\xff\\xe0\\x00\\x10JFIF\\x00\\x01\\x01\\x00\\x00\\x01\\x00\\x01\\x00\\x00\\xff\\xdb\\x00C\\x00\\x02\\x01\\x0…"
      ]
     },
     "metadata": {},
     "output_type": "display_data"
    },
    {
     "data": {
      "application/vnd.jupyter.widget-view+json": {
       "model_id": "6a1fcd313dc649d5a0380dec158ebbd8",
       "version_major": 2,
       "version_minor": 0
      },
      "text/plain": [
       "Image(value=b'\\xff\\xd8\\xff\\xe0\\x00\\x10JFIF\\x00\\x01\\x01\\x00\\x00\\x01\\x00\\x01\\x00\\x00\\xff\\xdb\\x00C\\x00\\x02\\x01\\x0…"
      ]
     },
     "metadata": {},
     "output_type": "display_data"
    },
    {
     "data": {
      "application/vnd.jupyter.widget-view+json": {
       "model_id": "6a1fcd313dc649d5a0380dec158ebbd8",
       "version_major": 2,
       "version_minor": 0
      },
      "text/plain": [
       "Image(value=b'\\xff\\xd8\\xff\\xe0\\x00\\x10JFIF\\x00\\x01\\x01\\x00\\x00\\x01\\x00\\x01\\x00\\x00\\xff\\xdb\\x00C\\x00\\x02\\x01\\x0…"
      ]
     },
     "metadata": {},
     "output_type": "display_data"
    },
    {
     "data": {
      "application/vnd.jupyter.widget-view+json": {
       "model_id": "6a1fcd313dc649d5a0380dec158ebbd8",
       "version_major": 2,
       "version_minor": 0
      },
      "text/plain": [
       "Image(value=b'\\xff\\xd8\\xff\\xe0\\x00\\x10JFIF\\x00\\x01\\x01\\x00\\x00\\x01\\x00\\x01\\x00\\x00\\xff\\xdb\\x00C\\x00\\x02\\x01\\x0…"
      ]
     },
     "metadata": {},
     "output_type": "display_data"
    },
    {
     "data": {
      "application/vnd.jupyter.widget-view+json": {
       "model_id": "6a1fcd313dc649d5a0380dec158ebbd8",
       "version_major": 2,
       "version_minor": 0
      },
      "text/plain": [
       "Image(value=b'\\xff\\xd8\\xff\\xe0\\x00\\x10JFIF\\x00\\x01\\x01\\x00\\x00\\x01\\x00\\x01\\x00\\x00\\xff\\xdb\\x00C\\x00\\x02\\x01\\x0…"
      ]
     },
     "metadata": {},
     "output_type": "display_data"
    },
    {
     "data": {
      "application/vnd.jupyter.widget-view+json": {
       "model_id": "6a1fcd313dc649d5a0380dec158ebbd8",
       "version_major": 2,
       "version_minor": 0
      },
      "text/plain": [
       "Image(value=b'\\xff\\xd8\\xff\\xe0\\x00\\x10JFIF\\x00\\x01\\x01\\x00\\x00\\x01\\x00\\x01\\x00\\x00\\xff\\xdb\\x00C\\x00\\x02\\x01\\x0…"
      ]
     },
     "metadata": {},
     "output_type": "display_data"
    },
    {
     "data": {
      "application/vnd.jupyter.widget-view+json": {
       "model_id": "6a1fcd313dc649d5a0380dec158ebbd8",
       "version_major": 2,
       "version_minor": 0
      },
      "text/plain": [
       "Image(value=b'\\xff\\xd8\\xff\\xe0\\x00\\x10JFIF\\x00\\x01\\x01\\x00\\x00\\x01\\x00\\x01\\x00\\x00\\xff\\xdb\\x00C\\x00\\x02\\x01\\x0…"
      ]
     },
     "metadata": {},
     "output_type": "display_data"
    },
    {
     "data": {
      "application/vnd.jupyter.widget-view+json": {
       "model_id": "6a1fcd313dc649d5a0380dec158ebbd8",
       "version_major": 2,
       "version_minor": 0
      },
      "text/plain": [
       "Image(value=b'\\xff\\xd8\\xff\\xe0\\x00\\x10JFIF\\x00\\x01\\x01\\x00\\x00\\x01\\x00\\x01\\x00\\x00\\xff\\xdb\\x00C\\x00\\x02\\x01\\x0…"
      ]
     },
     "metadata": {},
     "output_type": "display_data"
    },
    {
     "data": {
      "application/vnd.jupyter.widget-view+json": {
       "model_id": "6a1fcd313dc649d5a0380dec158ebbd8",
       "version_major": 2,
       "version_minor": 0
      },
      "text/plain": [
       "Image(value=b'\\xff\\xd8\\xff\\xe0\\x00\\x10JFIF\\x00\\x01\\x01\\x00\\x00\\x01\\x00\\x01\\x00\\x00\\xff\\xdb\\x00C\\x00\\x02\\x01\\x0…"
      ]
     },
     "metadata": {},
     "output_type": "display_data"
    },
    {
     "data": {
      "application/vnd.jupyter.widget-view+json": {
       "model_id": "6a1fcd313dc649d5a0380dec158ebbd8",
       "version_major": 2,
       "version_minor": 0
      },
      "text/plain": [
       "Image(value=b'\\xff\\xd8\\xff\\xe0\\x00\\x10JFIF\\x00\\x01\\x01\\x00\\x00\\x01\\x00\\x01\\x00\\x00\\xff\\xdb\\x00C\\x00\\x02\\x01\\x0…"
      ]
     },
     "metadata": {},
     "output_type": "display_data"
    },
    {
     "data": {
      "application/vnd.jupyter.widget-view+json": {
       "model_id": "6a1fcd313dc649d5a0380dec158ebbd8",
       "version_major": 2,
       "version_minor": 0
      },
      "text/plain": [
       "Image(value=b'\\xff\\xd8\\xff\\xe0\\x00\\x10JFIF\\x00\\x01\\x01\\x00\\x00\\x01\\x00\\x01\\x00\\x00\\xff\\xdb\\x00C\\x00\\x02\\x01\\x0…"
      ]
     },
     "metadata": {},
     "output_type": "display_data"
    },
    {
     "data": {
      "application/vnd.jupyter.widget-view+json": {
       "model_id": "6a1fcd313dc649d5a0380dec158ebbd8",
       "version_major": 2,
       "version_minor": 0
      },
      "text/plain": [
       "Image(value=b'\\xff\\xd8\\xff\\xe0\\x00\\x10JFIF\\x00\\x01\\x01\\x00\\x00\\x01\\x00\\x01\\x00\\x00\\xff\\xdb\\x00C\\x00\\x02\\x01\\x0…"
      ]
     },
     "metadata": {},
     "output_type": "display_data"
    },
    {
     "data": {
      "application/vnd.jupyter.widget-view+json": {
       "model_id": "6a1fcd313dc649d5a0380dec158ebbd8",
       "version_major": 2,
       "version_minor": 0
      },
      "text/plain": [
       "Image(value=b'\\xff\\xd8\\xff\\xe0\\x00\\x10JFIF\\x00\\x01\\x01\\x00\\x00\\x01\\x00\\x01\\x00\\x00\\xff\\xdb\\x00C\\x00\\x02\\x01\\x0…"
      ]
     },
     "metadata": {},
     "output_type": "display_data"
    },
    {
     "data": {
      "application/vnd.jupyter.widget-view+json": {
       "model_id": "6a1fcd313dc649d5a0380dec158ebbd8",
       "version_major": 2,
       "version_minor": 0
      },
      "text/plain": [
       "Image(value=b'\\xff\\xd8\\xff\\xe0\\x00\\x10JFIF\\x00\\x01\\x01\\x00\\x00\\x01\\x00\\x01\\x00\\x00\\xff\\xdb\\x00C\\x00\\x02\\x01\\x0…"
      ]
     },
     "metadata": {},
     "output_type": "display_data"
    },
    {
     "data": {
      "application/vnd.jupyter.widget-view+json": {
       "model_id": "6a1fcd313dc649d5a0380dec158ebbd8",
       "version_major": 2,
       "version_minor": 0
      },
      "text/plain": [
       "Image(value=b'\\xff\\xd8\\xff\\xe0\\x00\\x10JFIF\\x00\\x01\\x01\\x00\\x00\\x01\\x00\\x01\\x00\\x00\\xff\\xdb\\x00C\\x00\\x02\\x01\\x0…"
      ]
     },
     "metadata": {},
     "output_type": "display_data"
    },
    {
     "data": {
      "application/vnd.jupyter.widget-view+json": {
       "model_id": "6a1fcd313dc649d5a0380dec158ebbd8",
       "version_major": 2,
       "version_minor": 0
      },
      "text/plain": [
       "Image(value=b'\\xff\\xd8\\xff\\xe0\\x00\\x10JFIF\\x00\\x01\\x01\\x00\\x00\\x01\\x00\\x01\\x00\\x00\\xff\\xdb\\x00C\\x00\\x02\\x01\\x0…"
      ]
     },
     "metadata": {},
     "output_type": "display_data"
    },
    {
     "data": {
      "application/vnd.jupyter.widget-view+json": {
       "model_id": "6a1fcd313dc649d5a0380dec158ebbd8",
       "version_major": 2,
       "version_minor": 0
      },
      "text/plain": [
       "Image(value=b'\\xff\\xd8\\xff\\xe0\\x00\\x10JFIF\\x00\\x01\\x01\\x00\\x00\\x01\\x00\\x01\\x00\\x00\\xff\\xdb\\x00C\\x00\\x02\\x01\\x0…"
      ]
     },
     "metadata": {},
     "output_type": "display_data"
    },
    {
     "data": {
      "application/vnd.jupyter.widget-view+json": {
       "model_id": "6a1fcd313dc649d5a0380dec158ebbd8",
       "version_major": 2,
       "version_minor": 0
      },
      "text/plain": [
       "Image(value=b'\\xff\\xd8\\xff\\xe0\\x00\\x10JFIF\\x00\\x01\\x01\\x00\\x00\\x01\\x00\\x01\\x00\\x00\\xff\\xdb\\x00C\\x00\\x02\\x01\\x0…"
      ]
     },
     "metadata": {},
     "output_type": "display_data"
    }
   ],
   "source": [
    "#DRIVING UNDISTORTED\n",
    "result = cv2.VideoWriter(\"test8.avi\", 0, 10, size)\n",
    "frame = camera.read()\n",
    "h,  w = img.shape[:2]\n",
    "newcameramtx, roi = cv2.getOptimalNewCameraMatrix(mtx, dist, (w,h), 1, (w,h))\n",
    "\n",
    "i = 0\n",
    "car.steering = 0.8\n",
    "car.steering = -0.8\n",
    "car.steering = 0\n",
    "car.throttle=-0.4\n",
    "while True:\n",
    "    frame = camera.read()\n",
    "    # undistort Example image\n",
    "    dst = cv2.undistort(frame, mtx, dist, None, newcameramtx)\n",
    "    # crop the image\n",
    "    x, y, w, h = roi\n",
    "    dst = dst[y:y+h, x:x+w]\n",
    "    \n",
    "    image_widget.value = bgr8_to_jpeg(dst)\n",
    "    display(image_widget)\n",
    "    \n",
    "    result.write(frame)  \n",
    "    i+=1\n",
    "    if i == 20:\n",
    "        break\n",
    "car.throttle=0\n",
    "result.release()\n",
    "cv2.destroyAllWindows()"
   ]
  },
  {
   "cell_type": "code",
   "execution_count": null,
   "id": "516508e7",
   "metadata": {},
   "outputs": [],
   "source": []
  }
 ],
 "metadata": {
  "kernelspec": {
   "display_name": "Python 3",
   "language": "python",
   "name": "python3"
  },
  "language_info": {
   "codemirror_mode": {
    "name": "ipython",
    "version": 3
   },
   "file_extension": ".py",
   "mimetype": "text/x-python",
   "name": "python",
   "nbconvert_exporter": "python",
   "pygments_lexer": "ipython3",
   "version": "3.6.9"
  }
 },
 "nbformat": 4,
 "nbformat_minor": 5
}
