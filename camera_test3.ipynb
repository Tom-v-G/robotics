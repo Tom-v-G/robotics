{
 "cells": [
  {
   "cell_type": "code",
   "execution_count": 1,
   "metadata": {
    "ExecuteTime": {
     "end_time": "2023-04-30T21:05:32.243236Z",
     "start_time": "2023-04-30T21:05:30.078642Z"
    },
    "collapsed": true
   },
   "outputs": [
    {
     "name": "stdout",
     "output_type": "stream",
     "text": [
      "camera_connected\n",
      "image widget initialized\n"
     ]
    }
   ],
   "source": [
    "from jetcam.csi_camera import CSICamera\n",
    "# from jetracer.nvidia_racecar import NvidiaRacecar\n",
    "\n",
    "import numpy as np\n",
    "import cv2\n",
    "import ipywidgets\n",
    "from IPython.display import display\n",
    "from jetcam.utils import bgr8_to_jpeg\n",
    "\n",
    "camera = CSICamera(width=300, height=300)\n",
    "print(\"camera_connected\")\n",
    "\n",
    "# car = NvidiaRacecar()\n",
    "# print(\"car connected\")\n",
    "\n",
    "image_widget = ipywidgets.Image(format='jpeg')\n",
    "print(\"image widget initialized\")"
   ]
  },
  {
   "cell_type": "code",
   "execution_count": null,
   "metadata": {
    "ExecuteTime": {
     "end_time": "2023-04-30T20:02:48.576693Z",
     "start_time": "2023-04-30T20:02:48.530804Z"
    },
    "collapsed": false
   },
   "outputs": [],
   "source": []
  },
  {
   "cell_type": "code",
   "execution_count": null,
   "metadata": {
    "collapsed": false
   },
   "outputs": [],
   "source": [
    "import numpy as np\n",
    "import cv2\n",
    "camera.running = False\n",
    "display(image_widget)\n",
    "\n",
    "objp = np.zeros((7 * 7, 3), np.float32)\n",
    "objp[:, :2] = np.mgrid[0:7, 0:7].T.reshape(-1, 2)\n",
    "# termination criteria\n",
    "criteria = (cv2.TERM_CRITERIA_EPS + cv2.TERM_CRITERIA_MAX_ITER, 30, 0.001)\n",
    "# Arrays to store object points and image points from all the images.\n",
    "imgpoints = []  # 2d points in image plane.\n",
    "objpoints = []\n",
    "done = False\n",
    "while not done:\n",
    "    img = camera.read()\n",
    "    gray = cv2.cvtColor(img, cv2.COLOR_BGR2GRAY)\n",
    "    ret = False\n",
    "    # Find the chess board corners\n",
    "    ret, corners = cv2.findChessboardCorners(gray, (7, 7))\n",
    "    # If found, add object points, image points (after refining them)\n",
    "    if ret == True:\n",
    "        cv2.cornerSubPix(gray, corners, (11, 11), (-1, -1), criteria)\n",
    "        imgpoints.append(corners)\n",
    "        objpoints.append(objp)\n",
    "        # Draw and display the corners\n",
    "        cv2.drawChessboardCorners(img, (7, 7), corners, ret)\n",
    "        print(len(imgpoints))\n",
    "    if len(imgpoints) > 50:\n",
    "        done = True\n",
    "    update_image_widget(img)\n",
    "print(\"done collecting\")\n",
    "ret, mtx, dist, rvecs, tvecs = cv2.calibrateCamera(objpoints, imgpoints, gray.shape[::-1], None, None)\n",
    "from tempfile import TemporaryFile\n",
    "outfile = TemporaryFile()\n",
    "np.savez(\"camera_matrix_dist.npz\",mtx,dist)\n",
    "print(\"done calibrating\")\n",
    "while True:\n",
    "    img = camera.read()\n",
    "    h,  w = img.shape[:2]\n",
    "    newcameramtx, roi = cv2.getOptimalNewCameraMatrix(mtx, dist, (w,h), 0, (w,h))\n",
    "\n",
    "    dst = cv2.undistort(img, mtx, dist, None, newcameramtx)\n",
    "    # x, y, w, h = roi\n",
    "    # dst = dst[y:y+h, x:x+w]\n",
    "    update_image_widget(dst)\n"
   ]
  },
  {
   "cell_type": "code",
   "execution_count": 6,
   "metadata": {
    "ExecuteTime": {
     "end_time": "2023-04-30T20:39:53.675403Z",
     "start_time": "2023-04-30T20:39:53.628563Z"
    },
    "collapsed": false
   },
   "outputs": [],
   "source": [
    "h,  w = (300,300)\n",
    "loaded_arrays = np.load('camera_matrix_dist.npz')\n",
    "mtx = loaded_arrays[\"arr_0\"]\n",
    "dist = loaded_arrays[\"arr_1\"]\n",
    "newcameramtx, roi = cv2.getOptimalNewCameraMatrix(mtx, dist, (w,h), 0, (w,h))\n",
    "\n",
    "\n",
    "\n",
    "def update_image_widget(change):\n",
    "    frame = change['new']\n",
    "    frame = undistort_frame(frame)\n",
    "    frame = perspective_shift(frame)\n",
    "    # frame = change\n",
    "    tl, bl, tr, br = get_corners()\n",
    "    cv2.circle(frame, tl, 5, (0, 0, 255), -1)\n",
    "    cv2.circle(frame, bl, 5, (0, 0, 255), -1)\n",
    "    cv2.circle(frame, tr, 5, (0, 0, 255), -1)\n",
    "    cv2.circle(frame, br, 5, (0, 0, 255), -1)\n",
    "    image_widget.value = bgr8_to_jpeg(frame)"
   ]
  },
  {
   "cell_type": "code",
   "execution_count": 8,
   "metadata": {
    "ExecuteTime": {
     "end_time": "2023-04-30T20:40:13.723489Z",
     "start_time": "2023-04-30T20:40:13.632402Z"
    },
    "collapsed": false
   },
   "outputs": [],
   "source": [
    "def undistort_frame(frame):\n",
    "    # frame = cv2.undistort(frame, mtx, dist, None, newcameramtx)\n",
    "    return frame"
   ]
  },
  {
   "cell_type": "code",
   "execution_count": 4,
   "metadata": {
    "ExecuteTime": {
     "end_time": "2023-04-30T20:39:49.502810Z",
     "start_time": "2023-04-30T20:39:49.467249Z"
    },
    "collapsed": false
   },
   "outputs": [],
   "source": [
    "\n",
    "def get_corners():\n",
    "    tl = (85, 50)\n",
    "    bl = (0, 300)\n",
    "    tr = (215, 50)\n",
    "    br = (300, 300)\n",
    "    return tl, bl, tr, br"
   ]
  },
  {
   "cell_type": "code",
   "execution_count": 5,
   "metadata": {
    "ExecuteTime": {
     "end_time": "2023-04-30T20:39:50.874214Z",
     "start_time": "2023-04-30T20:39:50.828868Z"
    },
    "collapsed": false
   },
   "outputs": [],
   "source": [
    "tl, bl, tr, br = get_corners()\n",
    "pts1 = np.float32([tl, bl, tr, br])\n",
    "pts2 = np.float32([[0, 0], [0, 300], [300, 0], [300, 300]])\n",
    "matrix = cv2.getPerspectiveTransform(pts1, pts2)\n",
    "def perspective_shift(frame):\n",
    "    frame = cv2.warpPerspective(frame, matrix, (300, 300))\n",
    "    return frame"
   ]
  },
  {
   "cell_type": "code",
   "execution_count": 7,
   "metadata": {
    "ExecuteTime": {
     "end_time": "2023-04-30T20:39:56.128765Z",
     "start_time": "2023-04-30T20:39:56.095447Z"
    },
    "collapsed": false
   },
   "outputs": [
    {
     "data": {
      "application/vnd.jupyter.widget-view+json": {
       "model_id": "344e87c9ca3e47d290cd7c237d2cafa6",
       "version_major": 2,
       "version_minor": 0
      },
      "text/plain": [
       "Image(value=b'', format='jpeg')"
      ]
     },
     "metadata": {},
     "output_type": "display_data"
    }
   ],
   "source": [
    "display(image_widget)\n",
    "camera.running = True\n",
    "camera.observe(update_image_widget, names='value')"
   ]
  },
  {
   "cell_type": "code",
   "execution_count": null,
   "metadata": {
    "ExecuteTime": {
     "end_time": "2023-04-30T20:13:37.574326Z",
     "start_time": "2023-04-30T20:13:37.574326Z"
    },
    "collapsed": false
   },
   "outputs": [],
   "source": [
    "camera.unobserve(update_image_widget, names='value')"
   ]
  },
  {
   "cell_type": "code",
   "execution_count": null,
   "metadata": {
    "ExecuteTime": {
     "end_time": "2023-04-30T20:11:50.936597Z",
     "start_time": "2023-04-30T20:11:50.882809Z"
    },
    "collapsed": false
   },
   "outputs": [],
   "source": [
    "loaded_arrays = np.load('camera_matrix_dist.npz')\n",
    "mtx = loaded_arrays[\"arr_0\"]\n",
    "dist = loaded_arrays[\"arr_1\"]\n",
    "newcameramtx, roi = cv2.getOptimalNewCameraMatrix(mtx, dist, (w,h), 0, (w,h))\n"
   ]
  }
 ],
 "metadata": {
  "kernelspec": {
   "display_name": "Python 3",
   "language": "python",
   "name": "python3"
  },
  "language_info": {
   "codemirror_mode": {
    "name": "ipython",
    "version": 2
   },
   "file_extension": ".py",
   "mimetype": "text/x-python",
   "name": "python",
   "nbconvert_exporter": "python",
   "pygments_lexer": "ipython2",
   "version": "2.7.6"
  }
 },
 "nbformat": 4,
 "nbformat_minor": 0
}
