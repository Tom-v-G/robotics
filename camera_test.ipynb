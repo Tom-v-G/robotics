{
 "cells": [
  {
   "cell_type": "code",
   "execution_count": null,
   "metadata": {
    "ExecuteTime": {
     "end_time": "2023-04-30T14:37:47.949672Z",
     "start_time": "2023-04-30T14:37:45.486220Z"
    }
   },
   "outputs": [],
   "source": [
    "from jetcam.jetcam.csi_camera import CSICamera\n",
    "\n",
    "import numpy as np\n",
    "import cv2\n",
    "import ipywidgets\n",
    "from IPython.display import display\n",
    "from jetcam.utils import bgr8_to_jpeg\n",
    "\n",
    "image_widget = ipywidgets.Image(format='jpeg')\n",
    "camera = CSICamera(width=300, height=300)"
   ]
  },
  {
   "cell_type": "code",
   "execution_count": 2,
   "metadata": {
    "ExecuteTime": {
     "end_time": "2023-04-30T14:37:53.541747Z",
     "start_time": "2023-04-30T14:37:53.480728Z"
    },
    "collapsed": false,
    "jupyter": {
     "outputs_hidden": false
    }
   },
   "outputs": [],
   "source": [
    "def get_maxcontour(contours):\n",
    "    max_area = 0.0\n",
    "    max_contour = []\n",
    "    for contour in contours:\n",
    "        # x,y,w,h = cv2.boundingRect(contour)\n",
    "        # cv2.rectangle(image, (x,y), (x+w,y+h), (255, 0, 0), 2)\n",
    "        #         print(max(max_area,cv2.contourArea(contour)))\n",
    "        if max_area != max(max_area,cv2.contourArea(contour)):\n",
    "            max_contour = contour\n",
    "            max_area =cv2.contourArea(contour)\n",
    "\n",
    "    return max_contour"
   ]
  },
  {
   "cell_type": "code",
   "execution_count": 1,
   "metadata": {
    "ExecuteTime": {
     "end_time": "2023-04-30T14:37:55.363400Z",
     "start_time": "2023-04-30T14:37:55.219320Z"
    },
    "collapsed": false,
    "jupyter": {
     "outputs_hidden": false
    }
   },
   "outputs": [
    {
     "ename": "NameError",
     "evalue": "name 'np' is not defined",
     "output_type": "error",
     "traceback": [
      "\u001b[0;31m---------------------------------------------------------------------------\u001b[0m",
      "\u001b[0;31mNameError\u001b[0m                                 Traceback (most recent call last)",
      "\u001b[0;32m<ipython-input-1-72cdb56cb8dd>\u001b[0m in \u001b[0;36m<module>\u001b[0;34m\u001b[0m\n\u001b[1;32m      4\u001b[0m \u001b[0mbr\u001b[0m \u001b[0;34m=\u001b[0m \u001b[0;34m(\u001b[0m\u001b[0;36m300\u001b[0m\u001b[0;34m,\u001b[0m \u001b[0;36m300\u001b[0m\u001b[0;34m)\u001b[0m\u001b[0;34m\u001b[0m\u001b[0;34m\u001b[0m\u001b[0m\n\u001b[1;32m      5\u001b[0m \u001b[0;34m\u001b[0m\u001b[0m\n\u001b[0;32m----> 6\u001b[0;31m \u001b[0mpts1\u001b[0m \u001b[0;34m=\u001b[0m \u001b[0mnp\u001b[0m\u001b[0;34m.\u001b[0m\u001b[0mfloat32\u001b[0m\u001b[0;34m(\u001b[0m\u001b[0;34m[\u001b[0m\u001b[0mtl\u001b[0m\u001b[0;34m,\u001b[0m \u001b[0mbl\u001b[0m\u001b[0;34m,\u001b[0m \u001b[0mtr\u001b[0m\u001b[0;34m,\u001b[0m \u001b[0mbr\u001b[0m\u001b[0;34m]\u001b[0m\u001b[0;34m)\u001b[0m\u001b[0;34m\u001b[0m\u001b[0;34m\u001b[0m\u001b[0m\n\u001b[0m\u001b[1;32m      7\u001b[0m \u001b[0mpts2\u001b[0m \u001b[0;34m=\u001b[0m \u001b[0mnp\u001b[0m\u001b[0;34m.\u001b[0m\u001b[0mfloat32\u001b[0m\u001b[0;34m(\u001b[0m\u001b[0;34m[\u001b[0m\u001b[0;34m[\u001b[0m\u001b[0;36m0\u001b[0m\u001b[0;34m,\u001b[0m\u001b[0;36m0\u001b[0m\u001b[0;34m]\u001b[0m\u001b[0;34m,\u001b[0m \u001b[0;34m[\u001b[0m\u001b[0;36m0\u001b[0m\u001b[0;34m,\u001b[0m\u001b[0;36m300\u001b[0m\u001b[0;34m]\u001b[0m\u001b[0;34m,\u001b[0m \u001b[0;34m[\u001b[0m\u001b[0;36m300\u001b[0m\u001b[0;34m,\u001b[0m\u001b[0;36m0\u001b[0m\u001b[0;34m]\u001b[0m\u001b[0;34m,\u001b[0m \u001b[0;34m[\u001b[0m\u001b[0;36m300\u001b[0m\u001b[0;34m,\u001b[0m\u001b[0;36m300\u001b[0m\u001b[0;34m]\u001b[0m \u001b[0;34m]\u001b[0m\u001b[0;34m)\u001b[0m\u001b[0;34m\u001b[0m\u001b[0;34m\u001b[0m\u001b[0m\n\u001b[1;32m      8\u001b[0m \u001b[0;34m\u001b[0m\u001b[0m\n",
      "\u001b[0;31mNameError\u001b[0m: name 'np' is not defined"
     ]
    }
   ],
   "source": [
    "tl = (100, 50)\n",
    "bl = (0, 300)\n",
    "tr = (200, 50)\n",
    "br = (300, 300)\n",
    "\n",
    "pts1 = np.float32([tl, bl, tr, br])\n",
    "pts2 = np.float32([[0,0], [0,300], [300,0], [300,300] ])\n",
    "\n",
    "matrix = cv2.getPerspectiveTransform(pts1, pts2)\n",
    "camera.running = False\n",
    "calib_image=camera.read()\n",
    "calib_image = cv2.cvtColor(calib_image, cv2.COLOR_BGR2HSV)\n",
    "avg_background = cv2.mean(calib_image)[:3]\n",
    "range = 10\n",
    "offset = np.ones_like(avg_background)*range\n",
    "\n",
    "kernel = np.ones((3,3),np.uint8)\n",
    "\n",
    "print(avg_background-offset,avg_background+offset)\n",
    "\n",
    "\n",
    "def update_image(change):\n",
    "    image = change['new']\n",
    "    # image = cv2.cvtColor(image, cv2.COLOR_BGR2GRAY)\n",
    "    image = cv2.warpPerspective(image, matrix, (300, 300))\n",
    "    mask = cv2.inRange(image,(avg_background[0]-40,0,avg_background[2]-50),(avg_background[0]+40,255,avg_background[2]+50))\n",
    "    mask = cv2.bitwise_not(mask)\n",
    "    masked = cv2.bitwise_and(image, image, mask=mask)\n",
    "    gray = cv2.cvtColor(masked, cv2.COLOR_HSV2BGR)\n",
    "    gray = cv2.cvtColor(gray, cv2.COLOR_BGR2GRAY)\n",
    "    _,thresh = cv2.threshold(gray,100,255,cv2.THRESH_BINARY)\n",
    "\n",
    "    dilate = cv2.dilate(thresh, kernel, iterations = 10)\n",
    "    erosion = cv2.erode(dilate,kernel,iterations = 10)\n",
    "    contours, hierarchy = cv2.findContours(erosion, cv2.RETR_TREE, cv2.CHAIN_APPROX_NONE)\n",
    "\n",
    "    max_contour = get_maxcontour(contours)\n",
    "    x,y,w,h = cv2.boundingRect(max_contour)\n",
    "    cv2.drawContours(image, [max_contour], -1, (0,255,0), 3)\n",
    "    cv2.rectangle(image, (x,y), (x+w,y+h), (255, 0, 0), 2)\n",
    "\n",
    "    image_widget.value = bgr8_to_jpeg(image)"
   ]
  },
  {
   "cell_type": "code",
   "execution_count": 4,
   "metadata": {
    "ExecuteTime": {
     "end_time": "2023-04-30T14:38:00.206696Z",
     "start_time": "2023-04-30T14:38:00.130683Z"
    },
    "collapsed": false,
    "jupyter": {
     "outputs_hidden": false
    }
   },
   "outputs": [
    {
     "data": {
      "application/vnd.jupyter.widget-view+json": {
       "model_id": "25e292faccd04dd5ab7d9cab8ed49483",
       "version_major": 2,
       "version_minor": 0
      },
      "text/plain": [
       "Image(value=b'', format='jpeg')"
      ]
     },
     "metadata": {},
     "output_type": "display_data"
    }
   ],
   "source": [
    "display(image_widget)\n",
    "#\n",
    "camera.running = True\n",
    "camera.observe(update_image, names='value')"
   ]
  },
  {
   "cell_type": "code",
   "execution_count": 5,
   "metadata": {
    "ExecuteTime": {
     "end_time": "2023-04-30T14:38:16.485337Z",
     "start_time": "2023-04-30T14:38:16.420340Z"
    },
    "collapsed": false,
    "jupyter": {
     "outputs_hidden": false
    }
   },
   "outputs": [],
   "source": [
    "camera.unobserve(update_image, names='value')"
   ]
  },
  {
   "cell_type": "code",
   "execution_count": 5,
   "metadata": {
    "ExecuteTime": {
     "end_time": "2023-04-29T13:45:53.943242Z",
     "start_time": "2023-04-29T13:45:53.914181Z"
    },
    "collapsed": false,
    "jupyter": {
     "outputs_hidden": false
    }
   },
   "outputs": [],
   "source": []
  },
  {
   "cell_type": "markdown",
   "metadata": {},
   "source": []
  }
 ],
 "metadata": {
  "kernelspec": {
   "display_name": "Python 3",
   "language": "python",
   "name": "python3"
  },
  "language_info": {
   "codemirror_mode": {
    "name": "ipython",
    "version": 3
   },
   "file_extension": ".py",
   "mimetype": "text/x-python",
   "name": "python",
   "nbconvert_exporter": "python",
   "pygments_lexer": "ipython3",
   "version": "3.6.9"
  }
 },
 "nbformat": 4,
 "nbformat_minor": 4
}
