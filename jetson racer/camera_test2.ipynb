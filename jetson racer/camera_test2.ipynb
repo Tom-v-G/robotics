{
 "cells": [
  {
   "cell_type": "code",
   "execution_count": null,
   "metadata": {
    "ExecuteTime": {
     "end_time": "2023-04-30T21:05:54.147272Z",
     "start_time": "2023-04-30T21:05:51.998288Z"
    }
   },
   "outputs": [],
   "source": [
    "from jetcam.csi_camera import CSICamera\n",
    "\n",
    "import numpy as np\n",
    "import cv2\n",
    "import ipywidgets\n",
    "from IPython.display import display\n",
    "from jetcam.utils import bgr8_to_jpeg\n",
    "\n",
    "image_widget = ipywidgets.Image(format='jpeg')\n",
    "camera = CSICamera(width=300, height=300)\n",
    "print(\"camera_connected\")"
   ]
  },
  {
   "cell_type": "code",
   "execution_count": 2,
   "metadata": {
    "ExecuteTime": {
     "end_time": "2023-04-30T17:51:51.185496Z",
     "start_time": "2023-04-30T17:51:30.409458Z"
    },
    "collapsed": false,
    "jupyter": {
     "outputs_hidden": false
    }
   },
   "outputs": [],
   "source": [
    "from jetracer.nvidia_racecar import NvidiaRacecar\n",
    "car = NvidiaRacecar()"
   ]
  },
  {
   "cell_type": "code",
   "execution_count": 3,
   "metadata": {
    "ExecuteTime": {
     "end_time": "2023-04-30T17:51:51.238247Z",
     "start_time": "2023-04-30T17:51:51.215812Z"
    },
    "collapsed": false,
    "jupyter": {
     "outputs_hidden": false
    }
   },
   "outputs": [],
   "source": [
    "# backSub = cv2.createBackgroundSubtractorMOG2()\n",
    "backSub = cv2.createBackgroundSubtractorKNN()\n",
    "def complex_background_subtraction(image):\n",
    "    image = backSub.apply(image)\n",
    "    return image"
   ]
  },
  {
   "cell_type": "code",
   "execution_count": 2,
   "metadata": {
    "ExecuteTime": {
     "end_time": "2023-04-30T21:05:57.864306Z",
     "start_time": "2023-04-30T21:05:57.759302Z"
    },
    "collapsed": false,
    "jupyter": {
     "outputs_hidden": false
    }
   },
   "outputs": [],
   "source": [
    "kernel = np.ones((3, 3), np.uint8)\n",
    "def basic_background_subtraction(image):\n",
    "    image = cv2.blur(image, (10, 10))\n",
    "    hsv = cv2.cvtColor(image, cv2.COLOR_BGR2HSV)\n",
    "    lower = np.array([0, 0, 50])\n",
    "    upper = np.array([255, 75, 180])\n",
    "    mask = cv2.inRange(hsv, lower, upper)\n",
    "    mask = cv2.erode(mask, kernel, iterations=10)\n",
    "    mask = cv2.dilate(mask, kernel, iterations=10)\n",
    "    mask = cv2.bitwise_not(mask)\n",
    "    return mask"
   ]
  },
  {
   "cell_type": "code",
   "execution_count": 3,
   "metadata": {
    "ExecuteTime": {
     "end_time": "2023-04-30T21:06:03.887904Z",
     "start_time": "2023-04-30T21:06:03.795901Z"
    },
    "collapsed": false,
    "jupyter": {
     "outputs_hidden": false
    }
   },
   "outputs": [],
   "source": [
    "def background_filter(image):\n",
    "    # mask = complex_background_subtraction(image)\n",
    "    mask = basic_background_subtraction(image)\n",
    "    return mask"
   ]
  },
  {
   "cell_type": "code",
   "execution_count": 4,
   "metadata": {
    "ExecuteTime": {
     "end_time": "2023-04-30T21:06:06.937741Z",
     "start_time": "2023-04-30T21:06:06.936741Z"
    },
    "collapsed": false,
    "jupyter": {
     "outputs_hidden": false
    }
   },
   "outputs": [],
   "source": [
    "def get_contours(image, threshold=0):\n",
    "    gray = cv2.cvtColor(image, cv2.COLOR_BGR2GRAY)\n",
    "    _, thresh = cv2.threshold(gray, threshold, 255, cv2.THRESH_BINARY)\n",
    "    contours, hierarchy = cv2.findContours(thresh, cv2.RETR_TREE, cv2.CHAIN_APPROX_NONE)\n",
    "    return contours"
   ]
  },
  {
   "cell_type": "code",
   "execution_count": 5,
   "metadata": {
    "ExecuteTime": {
     "end_time": "2023-04-30T21:06:09.398603Z",
     "start_time": "2023-04-30T21:06:09.324567Z"
    },
    "collapsed": false,
    "jupyter": {
     "outputs_hidden": false
    }
   },
   "outputs": [],
   "source": [
    "kernel = np.ones((3, 3), np.uint8)\n",
    "\n",
    "\n",
    "def pre_processing(image):\n",
    "    image = cv2.blur(image, (10, 10))\n",
    "    hsv = cv2.cvtColor(image, cv2.COLOR_BGR2HSV)\n",
    "\n",
    "    lower = np.array([0, 0, 50])\n",
    "    upper = np.array([255, 75, 180])\n",
    "    mask = cv2.inRange(hsv, lower, upper)\n",
    "    mask = cv2.erode(mask, kernel, iterations=10)\n",
    "    mask = cv2.dilate(mask, kernel, iterations=10)\n",
    "    # mask = cv2.erode(mask,kernel,iterations = 10)\n",
    "    mask = cv2.bitwise_not(mask)\n",
    "    image = cv2.bitwise_and(image, image, mask=mask)\n",
    "    gray = cv2.cvtColor(image, cv2.COLOR_BGR2GRAY)\n",
    "    _, thresh = cv2.threshold(gray, 0, 255, cv2.THRESH_BINARY)\n",
    "    # thresh = cv2.erode(thresh,kernel,iterations = 30)\n",
    "    # thresh = cv2.dilate(thresh, kernel, iterations = 30)\n",
    "    contours, hierarchy = cv2.findContours(thresh, cv2.RETR_TREE, cv2.CHAIN_APPROX_NONE)\n",
    "\n",
    "    for contour in contours:\n",
    "        if cv2.contourArea(contour) > 5000:\n",
    "            cv2.drawContours(image, [contour], -1, (0, 255, 0), 3)\n",
    "\n",
    "    return image"
   ]
  },
  {
   "cell_type": "code",
   "execution_count": 6,
   "metadata": {
    "ExecuteTime": {
     "end_time": "2023-04-30T21:06:13.700236Z",
     "start_time": "2023-04-30T21:06:13.630340Z"
    },
    "collapsed": false,
    "jupyter": {
     "outputs_hidden": false
    }
   },
   "outputs": [],
   "source": [
    "font = cv2.FONT_HERSHEY_SIMPLEX\n",
    "org = (50, 50)\n",
    "fontScale = 0.5\n",
    "color = (255, 0, 0)\n",
    "thickness = 2\n",
    "\n",
    "\n",
    "def create_object_marker(image, area, x, y, w, h):\n",
    "    cv2.rectangle(image, (x, y), (x + w, y + h), (255, 0, 0), 2)\n",
    "    cv2.putText(image, f\"bottom: {h + y}\", (x + 5, y + 15), font, fontScale, color, thickness, cv2.LINE_AA)\n",
    "    cv2.putText(image, f\"center: {x + int(w / 2)}\", (x + 5, y + 30), font, fontScale, color, thickness, cv2.LINE_AA)\n",
    "    cv2.putText(image, f\"area: {area}\", (x + 5, y + 45), font, fontScale, color, thickness, cv2.LINE_AA)\n",
    "    cv2.circle(image, (x + int(w / 2), h + y), 5, (0, 0, 255), -1)\n",
    "    return image\n"
   ]
  },
  {
   "cell_type": "code",
   "execution_count": 7,
   "metadata": {
    "ExecuteTime": {
     "end_time": "2023-04-30T21:06:20.147759Z",
     "start_time": "2023-04-30T21:06:20.076759Z"
    },
    "collapsed": false,
    "jupyter": {
     "outputs_hidden": false
    }
   },
   "outputs": [],
   "source": [
    "tl = (100, 50)\n",
    "bl = (0, 300)\n",
    "tr = (200, 50)\n",
    "br = (300, 300)\n",
    "\n",
    "pts1 = np.float32([tl, bl, tr, br])\n",
    "pts2 = np.float32([[0, 0], [0, 300], [300, 0], [300, 300]])\n",
    "matrix = cv2.getPerspectiveTransform(pts1, pts2)\n",
    "\n",
    "\n",
    "def update_image(change):\n",
    "    image = change['new']\n",
    "    image = cv2.warpPerspective(image, matrix, (300, 300))\n",
    "    # image = pre_processing(image)\n",
    "    mask = background_filter(image)\n",
    "    masked_image = cv2.bitwise_and(image, image, mask=mask)\n",
    "    contours = get_contours(masked_image)\n",
    "\n",
    "    for contour in contours:\n",
    "        area = cv2.contourArea(contour)\n",
    "        if area > 6000:\n",
    "            cv2.drawContours(image, [contour], -1, (0, 255, 0), 3)\n",
    "            x, y, w, h = cv2.boundingRect(contour)\n",
    "            image = create_object_marker(image, area, x, y, w, h)\n",
    "\n",
    "    # masked_img = cv2.bitwise_and(image, image, mask=mask)\n",
    "    # contours = detect_objects(image)\n",
    "    # if len(contours) > 0:\n",
    "    #     cv2.drawContours(image, contours, -1, (0, 255, 0), 3)\n",
    "    # gray = cv2.cvtColor(masked_img, cv2.COLOR_BGR2GRAY)\n",
    "    # _,gray = cv2.threshold(gray, 150, 255, cv2.THRESH_BINARY)\n",
    "    image_widget.value = bgr8_to_jpeg(image)"
   ]
  },
  {
   "cell_type": "code",
   "execution_count": 9,
   "metadata": {
    "ExecuteTime": {
     "end_time": "2023-04-30T17:27:57.977365Z",
     "start_time": "2023-04-30T17:27:57.948368Z"
    },
    "collapsed": false,
    "jupyter": {
     "outputs_hidden": false
    }
   },
   "outputs": [
    {
     "ename": "NameError",
     "evalue": "name 'update_image' is not defined",
     "output_type": "error",
     "traceback": [
      "\u001b[0;31m---------------------------------------------------------------------------\u001b[0m",
      "\u001b[0;31mNameError\u001b[0m                                 Traceback (most recent call last)",
      "\u001b[0;32m<ipython-input-9-06435d66a1a6>\u001b[0m in \u001b[0;36m<module>\u001b[0;34m\u001b[0m\n\u001b[0;32m----> 1\u001b[0;31m \u001b[0mcamera\u001b[0m\u001b[0;34m.\u001b[0m\u001b[0munobserve\u001b[0m\u001b[0;34m(\u001b[0m\u001b[0mupdate_image\u001b[0m\u001b[0;34m,\u001b[0m \u001b[0mnames\u001b[0m\u001b[0;34m=\u001b[0m\u001b[0;34m'value'\u001b[0m\u001b[0;34m)\u001b[0m\u001b[0;34m\u001b[0m\u001b[0;34m\u001b[0m\u001b[0m\n\u001b[0m",
      "\u001b[0;31mNameError\u001b[0m: name 'update_image' is not defined"
     ]
    }
   ],
   "source": [
    "camera.unobserve(update_image, names='value')"
   ]
  },
  {
   "cell_type": "code",
   "execution_count": 8,
   "metadata": {
    "ExecuteTime": {
     "end_time": "2023-04-30T21:06:34.001222Z",
     "start_time": "2023-04-30T21:06:33.699688Z"
    },
    "collapsed": false,
    "jupyter": {
     "outputs_hidden": false
    }
   },
   "outputs": [
    {
     "data": {
      "application/vnd.jupyter.widget-view+json": {
       "model_id": "a50e053be28444ada1d5625a54144fff",
       "version_major": 2,
       "version_minor": 0
      },
      "text/plain": [
       "Image(value=b'', format='jpeg')"
      ]
     },
     "metadata": {},
     "output_type": "display_data"
    }
   ],
   "source": [
    "display(image_widget)\n",
    "camera.running = True\n",
    "camera.observe(update_image, names='value')"
   ]
  },
  {
   "cell_type": "code",
   "execution_count": null,
   "metadata": {
    "ExecuteTime": {
     "end_time": "2023-04-30T17:27:58.083367Z",
     "start_time": "2023-04-30T17:27:58.066368Z"
    },
    "collapsed": false,
    "jupyter": {
     "outputs_hidden": false
    }
   },
   "outputs": [],
   "source": [
    "car.steering = 0.0"
   ]
  },
  {
   "cell_type": "code",
   "execution_count": null,
   "metadata": {
    "ExecuteTime": {
     "end_time": "2023-04-30T17:27:58.120367Z",
     "start_time": "2023-04-30T17:27:58.113369Z"
    },
    "collapsed": false,
    "jupyter": {
     "outputs_hidden": false
    }
   },
   "outputs": [],
   "source": [
    "car.throttle = -0.35"
   ]
  },
  {
   "cell_type": "code",
   "execution_count": null,
   "metadata": {
    "ExecuteTime": {
     "end_time": "2023-04-30T17:27:58.313368Z",
     "start_time": "2023-04-30T17:27:58.312366Z"
    },
    "collapsed": false,
    "jupyter": {
     "outputs_hidden": false
    }
   },
   "outputs": [],
   "source": [
    "car.throttle = 0\n"
   ]
  }
 ],
 "metadata": {
  "kernelspec": {
   "display_name": "Python 3",
   "language": "python",
   "name": "python3"
  },
  "language_info": {
   "codemirror_mode": {
    "name": "ipython",
    "version": 3
   },
   "file_extension": ".py",
   "mimetype": "text/x-python",
   "name": "python",
   "nbconvert_exporter": "python",
   "pygments_lexer": "ipython3",
   "version": "3.6.9"
  }
 },
 "nbformat": 4,
 "nbformat_minor": 4
}
